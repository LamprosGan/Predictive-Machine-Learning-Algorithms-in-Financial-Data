{
 "cells": [
  {
   "cell_type": "markdown",
   "metadata": {},
   "source": [
    "# Applying DeepLOB model to reproduce the prediction results of horizon 30 for FI - 2010 Dataset."
   ]
  },
  {
   "cell_type": "code",
   "execution_count": 1,
   "metadata": {},
   "outputs": [],
   "source": [
    "# Importing the libraries.\n",
    "\n",
    "import pandas as pd\n",
    "import numpy as np\n",
    "import keras\n",
    "from keras.models import  Model\n",
    "from keras.layers import  Dense, Input, LSTM, Reshape, Conv2D, MaxPooling2D\n",
    "from keras.utils import np_utils\n",
    "import tensorflow as tf\n",
    "from tensorflow.keras.callbacks import EarlyStopping\n",
    "\n",
    "from sklearn.metrics import classification_report, accuracy_score, confusion_matrix\n",
    "import matplotlib.pyplot as plt\n",
    "import seaborn as sns"
   ]
  },
  {
   "cell_type": "markdown",
   "metadata": {},
   "source": [
    "# Data preparation"
   ]
  },
  {
   "cell_type": "code",
   "execution_count": 2,
   "metadata": {},
   "outputs": [],
   "source": [
    "# Functions to prepare the data for the model.\n",
    "\n",
    "def prepare_x(data):\n",
    "    df1 = data[:40, :].T\n",
    "    return np.array(df1)\n",
    "\n",
    "def get_label(data):\n",
    "    lob = data[-5:, :].T\n",
    "    return lob\n",
    "\n",
    "def data_classification(X, Y, T):\n",
    "    [N, D] = X.shape\n",
    "    df = np.array(X)\n",
    "    dY = np.array(Y)\n",
    "    dataY = dY[T - 1:N]\n",
    "    dataX = np.zeros((N - T + 1, T, D))\n",
    "    for i in range(T, N + 1):\n",
    "        dataX[i - T] = df[i - T:i, :]\n",
    "    return dataX.reshape(dataX.shape + (1,)), dataY\n",
    "\n",
    "def prepare_x_y(data, k, T):\n",
    "    x = prepare_x(data)\n",
    "    y = get_label(data)\n",
    "    x, y = data_classification(x, y, T=T)\n",
    "    y = y[:,k] - 1\n",
    "    y = np_utils.to_categorical(y, 3)\n",
    "    return x, y"
   ]
  },
  {
   "cell_type": "code",
   "execution_count": 3,
   "metadata": {},
   "outputs": [
    {
     "name": "stdout",
     "output_type": "stream",
     "text": [
      "(203701, 100, 40, 1) (203701, 3)\n",
      "(50851, 100, 40, 1) (50851, 3)\n",
      "(139488, 100, 40, 1) (139488, 3)\n"
     ]
    }
   ],
   "source": [
    "# Load the data and prepare the training, validation and test sets.\n",
    "\n",
    "dec_data = np.loadtxt('Train_Dst_NoAuction_ZScore_CF_7.txt')\n",
    "dec_train = dec_data[:, :int(np.floor(dec_data.shape[1] * 0.8))]\n",
    "dec_val = dec_data[:, int(np.floor(dec_data.shape[1] * 0.8)):]\n",
    "\n",
    "dec_test1 = np.loadtxt('Test_Dst_NoAuction_ZScore_CF_7.txt')\n",
    "dec_test2 = np.loadtxt('Test_Dst_NoAuction_ZScore_CF_8.txt')\n",
    "dec_test3 = np.loadtxt('Test_Dst_NoAuction_ZScore_CF_9.txt')\n",
    "dec_test = np.hstack((dec_test1, dec_test2, dec_test3))\n",
    "\n",
    "k = 2 # Which horizon to use for prediction\n",
    "T = 100 # The input dimension (time steps)\n",
    "n_hiddens = 64\n",
    "checkpoint_filepath = './model_deeplob_k2/weights' # Where to save the model weights.\n",
    "\n",
    "trainX_CNN, trainY_CNN = prepare_x_y(dec_train, k, T)\n",
    "valX_CNN, valY_CNN = prepare_x_y(dec_val, k, T)\n",
    "testX_CNN, testY_CNN = prepare_x_y(dec_test, k, T)\n",
    "\n",
    "print(trainX_CNN.shape, trainY_CNN.shape)\n",
    "print(valX_CNN.shape, valY_CNN.shape)\n",
    "print(testX_CNN.shape, testY_CNN.shape)"
   ]
  },
  {
   "cell_type": "markdown",
   "metadata": {},
   "source": [
    "# Model Architecture"
   ]
  },
  {
   "cell_type": "code",
   "execution_count": 4,
   "metadata": {
    "scrolled": true
   },
   "outputs": [
    {
     "name": "stderr",
     "output_type": "stream",
     "text": [
      "2025-03-18 18:45:30.500259: I tensorflow/core/platform/cpu_feature_guard.cc:193] This TensorFlow binary is optimized with oneAPI Deep Neural Network Library (oneDNN) to use the following CPU instructions in performance-critical operations:  SSE4.1 SSE4.2\n",
      "To enable them in other operations, rebuild TensorFlow with the appropriate compiler flags.\n"
     ]
    },
    {
     "name": "stdout",
     "output_type": "stream",
     "text": [
      "Model: \"model\"\n",
      "__________________________________________________________________________________________________\n",
      " Layer (type)                   Output Shape         Param #     Connected to                     \n",
      "==================================================================================================\n",
      " input_1 (InputLayer)           [(None, 100, 40, 1)  0           []                               \n",
      "                                ]                                                                 \n",
      "                                                                                                  \n",
      " conv2d (Conv2D)                (None, 100, 20, 16)  48          ['input_1[0][0]']                \n",
      "                                                                                                  \n",
      " leaky_re_lu (LeakyReLU)        (None, 100, 20, 16)  0           ['conv2d[0][0]']                 \n",
      "                                                                                                  \n",
      " conv2d_1 (Conv2D)              (None, 100, 20, 16)  1040        ['leaky_re_lu[0][0]']            \n",
      "                                                                                                  \n",
      " leaky_re_lu_1 (LeakyReLU)      (None, 100, 20, 16)  0           ['conv2d_1[0][0]']               \n",
      "                                                                                                  \n",
      " conv2d_2 (Conv2D)              (None, 100, 20, 16)  1040        ['leaky_re_lu_1[0][0]']          \n",
      "                                                                                                  \n",
      " leaky_re_lu_2 (LeakyReLU)      (None, 100, 20, 16)  0           ['conv2d_2[0][0]']               \n",
      "                                                                                                  \n",
      " conv2d_3 (Conv2D)              (None, 100, 10, 16)  528         ['leaky_re_lu_2[0][0]']          \n",
      "                                                                                                  \n",
      " leaky_re_lu_3 (LeakyReLU)      (None, 100, 10, 16)  0           ['conv2d_3[0][0]']               \n",
      "                                                                                                  \n",
      " conv2d_4 (Conv2D)              (None, 100, 10, 16)  1040        ['leaky_re_lu_3[0][0]']          \n",
      "                                                                                                  \n",
      " leaky_re_lu_4 (LeakyReLU)      (None, 100, 10, 16)  0           ['conv2d_4[0][0]']               \n",
      "                                                                                                  \n",
      " conv2d_5 (Conv2D)              (None, 100, 10, 16)  1040        ['leaky_re_lu_4[0][0]']          \n",
      "                                                                                                  \n",
      " leaky_re_lu_5 (LeakyReLU)      (None, 100, 10, 16)  0           ['conv2d_5[0][0]']               \n",
      "                                                                                                  \n",
      " conv2d_6 (Conv2D)              (None, 100, 1, 16)   2576        ['leaky_re_lu_5[0][0]']          \n",
      "                                                                                                  \n",
      " leaky_re_lu_6 (LeakyReLU)      (None, 100, 1, 16)   0           ['conv2d_6[0][0]']               \n",
      "                                                                                                  \n",
      " conv2d_7 (Conv2D)              (None, 100, 1, 16)   1040        ['leaky_re_lu_6[0][0]']          \n",
      "                                                                                                  \n",
      " leaky_re_lu_7 (LeakyReLU)      (None, 100, 1, 16)   0           ['conv2d_7[0][0]']               \n",
      "                                                                                                  \n",
      " conv2d_8 (Conv2D)              (None, 100, 1, 16)   1040        ['leaky_re_lu_7[0][0]']          \n",
      "                                                                                                  \n",
      " leaky_re_lu_8 (LeakyReLU)      (None, 100, 1, 16)   0           ['conv2d_8[0][0]']               \n",
      "                                                                                                  \n",
      " conv2d_9 (Conv2D)              (None, 100, 1, 32)   544         ['leaky_re_lu_8[0][0]']          \n",
      "                                                                                                  \n",
      " conv2d_11 (Conv2D)             (None, 100, 1, 32)   544         ['leaky_re_lu_8[0][0]']          \n",
      "                                                                                                  \n",
      " leaky_re_lu_9 (LeakyReLU)      (None, 100, 1, 32)   0           ['conv2d_9[0][0]']               \n",
      "                                                                                                  \n",
      " leaky_re_lu_11 (LeakyReLU)     (None, 100, 1, 32)   0           ['conv2d_11[0][0]']              \n",
      "                                                                                                  \n",
      " max_pooling2d (MaxPooling2D)   (None, 100, 1, 16)   0           ['leaky_re_lu_8[0][0]']          \n",
      "                                                                                                  \n",
      " conv2d_10 (Conv2D)             (None, 100, 1, 32)   3104        ['leaky_re_lu_9[0][0]']          \n",
      "                                                                                                  \n",
      " conv2d_12 (Conv2D)             (None, 100, 1, 32)   5152        ['leaky_re_lu_11[0][0]']         \n",
      "                                                                                                  \n",
      " conv2d_13 (Conv2D)             (None, 100, 1, 32)   544         ['max_pooling2d[0][0]']          \n",
      "                                                                                                  \n",
      " leaky_re_lu_10 (LeakyReLU)     (None, 100, 1, 32)   0           ['conv2d_10[0][0]']              \n",
      "                                                                                                  \n",
      " leaky_re_lu_12 (LeakyReLU)     (None, 100, 1, 32)   0           ['conv2d_12[0][0]']              \n",
      "                                                                                                  \n",
      " leaky_re_lu_13 (LeakyReLU)     (None, 100, 1, 32)   0           ['conv2d_13[0][0]']              \n",
      "                                                                                                  \n",
      " concatenate (Concatenate)      (None, 100, 1, 96)   0           ['leaky_re_lu_10[0][0]',         \n",
      "                                                                  'leaky_re_lu_12[0][0]',         \n",
      "                                                                  'leaky_re_lu_13[0][0]']         \n",
      "                                                                                                  \n",
      " reshape (Reshape)              (None, 100, 96)      0           ['concatenate[0][0]']            \n",
      "                                                                                                  \n",
      " dropout (Dropout)              (None, 100, 96)      0           ['reshape[0][0]']                \n",
      "                                                                                                  \n",
      " lstm (LSTM)                    (None, 64)           41216       ['dropout[0][0]']                \n",
      "                                                                                                  \n",
      " dense (Dense)                  (None, 3)            195         ['lstm[0][0]']                   \n",
      "                                                                                                  \n",
      "==================================================================================================\n",
      "Total params: 60,691\n",
      "Trainable params: 60,691\n",
      "Non-trainable params: 0\n",
      "__________________________________________________________________________________________________\n"
     ]
    },
    {
     "name": "stderr",
     "output_type": "stream",
     "text": [
      "/Users/lamprosganias/opt/anaconda3/envs/ML/lib/python3.10/site-packages/keras/optimizers/optimizer_v2/adam.py:110: UserWarning: The `lr` argument is deprecated, use `learning_rate` instead.\n",
      "  super(Adam, self).__init__(name, **kwargs)\n"
     ]
    }
   ],
   "source": [
    "def create_deeplob(T, NF, number_of_lstm):\n",
    "    input_lmd = Input(shape=(T, NF, 1))\n",
    "    \n",
    "    # build the convolutional block\n",
    "    conv_first1 = Conv2D(16, (1, 2), strides=(1, 2))(input_lmd)\n",
    "    conv_first1 = keras.layers.LeakyReLU(alpha=0.01)(conv_first1)\n",
    "    conv_first1 = Conv2D(16, (4, 1), padding='same')(conv_first1)\n",
    "    conv_first1 = keras.layers.LeakyReLU(alpha=0.01)(conv_first1)\n",
    "    conv_first1 = Conv2D(16, (4, 1), padding='same')(conv_first1)\n",
    "    conv_first1 = keras.layers.LeakyReLU(alpha=0.01)(conv_first1)\n",
    "\n",
    "    conv_first1 = Conv2D(16, (1, 2), strides=(1, 2))(conv_first1)\n",
    "    conv_first1 = keras.layers.LeakyReLU(alpha=0.01)(conv_first1)\n",
    "    conv_first1 = Conv2D(16, (4, 1), padding='same')(conv_first1)\n",
    "    conv_first1 = keras.layers.LeakyReLU(alpha=0.01)(conv_first1)\n",
    "    conv_first1 = Conv2D(16, (4, 1), padding='same')(conv_first1)\n",
    "    conv_first1 = keras.layers.LeakyReLU(alpha=0.01)(conv_first1)\n",
    "\n",
    "    conv_first1 = Conv2D(16, (1, 10))(conv_first1)\n",
    "    conv_first1 = keras.layers.LeakyReLU(alpha=0.01)(conv_first1)\n",
    "    conv_first1 = Conv2D(16, (4, 1), padding='same')(conv_first1)\n",
    "    conv_first1 = keras.layers.LeakyReLU(alpha=0.01)(conv_first1)\n",
    "    conv_first1 = Conv2D(16, (4, 1), padding='same')(conv_first1)\n",
    "    conv_first1 = keras.layers.LeakyReLU(alpha=0.01)(conv_first1)\n",
    "    \n",
    "    # build the inception module\n",
    "    convsecond_1 = Conv2D(32, (1, 1), padding='same')(conv_first1)\n",
    "    convsecond_1 = keras.layers.LeakyReLU(alpha=0.01)(convsecond_1)\n",
    "    convsecond_1 = Conv2D(32, (3, 1), padding='same')(convsecond_1)\n",
    "    convsecond_1 = keras.layers.LeakyReLU(alpha=0.01)(convsecond_1)\n",
    "\n",
    "    convsecond_2 = Conv2D(32, (1, 1), padding='same')(conv_first1)\n",
    "    convsecond_2 = keras.layers.LeakyReLU(alpha=0.01)(convsecond_2)\n",
    "    convsecond_2 = Conv2D(32, (5, 1), padding='same')(convsecond_2)\n",
    "    convsecond_2 = keras.layers.LeakyReLU(alpha=0.01)(convsecond_2)\n",
    "\n",
    "    convsecond_3 = MaxPooling2D((3, 1), strides=(1, 1), padding='same')(conv_first1)\n",
    "    convsecond_3 = Conv2D(32, (1, 1), padding='same')(convsecond_3)\n",
    "    convsecond_3 = keras.layers.LeakyReLU(alpha=0.01)(convsecond_3)\n",
    "    \n",
    "    convsecond_output = keras.layers.concatenate([convsecond_1, convsecond_2, convsecond_3], axis=3)\n",
    "    conv_reshape = Reshape((int(convsecond_output.shape[1]), int(convsecond_output.shape[3])))(convsecond_output)\n",
    "    conv_reshape = keras.layers.Dropout(0.2, noise_shape=(None, 1, int(conv_reshape.shape[2])))(conv_reshape, training=True)\n",
    "\n",
    "    # build the last LSTM layer\n",
    "    conv_lstm = LSTM(number_of_lstm)(conv_reshape)\n",
    "\n",
    "    # build the output layer\n",
    "    out = Dense(3, activation='softmax')(conv_lstm)\n",
    "    model = Model(inputs=input_lmd, outputs=out)\n",
    "    adam = keras.optimizers.Adam(lr=0.0001)\n",
    "    model.compile(optimizer=adam, loss='categorical_crossentropy', metrics=['accuracy'])\n",
    "\n",
    "    return model\n",
    "\n",
    "deeplob = create_deeplob(trainX_CNN.shape[1], trainX_CNN.shape[2], n_hiddens)\n",
    "deeplob.summary()"
   ]
  },
  {
   "cell_type": "markdown",
   "metadata": {},
   "source": [
    "# Model Training"
   ]
  },
  {
   "cell_type": "code",
   "execution_count": null,
   "metadata": {
    "scrolled": true
   },
   "outputs": [
    {
     "name": "stdout",
     "output_type": "stream",
     "text": [
      "Epoch 1/100\n",
      "6366/6366 [==============================] - 441s 69ms/step - loss: 0.9497 - accuracy: 0.5200 - val_loss: 0.9324 - val_accuracy: 0.5280\n",
      "Epoch 2/100\n",
      "6366/6366 [==============================] - 442s 69ms/step - loss: 0.8575 - accuracy: 0.6075 - val_loss: 0.9354 - val_accuracy: 0.5464\n",
      "Epoch 3/100\n",
      "6366/6366 [==============================] - 455s 71ms/step - loss: 0.8071 - accuracy: 0.6470 - val_loss: 0.8769 - val_accuracy: 0.5883\n",
      "Epoch 4/100\n",
      "6366/6366 [==============================] - 457s 72ms/step - loss: 0.7864 - accuracy: 0.6584 - val_loss: 0.8603 - val_accuracy: 0.6022\n",
      "Epoch 5/100\n",
      "6366/6366 [==============================] - 460s 72ms/step - loss: 0.7695 - accuracy: 0.6695 - val_loss: 0.8551 - val_accuracy: 0.6042\n",
      "Epoch 6/100\n",
      "6366/6366 [==============================] - 465s 73ms/step - loss: 0.7553 - accuracy: 0.6766 - val_loss: 0.8378 - val_accuracy: 0.6182\n",
      "Epoch 7/100\n",
      "6366/6366 [==============================] - 457s 72ms/step - loss: 0.7426 - accuracy: 0.6834 - val_loss: 0.8519 - val_accuracy: 0.6134\n",
      "Epoch 8/100\n",
      "6366/6366 [==============================] - 459s 72ms/step - loss: 0.7321 - accuracy: 0.6882 - val_loss: 0.8367 - val_accuracy: 0.6164\n",
      "Epoch 9/100\n",
      "6366/6366 [==============================] - 458s 72ms/step - loss: 0.7227 - accuracy: 0.6928 - val_loss: 0.8297 - val_accuracy: 0.6226\n",
      "Epoch 10/100\n",
      "6366/6366 [==============================] - 456s 72ms/step - loss: 0.7156 - accuracy: 0.6963 - val_loss: 0.8150 - val_accuracy: 0.6327\n",
      "Epoch 11/100\n",
      "6366/6366 [==============================] - 455s 72ms/step - loss: 0.7090 - accuracy: 0.7003 - val_loss: 0.8148 - val_accuracy: 0.6335\n",
      "Epoch 12/100\n",
      "6366/6366 [==============================] - 459s 72ms/step - loss: 0.7034 - accuracy: 0.7020 - val_loss: 0.8133 - val_accuracy: 0.6331\n",
      "Epoch 13/100\n",
      "6366/6366 [==============================] - 463s 73ms/step - loss: 0.6985 - accuracy: 0.7049 - val_loss: 0.8256 - val_accuracy: 0.6259\n",
      "Epoch 14/100\n",
      "6366/6366 [==============================] - 463s 73ms/step - loss: 0.6948 - accuracy: 0.7069 - val_loss: 0.8029 - val_accuracy: 0.6425\n",
      "Epoch 15/100\n",
      "6366/6366 [==============================] - 463s 73ms/step - loss: 0.6906 - accuracy: 0.7085 - val_loss: 0.8035 - val_accuracy: 0.6408\n",
      "Epoch 16/100\n",
      "6366/6366 [==============================] - 469s 74ms/step - loss: 0.6864 - accuracy: 0.7111 - val_loss: 0.7995 - val_accuracy: 0.6462\n",
      "Epoch 17/100\n",
      "6366/6366 [==============================] - 469s 74ms/step - loss: 0.6835 - accuracy: 0.7118 - val_loss: 0.7972 - val_accuracy: 0.6464\n",
      "Epoch 18/100\n",
      "6366/6366 [==============================] - 467s 73ms/step - loss: 0.6804 - accuracy: 0.7133 - val_loss: 0.8033 - val_accuracy: 0.6461\n",
      "Epoch 19/100\n",
      "6366/6366 [==============================] - 467s 73ms/step - loss: 0.6785 - accuracy: 0.7146 - val_loss: 0.8002 - val_accuracy: 0.6455\n",
      "Epoch 20/100\n",
      "6366/6366 [==============================] - 473s 74ms/step - loss: 0.6753 - accuracy: 0.7162 - val_loss: 0.7976 - val_accuracy: 0.6495\n",
      "Epoch 21/100\n",
      "6366/6366 [==============================] - 471s 74ms/step - loss: 0.6727 - accuracy: 0.7181 - val_loss: 0.8138 - val_accuracy: 0.6400\n",
      "Epoch 22/100\n",
      "6366/6366 [==============================] - 474s 74ms/step - loss: 0.6709 - accuracy: 0.7178 - val_loss: 0.8028 - val_accuracy: 0.6444\n",
      "Epoch 23/100\n",
      "6366/6366 [==============================] - 467s 73ms/step - loss: 0.6683 - accuracy: 0.7196 - val_loss: 0.7887 - val_accuracy: 0.6517\n",
      "Epoch 24/100\n",
      "6366/6366 [==============================] - 469s 74ms/step - loss: 0.6666 - accuracy: 0.7195 - val_loss: 0.7926 - val_accuracy: 0.6520\n",
      "Epoch 25/100\n",
      "6366/6366 [==============================] - 469s 74ms/step - loss: 0.6645 - accuracy: 0.7215 - val_loss: 0.7915 - val_accuracy: 0.6518\n",
      "Epoch 26/100\n",
      "6366/6366 [==============================] - 468s 74ms/step - loss: 0.6623 - accuracy: 0.7222 - val_loss: 0.7854 - val_accuracy: 0.6550\n",
      "Epoch 27/100\n",
      "6366/6366 [==============================] - 469s 74ms/step - loss: 0.6610 - accuracy: 0.7226 - val_loss: 0.8052 - val_accuracy: 0.6488\n",
      "Epoch 28/100\n",
      "6366/6366 [==============================] - 473s 74ms/step - loss: 0.6592 - accuracy: 0.7238 - val_loss: 0.7845 - val_accuracy: 0.6541\n",
      "Epoch 29/100\n",
      "6366/6366 [==============================] - 471s 74ms/step - loss: 0.6576 - accuracy: 0.7236 - val_loss: 0.7870 - val_accuracy: 0.6552\n",
      "Epoch 30/100\n",
      "6366/6366 [==============================] - 469s 74ms/step - loss: 0.6557 - accuracy: 0.7251 - val_loss: 0.7850 - val_accuracy: 0.6559\n",
      "Epoch 31/100\n",
      "6366/6366 [==============================] - 467s 73ms/step - loss: 0.6544 - accuracy: 0.7260 - val_loss: 0.7892 - val_accuracy: 0.6514\n",
      "Epoch 32/100\n",
      "6366/6366 [==============================] - 470s 74ms/step - loss: 0.6528 - accuracy: 0.7263 - val_loss: 0.7851 - val_accuracy: 0.6567\n",
      "Epoch 33/100\n",
      "6366/6366 [==============================] - 469s 74ms/step - loss: 0.6513 - accuracy: 0.7270 - val_loss: 0.7965 - val_accuracy: 0.6509\n",
      "Epoch 34/100\n",
      "6366/6366 [==============================] - 466s 73ms/step - loss: 0.6494 - accuracy: 0.7280 - val_loss: 0.7865 - val_accuracy: 0.6571\n",
      "Epoch 35/100\n",
      "6366/6366 [==============================] - 468s 74ms/step - loss: 0.6478 - accuracy: 0.7289 - val_loss: 0.7840 - val_accuracy: 0.6567\n",
      "Epoch 36/100\n",
      "6366/6366 [==============================] - 471s 74ms/step - loss: 0.6465 - accuracy: 0.7290 - val_loss: 0.7907 - val_accuracy: 0.6521\n",
      "Epoch 37/100\n",
      "6366/6366 [==============================] - 477s 75ms/step - loss: 0.6451 - accuracy: 0.7298 - val_loss: 0.7793 - val_accuracy: 0.6586\n",
      "Epoch 38/100\n",
      "6366/6366 [==============================] - 468s 74ms/step - loss: 0.6439 - accuracy: 0.7302 - val_loss: 0.7850 - val_accuracy: 0.6560\n",
      "Epoch 39/100\n",
      "6366/6366 [==============================] - 470s 74ms/step - loss: 0.6430 - accuracy: 0.7315 - val_loss: 0.7831 - val_accuracy: 0.6590\n",
      "Epoch 40/100\n",
      "6366/6366 [==============================] - 468s 74ms/step - loss: 0.6413 - accuracy: 0.7315 - val_loss: 0.7858 - val_accuracy: 0.6555\n",
      "Epoch 41/100\n",
      "6366/6366 [==============================] - 475s 75ms/step - loss: 0.6399 - accuracy: 0.7323 - val_loss: 0.7838 - val_accuracy: 0.6588\n",
      "Epoch 42/100\n",
      "6366/6366 [==============================] - 475s 75ms/step - loss: 0.6384 - accuracy: 0.7334 - val_loss: 0.7848 - val_accuracy: 0.6580\n",
      "Epoch 43/100\n",
      "6366/6366 [==============================] - 481s 76ms/step - loss: 0.6368 - accuracy: 0.7339 - val_loss: 0.7877 - val_accuracy: 0.6575\n",
      "Epoch 44/100\n",
      "6366/6366 [==============================] - 495s 78ms/step - loss: 0.6357 - accuracy: 0.7342 - val_loss: 0.7866 - val_accuracy: 0.6577\n"
     ]
    },
    {
     "data": {
      "text/plain": [
       "<keras.callbacks.History at 0x7fe660232fe0>"
      ]
     },
     "execution_count": 14,
     "metadata": {},
     "output_type": "execute_result"
    }
   ],
   "source": [
    "early_stopping = EarlyStopping(monitor='val_loss', patience=7, restore_best_weights=True)\n",
    "\n",
    "\n",
    "model_checkpoint_callback = tf.keras.callbacks.ModelCheckpoint(\n",
    "    filepath=checkpoint_filepath,\n",
    "    save_weights_only=True,\n",
    "    monitor='val_loss',\n",
    "    mode='auto',\n",
    "    save_best_only=True)\n",
    "\n",
    "deeplob.fit(trainX_CNN, trainY_CNN, validation_data=(valX_CNN, valY_CNN), \n",
    "            epochs=100, batch_size=32, verbose=1, callbacks=[model_checkpoint_callback,early_stopping])"
   ]
  },
  {
   "cell_type": "markdown",
   "metadata": {},
   "source": [
    "# Model Testing"
   ]
  },
  {
   "cell_type": "code",
   "execution_count": 15,
   "metadata": {},
   "outputs": [
    {
     "name": "stdout",
     "output_type": "stream",
     "text": [
      "4359/4359 [==============================] - 102s 23ms/step\n"
     ]
    }
   ],
   "source": [
    "deeplob.load_weights(checkpoint_filepath)\n",
    "pred = deeplob.predict(testX_CNN)"
   ]
  },
  {
   "cell_type": "code",
   "execution_count": 16,
   "metadata": {},
   "outputs": [
    {
     "name": "stdout",
     "output_type": "stream",
     "text": [
      "accuracy_score: 0.7616999311768754\n",
      "              precision    recall  f1-score   support\n",
      "\n",
      "           0     0.6961    0.6205    0.6561     31888\n",
      "           1     0.8029    0.8825    0.8408     78297\n",
      "           2     0.6944    0.5926    0.6395     29303\n",
      "\n",
      "    accuracy                         0.7617    139488\n",
      "   macro avg     0.7312    0.6985    0.7121    139488\n",
      "weighted avg     0.7557    0.7617    0.7563    139488\n",
      "\n"
     ]
    }
   ],
   "source": [
    "print('accuracy_score:', accuracy_score(np.argmax(testY_CNN, axis=1), np.argmax(pred, axis=1)))\n",
    "print(classification_report(np.argmax(testY_CNN, axis=1), np.argmax(pred, axis=1), digits=4))"
   ]
  },
  {
   "cell_type": "code",
   "execution_count": null,
   "metadata": {},
   "outputs": [
    {
     "data": {
      "image/png": "[encoded data removed]",
      "text/plain": [
       "<Figure size 1000x700 with 2 Axes>"
      ]
     },
     "metadata": {},
     "output_type": "display_data"
    }
   ],
   "source": [
    "# Convert one-hot encoded vectors to class labels\n",
    "true_labels = np.argmax(testY_CNN, axis=1)\n",
    "predicted_labels = np.argmax(pred, axis=1)\n",
    "\n",
    "# Compute the confusion matrix\n",
    "conf_matrix = confusion_matrix(true_labels, predicted_labels)\n",
    "\n",
    "\n",
    "# Plotting using seaborn\n",
    "plt.figure(figsize=(10, 7))\n",
    "sns.heatmap(conf_matrix, annot=True, fmt=\"d\", cmap=\"Blues\", xticklabels=[0, 1, 2], yticklabels=[0, 1, 2])\n",
    "plt.title('Confusion Matrix')\n",
    "plt.ylabel('True Label')\n",
    "plt.xlabel('Predicted Label')\n",
    "plt.show()"
   ]
  }
 ],
 "metadata": {
  "kernelspec": {
   "display_name": "ML",
   "language": "python",
   "name": "python3"
  },
  "language_info": {
   "codemirror_mode": {
    "name": "ipython",
    "version": 3
   },
   "file_extension": ".py",
   "mimetype": "text/x-python",
   "name": "python",
   "nbconvert_exporter": "python",
   "pygments_lexer": "ipython3",
   "version": "3.10.6"
  }
 },
 "nbformat": 4,
 "nbformat_minor": 2
}
