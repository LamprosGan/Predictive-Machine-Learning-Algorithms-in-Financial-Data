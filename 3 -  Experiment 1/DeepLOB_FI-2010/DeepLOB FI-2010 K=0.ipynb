{
 "cells": [
  {
   "cell_type": "markdown",
   "metadata": {},
   "source": [
    "# Applying DeepLOB model to reproduce the prediction results of horizon 10 for FI - 2010 Dataset."
   ]
  },
  {
   "cell_type": "code",
   "execution_count": null,
   "metadata": {},
   "outputs": [],
   "source": [
    "# Importing the libraries.\n",
    "\n",
    "import pandas as pd\n",
    "import numpy as np\n",
    "import keras\n",
    "from keras.models import  Model\n",
    "from keras.layers import  Dense, Input, LSTM, Reshape, Conv2D, MaxPooling2D\n",
    "from keras.utils import np_utils\n",
    "import tensorflow as tf\n",
    "from tensorflow.keras.callbacks import EarlyStopping\n",
    "\n",
    "from sklearn.metrics import classification_report, accuracy_score, confusion_matrix\n",
    "import matplotlib.pyplot as plt\n",
    "import seaborn as sns"
   ]
  },
  {
   "cell_type": "markdown",
   "metadata": {},
   "source": [
    "# Data preparation"
   ]
  },
  {
   "cell_type": "code",
   "execution_count": null,
   "metadata": {},
   "outputs": [],
   "source": [
    "# Functions to prepare the data for the model.\n",
    "\n",
    "def prepare_x(data):\n",
    "    df1 = data[:40, :].T\n",
    "    return np.array(df1)\n",
    "\n",
    "def get_label(data):\n",
    "    lob = data[-5:, :].T\n",
    "    return lob\n",
    "\n",
    "def data_classification(X, Y, T):\n",
    "    [N, D] = X.shape\n",
    "    df = np.array(X)\n",
    "    dY = np.array(Y)\n",
    "    dataY = dY[T - 1:N]\n",
    "    dataX = np.zeros((N - T + 1, T, D))\n",
    "    for i in range(T, N + 1):\n",
    "        dataX[i - T] = df[i - T:i, :]\n",
    "    return dataX.reshape(dataX.shape + (1,)), dataY\n",
    "\n",
    "def prepare_x_y(data, k, T):\n",
    "    x = prepare_x(data)\n",
    "    y = get_label(data)\n",
    "    x, y = data_classification(x, y, T=T)\n",
    "    y = y[:,k] - 1\n",
    "    y = np_utils.to_categorical(y, 3)\n",
    "    return x, y"
   ]
  },
  {
   "cell_type": "code",
   "execution_count": null,
   "metadata": {},
   "outputs": [
    {
     "name": "stdout",
     "output_type": "stream",
     "text": [
      "(203701, 100, 40, 1) (203701, 3)\n",
      "(50851, 100, 40, 1) (50851, 3)\n",
      "(139488, 100, 40, 1) (139488, 3)\n"
     ]
    }
   ],
   "source": [
    "# Load the data and prepare the training, validation and test sets.\n",
    "dec_data = np.loadtxt('Train_Dst_NoAuction_ZScore_CF_7.txt')\n",
    "dec_train = dec_data[:, :int(np.floor(dec_data.shape[1] * 0.8))]\n",
    "dec_val = dec_data[:, int(np.floor(dec_data.shape[1] * 0.8)):]\n",
    "\n",
    "dec_test1 = np.loadtxt('Test_Dst_NoAuction_ZScore_CF_7.txt')\n",
    "dec_test2 = np.loadtxt('Test_Dst_NoAuction_ZScore_CF_8.txt')\n",
    "dec_test3 = np.loadtxt('Test_Dst_NoAuction_ZScore_CF_9.txt')\n",
    "dec_test = np.hstack((dec_test1, dec_test2, dec_test3))\n",
    "\n",
    "k = 0 # Which horizon to use for prediction\n",
    "T = 100 # The input dimension (time steps)\n",
    "n_hiddens = 64\n",
    "checkpoint_filepath = './model_deeplob_k0/weights' # Where to save the model weights.\n",
    "\n",
    "trainX_CNN, trainY_CNN = prepare_x_y(dec_train, k, T)\n",
    "valX_CNN, valY_CNN = prepare_x_y(dec_val, k, T)\n",
    "testX_CNN, testY_CNN = prepare_x_y(dec_test, k, T)\n",
    "\n",
    "print(trainX_CNN.shape, trainY_CNN.shape)\n",
    "print(valX_CNN.shape, valY_CNN.shape)\n",
    "print(testX_CNN.shape, testY_CNN.shape)"
   ]
  },
  {
   "cell_type": "markdown",
   "metadata": {},
   "source": [
    "# Model Architecture"
   ]
  },
  {
   "cell_type": "code",
   "execution_count": 4,
   "metadata": {
    "scrolled": true
   },
   "outputs": [
    {
     "name": "stderr",
     "output_type": "stream",
     "text": [
      "2024-08-06 11:56:03.111567: I tensorflow/core/platform/cpu_feature_guard.cc:193] This TensorFlow binary is optimized with oneAPI Deep Neural Network Library (oneDNN) to use the following CPU instructions in performance-critical operations:  SSE4.1 SSE4.2\n",
      "To enable them in other operations, rebuild TensorFlow with the appropriate compiler flags.\n"
     ]
    },
    {
     "name": "stdout",
     "output_type": "stream",
     "text": [
      "Model: \"model\"\n",
      "__________________________________________________________________________________________________\n",
      " Layer (type)                   Output Shape         Param #     Connected to                     \n",
      "==================================================================================================\n",
      " input_1 (InputLayer)           [(None, 100, 40, 1)  0           []                               \n",
      "                                ]                                                                 \n",
      "                                                                                                  \n",
      " conv2d (Conv2D)                (None, 100, 20, 16)  48          ['input_1[0][0]']                \n",
      "                                                                                                  \n",
      " leaky_re_lu (LeakyReLU)        (None, 100, 20, 16)  0           ['conv2d[0][0]']                 \n",
      "                                                                                                  \n",
      " conv2d_1 (Conv2D)              (None, 100, 20, 16)  1040        ['leaky_re_lu[0][0]']            \n",
      "                                                                                                  \n",
      " leaky_re_lu_1 (LeakyReLU)      (None, 100, 20, 16)  0           ['conv2d_1[0][0]']               \n",
      "                                                                                                  \n",
      " conv2d_2 (Conv2D)              (None, 100, 20, 16)  1040        ['leaky_re_lu_1[0][0]']          \n",
      "                                                                                                  \n",
      " leaky_re_lu_2 (LeakyReLU)      (None, 100, 20, 16)  0           ['conv2d_2[0][0]']               \n",
      "                                                                                                  \n",
      " conv2d_3 (Conv2D)              (None, 100, 10, 16)  528         ['leaky_re_lu_2[0][0]']          \n",
      "                                                                                                  \n",
      " leaky_re_lu_3 (LeakyReLU)      (None, 100, 10, 16)  0           ['conv2d_3[0][0]']               \n",
      "                                                                                                  \n",
      " conv2d_4 (Conv2D)              (None, 100, 10, 16)  1040        ['leaky_re_lu_3[0][0]']          \n",
      "                                                                                                  \n",
      " leaky_re_lu_4 (LeakyReLU)      (None, 100, 10, 16)  0           ['conv2d_4[0][0]']               \n",
      "                                                                                                  \n",
      " conv2d_5 (Conv2D)              (None, 100, 10, 16)  1040        ['leaky_re_lu_4[0][0]']          \n",
      "                                                                                                  \n",
      " leaky_re_lu_5 (LeakyReLU)      (None, 100, 10, 16)  0           ['conv2d_5[0][0]']               \n",
      "                                                                                                  \n",
      " conv2d_6 (Conv2D)              (None, 100, 1, 16)   2576        ['leaky_re_lu_5[0][0]']          \n",
      "                                                                                                  \n",
      " leaky_re_lu_6 (LeakyReLU)      (None, 100, 1, 16)   0           ['conv2d_6[0][0]']               \n",
      "                                                                                                  \n",
      " conv2d_7 (Conv2D)              (None, 100, 1, 16)   1040        ['leaky_re_lu_6[0][0]']          \n",
      "                                                                                                  \n",
      " leaky_re_lu_7 (LeakyReLU)      (None, 100, 1, 16)   0           ['conv2d_7[0][0]']               \n",
      "                                                                                                  \n",
      " conv2d_8 (Conv2D)              (None, 100, 1, 16)   1040        ['leaky_re_lu_7[0][0]']          \n",
      "                                                                                                  \n",
      " leaky_re_lu_8 (LeakyReLU)      (None, 100, 1, 16)   0           ['conv2d_8[0][0]']               \n",
      "                                                                                                  \n",
      " conv2d_9 (Conv2D)              (None, 100, 1, 32)   544         ['leaky_re_lu_8[0][0]']          \n",
      "                                                                                                  \n",
      " conv2d_11 (Conv2D)             (None, 100, 1, 32)   544         ['leaky_re_lu_8[0][0]']          \n",
      "                                                                                                  \n",
      " leaky_re_lu_9 (LeakyReLU)      (None, 100, 1, 32)   0           ['conv2d_9[0][0]']               \n",
      "                                                                                                  \n",
      " leaky_re_lu_11 (LeakyReLU)     (None, 100, 1, 32)   0           ['conv2d_11[0][0]']              \n",
      "                                                                                                  \n",
      " max_pooling2d (MaxPooling2D)   (None, 100, 1, 16)   0           ['leaky_re_lu_8[0][0]']          \n",
      "                                                                                                  \n",
      " conv2d_10 (Conv2D)             (None, 100, 1, 32)   3104        ['leaky_re_lu_9[0][0]']          \n",
      "                                                                                                  \n",
      " conv2d_12 (Conv2D)             (None, 100, 1, 32)   5152        ['leaky_re_lu_11[0][0]']         \n",
      "                                                                                                  \n",
      " conv2d_13 (Conv2D)             (None, 100, 1, 32)   544         ['max_pooling2d[0][0]']          \n",
      "                                                                                                  \n",
      " leaky_re_lu_10 (LeakyReLU)     (None, 100, 1, 32)   0           ['conv2d_10[0][0]']              \n",
      "                                                                                                  \n",
      " leaky_re_lu_12 (LeakyReLU)     (None, 100, 1, 32)   0           ['conv2d_12[0][0]']              \n",
      "                                                                                                  \n",
      " leaky_re_lu_13 (LeakyReLU)     (None, 100, 1, 32)   0           ['conv2d_13[0][0]']              \n",
      "                                                                                                  \n",
      " concatenate (Concatenate)      (None, 100, 1, 96)   0           ['leaky_re_lu_10[0][0]',         \n",
      "                                                                  'leaky_re_lu_12[0][0]',         \n",
      "                                                                  'leaky_re_lu_13[0][0]']         \n",
      "                                                                                                  \n",
      " reshape (Reshape)              (None, 100, 96)      0           ['concatenate[0][0]']            \n",
      "                                                                                                  \n",
      " dropout (Dropout)              (None, 100, 96)      0           ['reshape[0][0]']                \n",
      "                                                                                                  \n",
      " lstm (LSTM)                    (None, 64)           41216       ['dropout[0][0]']                \n",
      "                                                                                                  \n",
      " dense (Dense)                  (None, 3)            195         ['lstm[0][0]']                   \n",
      "                                                                                                  \n",
      "==================================================================================================\n",
      "Total params: 60,691\n",
      "Trainable params: 60,691\n",
      "Non-trainable params: 0\n",
      "__________________________________________________________________________________________________\n"
     ]
    },
    {
     "name": "stderr",
     "output_type": "stream",
     "text": [
      "/Users/lamprosganias/opt/anaconda3/envs/ML/lib/python3.10/site-packages/keras/optimizers/optimizer_v2/adam.py:110: UserWarning: The `lr` argument is deprecated, use `learning_rate` instead.\n",
      "  super(Adam, self).__init__(name, **kwargs)\n"
     ]
    }
   ],
   "source": [
    "def create_deeplob(T, NF, number_of_lstm):\n",
    "    input_lmd = Input(shape=(T, NF, 1))\n",
    "    \n",
    "    # build the convolutional block\n",
    "    conv_first1 = Conv2D(16, (1, 2), strides=(1, 2))(input_lmd)\n",
    "    conv_first1 = keras.layers.LeakyReLU(alpha=0.01)(conv_first1)\n",
    "    conv_first1 = Conv2D(16, (4, 1), padding='same')(conv_first1)\n",
    "    conv_first1 = keras.layers.LeakyReLU(alpha=0.01)(conv_first1)\n",
    "    conv_first1 = Conv2D(16, (4, 1), padding='same')(conv_first1)\n",
    "    conv_first1 = keras.layers.LeakyReLU(alpha=0.01)(conv_first1)\n",
    "\n",
    "    conv_first1 = Conv2D(16, (1, 2), strides=(1, 2))(conv_first1)\n",
    "    conv_first1 = keras.layers.LeakyReLU(alpha=0.01)(conv_first1)\n",
    "    conv_first1 = Conv2D(16, (4, 1), padding='same')(conv_first1)\n",
    "    conv_first1 = keras.layers.LeakyReLU(alpha=0.01)(conv_first1)\n",
    "    conv_first1 = Conv2D(16, (4, 1), padding='same')(conv_first1)\n",
    "    conv_first1 = keras.layers.LeakyReLU(alpha=0.01)(conv_first1)\n",
    "\n",
    "    conv_first1 = Conv2D(16, (1, 10))(conv_first1)\n",
    "    conv_first1 = keras.layers.LeakyReLU(alpha=0.01)(conv_first1)\n",
    "    conv_first1 = Conv2D(16, (4, 1), padding='same')(conv_first1)\n",
    "    conv_first1 = keras.layers.LeakyReLU(alpha=0.01)(conv_first1)\n",
    "    conv_first1 = Conv2D(16, (4, 1), padding='same')(conv_first1)\n",
    "    conv_first1 = keras.layers.LeakyReLU(alpha=0.01)(conv_first1)\n",
    "    \n",
    "    # build the inception module\n",
    "    convsecond_1 = Conv2D(32, (1, 1), padding='same')(conv_first1)\n",
    "    convsecond_1 = keras.layers.LeakyReLU(alpha=0.01)(convsecond_1)\n",
    "    convsecond_1 = Conv2D(32, (3, 1), padding='same')(convsecond_1)\n",
    "    convsecond_1 = keras.layers.LeakyReLU(alpha=0.01)(convsecond_1)\n",
    "\n",
    "    convsecond_2 = Conv2D(32, (1, 1), padding='same')(conv_first1)\n",
    "    convsecond_2 = keras.layers.LeakyReLU(alpha=0.01)(convsecond_2)\n",
    "    convsecond_2 = Conv2D(32, (5, 1), padding='same')(convsecond_2)\n",
    "    convsecond_2 = keras.layers.LeakyReLU(alpha=0.01)(convsecond_2)\n",
    "\n",
    "    convsecond_3 = MaxPooling2D((3, 1), strides=(1, 1), padding='same')(conv_first1)\n",
    "    convsecond_3 = Conv2D(32, (1, 1), padding='same')(convsecond_3)\n",
    "    convsecond_3 = keras.layers.LeakyReLU(alpha=0.01)(convsecond_3)\n",
    "    \n",
    "    convsecond_output = keras.layers.concatenate([convsecond_1, convsecond_2, convsecond_3], axis=3)\n",
    "    conv_reshape = Reshape((int(convsecond_output.shape[1]), int(convsecond_output.shape[3])))(convsecond_output)\n",
    "    conv_reshape = keras.layers.Dropout(0.2, noise_shape=(None, 1, int(conv_reshape.shape[2])))(conv_reshape, training=True)\n",
    "\n",
    "    # build the last LSTM layer\n",
    "    conv_lstm = LSTM(number_of_lstm)(conv_reshape)\n",
    "\n",
    "    # build the output layer\n",
    "    out = Dense(3, activation='softmax')(conv_lstm)\n",
    "    model = Model(inputs=input_lmd, outputs=out)\n",
    "    adam = keras.optimizers.Adam(lr=0.0001)\n",
    "    model.compile(optimizer=adam, loss='categorical_crossentropy', metrics=['accuracy'])\n",
    "\n",
    "    return model\n",
    "\n",
    "deeplob = create_deeplob(trainX_CNN.shape[1], trainX_CNN.shape[2], n_hiddens)\n",
    "deeplob.summary()"
   ]
  },
  {
   "cell_type": "markdown",
   "metadata": {},
   "source": [
    "# Model Training"
   ]
  },
  {
   "cell_type": "code",
   "execution_count": null,
   "metadata": {
    "scrolled": true
   },
   "outputs": [
    {
     "name": "stdout",
     "output_type": "stream",
     "text": [
      "Epoch 1/100\n",
      "6366/6366 [==============================] - 466s 73ms/step - loss: 0.8475 - accuracy: 0.6289 - val_loss: 0.8454 - val_accuracy: 0.6361\n",
      "Epoch 2/100\n",
      "6366/6366 [==============================] - 474s 74ms/step - loss: 0.7443 - accuracy: 0.6843 - val_loss: 0.7780 - val_accuracy: 0.6709\n",
      "Epoch 3/100\n",
      "6366/6366 [==============================] - 475s 75ms/step - loss: 0.6703 - accuracy: 0.7352 - val_loss: 0.7284 - val_accuracy: 0.7018\n",
      "Epoch 4/100\n",
      "6366/6366 [==============================] - 478s 75ms/step - loss: 0.6484 - accuracy: 0.7447 - val_loss: 0.7175 - val_accuracy: 0.7081\n",
      "Epoch 5/100\n",
      "6366/6366 [==============================] - 479s 75ms/step - loss: 0.6361 - accuracy: 0.7493 - val_loss: 0.7115 - val_accuracy: 0.7103\n",
      "Epoch 6/100\n",
      "6366/6366 [==============================] - 485s 76ms/step - loss: 0.6276 - accuracy: 0.7525 - val_loss: 0.7321 - val_accuracy: 0.7096\n",
      "Epoch 7/100\n",
      "6366/6366 [==============================] - 481s 76ms/step - loss: 0.6212 - accuracy: 0.7548 - val_loss: 0.7052 - val_accuracy: 0.7122\n",
      "Epoch 8/100\n",
      "6366/6366 [==============================] - 478s 75ms/step - loss: 0.6157 - accuracy: 0.7578 - val_loss: 0.6953 - val_accuracy: 0.7169\n",
      "Epoch 9/100\n",
      "6366/6366 [==============================] - 484s 76ms/step - loss: 0.6109 - accuracy: 0.7593 - val_loss: 0.6893 - val_accuracy: 0.7206\n",
      "Epoch 10/100\n",
      "6366/6366 [==============================] - 476s 75ms/step - loss: 0.6065 - accuracy: 0.7616 - val_loss: 0.6921 - val_accuracy: 0.7190\n",
      "Epoch 11/100\n",
      "6366/6366 [==============================] - 477s 75ms/step - loss: 0.6026 - accuracy: 0.7626 - val_loss: 0.6989 - val_accuracy: 0.7171\n",
      "Epoch 12/100\n",
      "6366/6366 [==============================] - 477s 75ms/step - loss: 0.5985 - accuracy: 0.7651 - val_loss: 0.6800 - val_accuracy: 0.7268\n",
      "Epoch 13/100\n",
      "6366/6366 [==============================] - 480s 75ms/step - loss: 0.5953 - accuracy: 0.7663 - val_loss: 0.6750 - val_accuracy: 0.7282\n",
      "Epoch 14/100\n",
      "6366/6366 [==============================] - 479s 75ms/step - loss: 0.5921 - accuracy: 0.7679 - val_loss: 0.6758 - val_accuracy: 0.7283\n",
      "Epoch 15/100\n",
      "6366/6366 [==============================] - 478s 75ms/step - loss: 0.5894 - accuracy: 0.7692 - val_loss: 0.6851 - val_accuracy: 0.7243\n",
      "Epoch 16/100\n",
      "6366/6366 [==============================] - 480s 75ms/step - loss: 0.5868 - accuracy: 0.7699 - val_loss: 0.6793 - val_accuracy: 0.7303\n",
      "Epoch 17/100\n",
      "6366/6366 [==============================] - 484s 76ms/step - loss: 0.5842 - accuracy: 0.7713 - val_loss: 0.6754 - val_accuracy: 0.7281\n",
      "Epoch 18/100\n",
      "6366/6366 [==============================] - 478s 75ms/step - loss: 0.5824 - accuracy: 0.7721 - val_loss: 0.6708 - val_accuracy: 0.7317\n",
      "Epoch 19/100\n",
      "6366/6366 [==============================] - 483s 76ms/step - loss: 0.5800 - accuracy: 0.7732 - val_loss: 0.6750 - val_accuracy: 0.7329\n",
      "Epoch 20/100\n",
      "6366/6366 [==============================] - 480s 75ms/step - loss: 0.5778 - accuracy: 0.7741 - val_loss: 0.6721 - val_accuracy: 0.7347\n",
      "Epoch 21/100\n",
      "6366/6366 [==============================] - 490s 77ms/step - loss: 0.5762 - accuracy: 0.7747 - val_loss: 0.6687 - val_accuracy: 0.7335\n",
      "Epoch 22/100\n",
      "6366/6366 [==============================] - 473s 74ms/step - loss: 0.5739 - accuracy: 0.7759 - val_loss: 0.6718 - val_accuracy: 0.7322\n",
      "Epoch 23/100\n",
      "6366/6366 [==============================] - 477s 75ms/step - loss: 0.5720 - accuracy: 0.7761 - val_loss: 0.6673 - val_accuracy: 0.7333\n",
      "Epoch 24/100\n",
      "6366/6366 [==============================] - 474s 74ms/step - loss: 0.5703 - accuracy: 0.7774 - val_loss: 0.6575 - val_accuracy: 0.7386\n",
      "Epoch 25/100\n",
      "6366/6366 [==============================] - 475s 75ms/step - loss: 0.5687 - accuracy: 0.7778 - val_loss: 0.6588 - val_accuracy: 0.7392\n",
      "Epoch 26/100\n",
      "6366/6366 [==============================] - 475s 75ms/step - loss: 0.5671 - accuracy: 0.7788 - val_loss: 0.6583 - val_accuracy: 0.7390\n",
      "Epoch 27/100\n",
      "6366/6366 [==============================] - 477s 75ms/step - loss: 0.5654 - accuracy: 0.7785 - val_loss: 0.6576 - val_accuracy: 0.7398\n",
      "Epoch 28/100\n",
      "6366/6366 [==============================] - 478s 75ms/step - loss: 0.5642 - accuracy: 0.7791 - val_loss: 0.6756 - val_accuracy: 0.7318\n",
      "Epoch 29/100\n",
      "6366/6366 [==============================] - 477s 75ms/step - loss: 0.5625 - accuracy: 0.7802 - val_loss: 0.6567 - val_accuracy: 0.7398\n",
      "Epoch 30/100\n",
      "6366/6366 [==============================] - 477s 75ms/step - loss: 0.5617 - accuracy: 0.7803 - val_loss: 0.6582 - val_accuracy: 0.7398\n",
      "Epoch 31/100\n",
      "6366/6366 [==============================] - 477s 75ms/step - loss: 0.5600 - accuracy: 0.7806 - val_loss: 0.6547 - val_accuracy: 0.7415\n",
      "Epoch 32/100\n",
      "6366/6366 [==============================] - 479s 75ms/step - loss: 0.5589 - accuracy: 0.7810 - val_loss: 0.6692 - val_accuracy: 0.7352\n",
      "Epoch 33/100\n",
      "6366/6366 [==============================] - 476s 75ms/step - loss: 0.5579 - accuracy: 0.7821 - val_loss: 0.6530 - val_accuracy: 0.7430\n",
      "Epoch 34/100\n",
      "6366/6366 [==============================] - 476s 75ms/step - loss: 0.5566 - accuracy: 0.7821 - val_loss: 0.6554 - val_accuracy: 0.7408\n",
      "Epoch 35/100\n",
      "6366/6366 [==============================] - 475s 75ms/step - loss: 0.5554 - accuracy: 0.7828 - val_loss: 0.6671 - val_accuracy: 0.7389\n",
      "Epoch 36/100\n",
      "6366/6366 [==============================] - 480s 75ms/step - loss: 0.5544 - accuracy: 0.7841 - val_loss: 0.6523 - val_accuracy: 0.7439\n",
      "Epoch 37/100\n",
      "6366/6366 [==============================] - 477s 75ms/step - loss: 0.5532 - accuracy: 0.7842 - val_loss: 0.6631 - val_accuracy: 0.7414\n",
      "Epoch 38/100\n",
      "6366/6366 [==============================] - 476s 75ms/step - loss: 0.5523 - accuracy: 0.7841 - val_loss: 0.6547 - val_accuracy: 0.7418\n",
      "Epoch 39/100\n",
      "6366/6366 [==============================] - 477s 75ms/step - loss: 0.5513 - accuracy: 0.7850 - val_loss: 0.6572 - val_accuracy: 0.7406\n",
      "Epoch 40/100\n",
      "6366/6366 [==============================] - 481s 76ms/step - loss: 0.5502 - accuracy: 0.7852 - val_loss: 0.6505 - val_accuracy: 0.7426\n",
      "Epoch 41/100\n",
      "6366/6366 [==============================] - 479s 75ms/step - loss: 0.5491 - accuracy: 0.7856 - val_loss: 0.6583 - val_accuracy: 0.7412\n",
      "Epoch 42/100\n",
      "6366/6366 [==============================] - 490s 77ms/step - loss: 0.5487 - accuracy: 0.7863 - val_loss: 0.6550 - val_accuracy: 0.7423\n",
      "Epoch 43/100\n",
      "6366/6366 [==============================] - 503s 79ms/step - loss: 0.5475 - accuracy: 0.7861 - val_loss: 0.6542 - val_accuracy: 0.7433\n",
      "Epoch 44/100\n",
      "6366/6366 [==============================] - 492s 77ms/step - loss: 0.5462 - accuracy: 0.7872 - val_loss: 0.6552 - val_accuracy: 0.7421\n",
      "Epoch 45/100\n",
      "6366/6366 [==============================] - 480s 75ms/step - loss: 0.5459 - accuracy: 0.7872 - val_loss: 0.6568 - val_accuracy: 0.7438\n",
      "Epoch 46/100\n",
      "6366/6366 [==============================] - 489s 77ms/step - loss: 0.5449 - accuracy: 0.7874 - val_loss: 0.6561 - val_accuracy: 0.7426\n",
      "Epoch 47/100\n",
      "6366/6366 [==============================] - 480s 75ms/step - loss: 0.5443 - accuracy: 0.7876 - val_loss: 0.6550 - val_accuracy: 0.7452\n"
     ]
    },
    {
     "data": {
      "text/plain": [
       "<keras.callbacks.History at 0x7feb7dd647c0>"
      ]
     },
     "execution_count": 5,
     "metadata": {},
     "output_type": "execute_result"
    }
   ],
   "source": [
    "early_stopping = EarlyStopping(monitor='val_loss', patience=7, restore_best_weights=True)\n",
    "\n",
    "model_checkpoint_callback = tf.keras.callbacks.ModelCheckpoint(\n",
    "    filepath=checkpoint_filepath,\n",
    "    save_weights_only=True,\n",
    "    monitor='val_loss',\n",
    "    mode='auto',\n",
    "    save_best_only=True)\n",
    "\n",
    "deeplob.fit(trainX_CNN, trainY_CNN, validation_data=(valX_CNN, valY_CNN), \n",
    "            epochs=100, batch_size=32, verbose=1, callbacks=[model_checkpoint_callback,early_stopping])"
   ]
  },
  {
   "cell_type": "markdown",
   "metadata": {},
   "source": [
    "# Model Testing"
   ]
  },
  {
   "cell_type": "code",
   "execution_count": 6,
   "metadata": {},
   "outputs": [
    {
     "name": "stdout",
     "output_type": "stream",
     "text": [
      "4359/4359 [==============================] - 109s 25ms/step\n"
     ]
    }
   ],
   "source": [
    "deeplob.load_weights(checkpoint_filepath)\n",
    "pred = deeplob.predict(testX_CNN)"
   ]
  },
  {
   "cell_type": "code",
   "execution_count": 7,
   "metadata": {},
   "outputs": [
    {
     "name": "stdout",
     "output_type": "stream",
     "text": [
      "accuracy_score: 0.8261714269327828\n",
      "              precision    recall  f1-score   support\n",
      "\n",
      "           0     0.7423    0.5130    0.6067     21127\n",
      "           1     0.8442    0.9586    0.8978     98602\n",
      "           2     0.7647    0.5003    0.6049     19759\n",
      "\n",
      "    accuracy                         0.8262    139488\n",
      "   macro avg     0.7837    0.6573    0.7031    139488\n",
      "weighted avg     0.8175    0.8262    0.8122    139488\n",
      "\n"
     ]
    }
   ],
   "source": [
    "print('accuracy_score:', accuracy_score(np.argmax(testY_CNN, axis=1), np.argmax(pred, axis=1)))\n",
    "print(classification_report(np.argmax(testY_CNN, axis=1), np.argmax(pred, axis=1), digits=4))"
   ]
  },
  {
   "cell_type": "code",
   "execution_count": null,
   "metadata": {},
   "outputs": [
    {
     "data": {
      "image/png": "[encoded data removed]",
      "text/plain": [
       "<Figure size 1000x700 with 2 Axes>"
      ]
     },
     "metadata": {},
     "output_type": "display_data"
    }
   ],
   "source": [
    "# Convert one-hot encoded vectors to class labels\n",
    "true_labels = np.argmax(testY_CNN, axis=1)\n",
    "predicted_labels = np.argmax(pred, axis=1)\n",
    "\n",
    "# Compute the confusion matrix\n",
    "conf_matrix = confusion_matrix(true_labels, predicted_labels)\n",
    "\n",
    "\n",
    "# Plotting using seaborn\n",
    "plt.figure(figsize=(10, 7))\n",
    "sns.heatmap(conf_matrix, annot=True, fmt=\"d\", cmap=\"Blues\", xticklabels=[0, 1, 2], yticklabels=[0, 1, 2])\n",
    "plt.title('Confusion Matrix')\n",
    "plt.ylabel('True Label')\n",
    "plt.xlabel('Predicted Label')\n",
    "plt.show()"
   ]
  }
 ],
 "metadata": {
  "kernelspec": {
   "display_name": "Python 3",
   "language": "python",
   "name": "python3"
  },
  "language_info": {
   "codemirror_mode": {
    "name": "ipython",
    "version": 3
   },
   "file_extension": ".py",
   "mimetype": "text/x-python",
   "name": "python",
   "nbconvert_exporter": "python",
   "pygments_lexer": "ipython3",
   "version": "3.10.6"
  }
 },
 "nbformat": 4,
 "nbformat_minor": 2
}
