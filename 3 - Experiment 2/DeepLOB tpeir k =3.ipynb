{
 "cells": [
  {
   "cell_type": "markdown",
   "metadata": {},
   "source": [
    "# Applying DeepLOB model to predict the results of horizon 50 for stock TPEIR of Athex Exchange."
   ]
  },
  {
   "cell_type": "code",
   "execution_count": null,
   "metadata": {},
   "outputs": [
    {
     "name": "stdout",
     "output_type": "stream",
     "text": [
      "2.9.1\n",
      "[PhysicalDevice(name='/physical_device:CPU:0', device_type='CPU')]\n"
     ]
    }
   ],
   "source": [
    "# Importing the libraries.\n",
    "import numpy as np\n",
    "import pandas as pd\n",
    "import tensorflow as tf\n",
    "from tensorflow.keras.utils import to_categorical\n",
    "from tensorflow.keras.callbacks import EarlyStopping, ModelCheckpoint\n",
    "from keras.layers import Flatten, Dense, Dropout, Activation, Input, LSTM, Reshape, Conv2D, MaxPooling2D, CuDNNLSTM\n",
    "from keras.models import Model\n",
    "import tensorflow as tf\n",
    "import keras\n",
    "from tensorflow.keras.callbacks import ReduceLROnPlateau\n",
    "\n",
    "from sklearn.metrics import classification_report, accuracy_score, confusion_matrix\n",
    "import matplotlib.pyplot as plt\n",
    "import seaborn as sns\n",
    "\n",
    "print(tf.__version__)\n",
    "print(tf.config.list_physical_devices())"
   ]
  },
  {
   "cell_type": "markdown",
   "metadata": {},
   "source": [
    "# Data preparation"
   ]
  },
  {
   "cell_type": "code",
   "execution_count": null,
   "metadata": {},
   "outputs": [],
   "source": [
    "# Functions to prepare the data for the model.\n",
    "def prepare_x(data):\n",
    "    df1 = data[:40, :].T\n",
    "    return np.array(df1)\n",
    "\n",
    "def get_label(data):\n",
    "    lob = data[-5:, :].T\n",
    "    return lob\n",
    "\n",
    "def data_classification(X, Y, T):\n",
    "    [N, D] = X.shape\n",
    "    df = np.array(X)\n",
    "    dY = np.array(Y)\n",
    "    dataY = dY[T - 1:N]\n",
    "    dataX = np.zeros((N - T + 1, T, D))\n",
    "    for i in range(T, N + 1):\n",
    "        dataX[i - T] = df[i - T:i, :]\n",
    "    return dataX.reshape(dataX.shape + (1,)), dataY\n",
    "\n",
    "def prepare_x_y(data, k, T):\n",
    "    x = prepare_x(data)\n",
    "    y = get_label(data)\n",
    "    x, y = data_classification(x, y, T=T)\n",
    "    y = y[:, k] - 1\n",
    "    y = to_categorical(y, 3)\n",
    "    return x, y\n"
   ]
  },
  {
   "cell_type": "code",
   "execution_count": null,
   "metadata": {},
   "outputs": [
    {
     "name": "stdout",
     "output_type": "stream",
     "text": [
      "(61942, 100, 40, 1) (61942, 3)\n",
      "(6795, 100, 40, 1) (6795, 3)\n",
      "(28283, 100, 40, 1) (28283, 3)\n"
     ]
    }
   ],
   "source": [
    "# Load data\n",
    "dec_data = np.loadtxt('train_TPEIR_case1.txt')\n",
    "dec_train = dec_data[:, :int(np.floor(dec_data.shape[1] * 0.9))]\n",
    "dec_val = dec_data[:, int(np.floor(dec_data.shape[1] * 0.9)):]\n",
    "dec_test = np.loadtxt('test_TPEIR_case1.txt')\n",
    "\n",
    "k = 3 # Which horizon to use for prediction\n",
    "T = 100 # The input dimension (time steps)\n",
    "n_hiddens = 64\n",
    "checkpoint_filepath = './tpeir_deeplob_k3/weights' # Where to save the model weights.\n",
    "\n",
    "trainX_CNN, trainY_CNN = prepare_x_y(dec_train, k, T)\n",
    "valX_CNN, valY_CNN = prepare_x_y(dec_val, k, T)\n",
    "testX_CNN, testY_CNN = prepare_x_y(dec_test, k, T)\n",
    "\n",
    "print(trainX_CNN.shape, trainY_CNN.shape)\n",
    "print(valX_CNN.shape, valY_CNN.shape)\n",
    "print(testX_CNN.shape, testY_CNN.shape)"
   ]
  },
  {
   "cell_type": "markdown",
   "metadata": {},
   "source": [
    "# Model Architecture\n"
   ]
  },
  {
   "cell_type": "code",
   "execution_count": null,
   "metadata": {},
   "outputs": [
    {
     "name": "stderr",
     "output_type": "stream",
     "text": [
      "2024-08-10 21:46:14.846134: I tensorflow/core/platform/cpu_feature_guard.cc:193] This TensorFlow binary is optimized with oneAPI Deep Neural Network Library (oneDNN) to use the following CPU instructions in performance-critical operations:  SSE4.1 SSE4.2\n",
      "To enable them in other operations, rebuild TensorFlow with the appropriate compiler flags.\n"
     ]
    },
    {
     "name": "stdout",
     "output_type": "stream",
     "text": [
      "Model: \"model\"\n",
      "__________________________________________________________________________________________________\n",
      " Layer (type)                   Output Shape         Param #     Connected to                     \n",
      "==================================================================================================\n",
      " input_1 (InputLayer)           [(None, 100, 40, 1)  0           []                               \n",
      "                                ]                                                                 \n",
      "                                                                                                  \n",
      " conv2d (Conv2D)                (None, 100, 20, 16)  48          ['input_1[0][0]']                \n",
      "                                                                                                  \n",
      " leaky_re_lu (LeakyReLU)        (None, 100, 20, 16)  0           ['conv2d[0][0]']                 \n",
      "                                                                                                  \n",
      " conv2d_1 (Conv2D)              (None, 100, 20, 16)  1040        ['leaky_re_lu[0][0]']            \n",
      "                                                                                                  \n",
      " leaky_re_lu_1 (LeakyReLU)      (None, 100, 20, 16)  0           ['conv2d_1[0][0]']               \n",
      "                                                                                                  \n",
      " conv2d_2 (Conv2D)              (None, 100, 20, 16)  1040        ['leaky_re_lu_1[0][0]']          \n",
      "                                                                                                  \n",
      " leaky_re_lu_2 (LeakyReLU)      (None, 100, 20, 16)  0           ['conv2d_2[0][0]']               \n",
      "                                                                                                  \n",
      " conv2d_3 (Conv2D)              (None, 100, 10, 16)  528         ['leaky_re_lu_2[0][0]']          \n",
      "                                                                                                  \n",
      " leaky_re_lu_3 (LeakyReLU)      (None, 100, 10, 16)  0           ['conv2d_3[0][0]']               \n",
      "                                                                                                  \n",
      " conv2d_4 (Conv2D)              (None, 100, 10, 16)  1040        ['leaky_re_lu_3[0][0]']          \n",
      "                                                                                                  \n",
      " leaky_re_lu_4 (LeakyReLU)      (None, 100, 10, 16)  0           ['conv2d_4[0][0]']               \n",
      "                                                                                                  \n",
      " conv2d_5 (Conv2D)              (None, 100, 10, 16)  1040        ['leaky_re_lu_4[0][0]']          \n",
      "                                                                                                  \n",
      " leaky_re_lu_5 (LeakyReLU)      (None, 100, 10, 16)  0           ['conv2d_5[0][0]']               \n",
      "                                                                                                  \n",
      " conv2d_6 (Conv2D)              (None, 100, 1, 16)   2576        ['leaky_re_lu_5[0][0]']          \n",
      "                                                                                                  \n",
      " leaky_re_lu_6 (LeakyReLU)      (None, 100, 1, 16)   0           ['conv2d_6[0][0]']               \n",
      "                                                                                                  \n",
      " conv2d_7 (Conv2D)              (None, 100, 1, 16)   1040        ['leaky_re_lu_6[0][0]']          \n",
      "                                                                                                  \n",
      " leaky_re_lu_7 (LeakyReLU)      (None, 100, 1, 16)   0           ['conv2d_7[0][0]']               \n",
      "                                                                                                  \n",
      " conv2d_8 (Conv2D)              (None, 100, 1, 16)   1040        ['leaky_re_lu_7[0][0]']          \n",
      "                                                                                                  \n",
      " leaky_re_lu_8 (LeakyReLU)      (None, 100, 1, 16)   0           ['conv2d_8[0][0]']               \n",
      "                                                                                                  \n",
      " conv2d_9 (Conv2D)              (None, 100, 1, 32)   544         ['leaky_re_lu_8[0][0]']          \n",
      "                                                                                                  \n",
      " conv2d_11 (Conv2D)             (None, 100, 1, 32)   544         ['leaky_re_lu_8[0][0]']          \n",
      "                                                                                                  \n",
      " leaky_re_lu_9 (LeakyReLU)      (None, 100, 1, 32)   0           ['conv2d_9[0][0]']               \n",
      "                                                                                                  \n",
      " leaky_re_lu_11 (LeakyReLU)     (None, 100, 1, 32)   0           ['conv2d_11[0][0]']              \n",
      "                                                                                                  \n",
      " max_pooling2d (MaxPooling2D)   (None, 100, 1, 16)   0           ['leaky_re_lu_8[0][0]']          \n",
      "                                                                                                  \n",
      " conv2d_10 (Conv2D)             (None, 100, 1, 32)   3104        ['leaky_re_lu_9[0][0]']          \n",
      "                                                                                                  \n",
      " conv2d_12 (Conv2D)             (None, 100, 1, 32)   5152        ['leaky_re_lu_11[0][0]']         \n",
      "                                                                                                  \n",
      " conv2d_13 (Conv2D)             (None, 100, 1, 32)   544         ['max_pooling2d[0][0]']          \n",
      "                                                                                                  \n",
      " leaky_re_lu_10 (LeakyReLU)     (None, 100, 1, 32)   0           ['conv2d_10[0][0]']              \n",
      "                                                                                                  \n",
      " leaky_re_lu_12 (LeakyReLU)     (None, 100, 1, 32)   0           ['conv2d_12[0][0]']              \n",
      "                                                                                                  \n",
      " leaky_re_lu_13 (LeakyReLU)     (None, 100, 1, 32)   0           ['conv2d_13[0][0]']              \n",
      "                                                                                                  \n",
      " concatenate (Concatenate)      (None, 100, 1, 96)   0           ['leaky_re_lu_10[0][0]',         \n",
      "                                                                  'leaky_re_lu_12[0][0]',         \n",
      "                                                                  'leaky_re_lu_13[0][0]']         \n",
      "                                                                                                  \n",
      " reshape (Reshape)              (None, 100, 96)      0           ['concatenate[0][0]']            \n",
      "                                                                                                  \n",
      " dropout (Dropout)              (None, 100, 96)      0           ['reshape[0][0]']                \n",
      "                                                                                                  \n",
      " lstm (LSTM)                    (None, 64)           41216       ['dropout[0][0]']                \n",
      "                                                                                                  \n",
      " dense (Dense)                  (None, 3)            195         ['lstm[0][0]']                   \n",
      "                                                                                                  \n",
      "==================================================================================================\n",
      "Total params: 60,691\n",
      "Trainable params: 60,691\n",
      "Non-trainable params: 0\n",
      "__________________________________________________________________________________________________\n"
     ]
    },
    {
     "name": "stderr",
     "output_type": "stream",
     "text": [
      "/Users/lamprosganias/opt/anaconda3/envs/ML/lib/python3.10/site-packages/keras/optimizers/optimizer_v2/adam.py:110: UserWarning: The `lr` argument is deprecated, use `learning_rate` instead.\n",
      "  super(Adam, self).__init__(name, **kwargs)\n"
     ]
    }
   ],
   "source": [
    "def create_deeplob(T, NF, number_of_lstm):\n",
    "    input_lmd = Input(shape=(T, NF, 1))\n",
    "    \n",
    "    # build the convolutional block\n",
    "    conv_first1 = Conv2D(16, (1, 2), strides=(1, 2))(input_lmd)\n",
    "    conv_first1 = keras.layers.LeakyReLU(alpha=0.01)(conv_first1)\n",
    "    conv_first1 = Conv2D(16, (4, 1), padding='same')(conv_first1)\n",
    "    conv_first1 = keras.layers.LeakyReLU(alpha=0.01)(conv_first1)\n",
    "    conv_first1 = Conv2D(16, (4, 1), padding='same')(conv_first1)\n",
    "    conv_first1 = keras.layers.LeakyReLU(alpha=0.01)(conv_first1)\n",
    "\n",
    "    conv_first1 = Conv2D(16, (1, 2), strides=(1, 2))(conv_first1)\n",
    "    conv_first1 = keras.layers.LeakyReLU(alpha=0.01)(conv_first1)\n",
    "    conv_first1 = Conv2D(16, (4, 1), padding='same')(conv_first1)\n",
    "    conv_first1 = keras.layers.LeakyReLU(alpha=0.01)(conv_first1)\n",
    "    conv_first1 = Conv2D(16, (4, 1), padding='same')(conv_first1)\n",
    "    conv_first1 = keras.layers.LeakyReLU(alpha=0.01)(conv_first1)\n",
    "\n",
    "    conv_first1 = Conv2D(16, (1, 10))(conv_first1)\n",
    "    conv_first1 = keras.layers.LeakyReLU(alpha=0.01)(conv_first1)\n",
    "    conv_first1 = Conv2D(16, (4, 1), padding='same')(conv_first1)\n",
    "    conv_first1 = keras.layers.LeakyReLU(alpha=0.01)(conv_first1)\n",
    "    conv_first1 = Conv2D(16, (4, 1), padding='same')(conv_first1)\n",
    "    conv_first1 = keras.layers.LeakyReLU(alpha=0.01)(conv_first1)\n",
    "    \n",
    "    # build the inception module\n",
    "    convsecond_1 = Conv2D(32, (1, 1), padding='same')(conv_first1)\n",
    "    convsecond_1 = keras.layers.LeakyReLU(alpha=0.01)(convsecond_1)\n",
    "    convsecond_1 = Conv2D(32, (3, 1), padding='same')(convsecond_1)\n",
    "    convsecond_1 = keras.layers.LeakyReLU(alpha=0.01)(convsecond_1)\n",
    "\n",
    "    convsecond_2 = Conv2D(32, (1, 1), padding='same')(conv_first1)\n",
    "    convsecond_2 = keras.layers.LeakyReLU(alpha=0.01)(convsecond_2)\n",
    "    convsecond_2 = Conv2D(32, (5, 1), padding='same')(convsecond_2)\n",
    "    convsecond_2 = keras.layers.LeakyReLU(alpha=0.01)(convsecond_2)\n",
    "\n",
    "    convsecond_3 = MaxPooling2D((3, 1), strides=(1, 1), padding='same')(conv_first1)\n",
    "    convsecond_3 = Conv2D(32, (1, 1), padding='same')(convsecond_3)\n",
    "    convsecond_3 = keras.layers.LeakyReLU(alpha=0.01)(convsecond_3)\n",
    "    \n",
    "    convsecond_output = keras.layers.concatenate([convsecond_1, convsecond_2, convsecond_3], axis=3)\n",
    "    conv_reshape = Reshape((int(convsecond_output.shape[1]), int(convsecond_output.shape[3])))(convsecond_output)\n",
    "    conv_reshape = keras.layers.Dropout(0.2, noise_shape=(None, 1, int(conv_reshape.shape[2])))(conv_reshape, training=True)\n",
    "    \n",
    "    # build the last LSTM layer\n",
    "    conv_lstm = LSTM(number_of_lstm)(conv_reshape)  # Change CuDNNLSTM to LSTM\n",
    "\n",
    "    # build the output layer\n",
    "    out = Dense(3, activation='softmax')(conv_lstm)\n",
    "    model = Model(inputs=input_lmd, outputs=out)\n",
    "    adam = keras.optimizers.Adam(lr=0.0001)\n",
    "    model.compile(optimizer=adam, loss='categorical_crossentropy', metrics=['accuracy'])\n",
    "\n",
    "    return model\n",
    "\n",
    "# Create the model\n",
    "deeplob = create_deeplob(trainX_CNN.shape[1], trainX_CNN.shape[2], n_hiddens)\n",
    "deeplob.summary()"
   ]
  },
  {
   "cell_type": "markdown",
   "metadata": {},
   "source": [
    "# Model Training"
   ]
  },
  {
   "cell_type": "code",
   "execution_count": 5,
   "metadata": {},
   "outputs": [
    {
     "name": "stdout",
     "output_type": "stream",
     "text": [
      "Epoch 1/50\n",
      "968/968 [==============================] - 102s 103ms/step - loss: 1.0267 - accuracy: 0.4506 - val_loss: 1.0825 - val_accuracy: 0.4071\n",
      "Epoch 2/50\n",
      "968/968 [==============================] - 107s 111ms/step - loss: 0.9554 - accuracy: 0.5014 - val_loss: 1.0883 - val_accuracy: 0.4187\n",
      "Epoch 3/50\n",
      "968/968 [==============================] - 111s 115ms/step - loss: 0.9232 - accuracy: 0.5212 - val_loss: 1.0544 - val_accuracy: 0.4393\n",
      "Epoch 4/50\n",
      "968/968 [==============================] - 111s 114ms/step - loss: 0.9059 - accuracy: 0.5360 - val_loss: 1.0707 - val_accuracy: 0.4400\n",
      "Epoch 5/50\n",
      "968/968 [==============================] - 114s 118ms/step - loss: 0.8935 - accuracy: 0.5477 - val_loss: 1.0435 - val_accuracy: 0.4469\n",
      "Epoch 6/50\n",
      "968/968 [==============================] - 112s 116ms/step - loss: 0.8841 - accuracy: 0.5590 - val_loss: 1.0374 - val_accuracy: 0.4689\n",
      "Epoch 7/50\n",
      "968/968 [==============================] - 112s 116ms/step - loss: 0.8711 - accuracy: 0.5748 - val_loss: 1.0171 - val_accuracy: 0.4880\n",
      "Epoch 8/50\n",
      "968/968 [==============================] - 113s 117ms/step - loss: 0.8544 - accuracy: 0.5947 - val_loss: 0.9893 - val_accuracy: 0.5194\n",
      "Epoch 9/50\n",
      "968/968 [==============================] - 115s 119ms/step - loss: 0.8375 - accuracy: 0.6103 - val_loss: 0.9770 - val_accuracy: 0.5336\n",
      "Epoch 10/50\n",
      "968/968 [==============================] - 118s 122ms/step - loss: 0.8201 - accuracy: 0.6253 - val_loss: 0.9689 - val_accuracy: 0.5485\n",
      "Epoch 11/50\n",
      "968/968 [==============================] - 113s 116ms/step - loss: 0.8020 - accuracy: 0.6391 - val_loss: 0.9676 - val_accuracy: 0.5438\n",
      "Epoch 12/50\n",
      "968/968 [==============================] - 112s 116ms/step - loss: 0.7871 - accuracy: 0.6479 - val_loss: 0.9756 - val_accuracy: 0.5538\n",
      "Epoch 13/50\n",
      "968/968 [==============================] - 113s 117ms/step - loss: 0.7686 - accuracy: 0.6609 - val_loss: 0.9450 - val_accuracy: 0.5691\n",
      "Epoch 14/50\n",
      "968/968 [==============================] - 112s 116ms/step - loss: 0.7545 - accuracy: 0.6715 - val_loss: 0.9695 - val_accuracy: 0.5542\n",
      "Epoch 15/50\n",
      "968/968 [==============================] - 111s 115ms/step - loss: 0.7381 - accuracy: 0.6813 - val_loss: 0.9905 - val_accuracy: 0.5651\n",
      "Epoch 16/50\n",
      "968/968 [==============================] - 116s 120ms/step - loss: 0.7282 - accuracy: 0.6898 - val_loss: 0.8689 - val_accuracy: 0.6224\n",
      "Epoch 17/50\n",
      "968/968 [==============================] - 112s 116ms/step - loss: 0.7167 - accuracy: 0.6957 - val_loss: 0.8896 - val_accuracy: 0.6021\n",
      "Epoch 18/50\n",
      "968/968 [==============================] - 112s 116ms/step - loss: 0.7059 - accuracy: 0.7012 - val_loss: 0.8931 - val_accuracy: 0.5993\n",
      "Epoch 19/50\n",
      "968/968 [==============================] - 111s 115ms/step - loss: 0.6968 - accuracy: 0.7061 - val_loss: 0.8528 - val_accuracy: 0.6271\n",
      "Epoch 20/50\n",
      "968/968 [==============================] - 113s 117ms/step - loss: 0.6900 - accuracy: 0.7117 - val_loss: 0.8790 - val_accuracy: 0.6153\n",
      "Epoch 21/50\n",
      "968/968 [==============================] - 113s 117ms/step - loss: 0.6796 - accuracy: 0.7177 - val_loss: 0.8240 - val_accuracy: 0.6347\n",
      "Epoch 22/50\n",
      "968/968 [==============================] - 113s 116ms/step - loss: 0.6752 - accuracy: 0.7187 - val_loss: 0.8720 - val_accuracy: 0.6146\n",
      "Epoch 23/50\n",
      "968/968 [==============================] - 112s 116ms/step - loss: 0.6684 - accuracy: 0.7218 - val_loss: 0.8369 - val_accuracy: 0.6312\n",
      "Epoch 24/50\n",
      "968/968 [==============================] - 112s 116ms/step - loss: 0.6593 - accuracy: 0.7278 - val_loss: 0.8495 - val_accuracy: 0.6284\n",
      "Epoch 25/50\n",
      "968/968 [==============================] - 111s 115ms/step - loss: 0.6557 - accuracy: 0.7271 - val_loss: 0.8585 - val_accuracy: 0.6336\n",
      "Epoch 26/50\n",
      "968/968 [==============================] - 113s 117ms/step - loss: 0.6491 - accuracy: 0.7342 - val_loss: 0.8238 - val_accuracy: 0.6366\n",
      "Epoch 27/50\n",
      "968/968 [==============================] - 111s 115ms/step - loss: 0.6429 - accuracy: 0.7355 - val_loss: 0.8377 - val_accuracy: 0.6331\n",
      "Epoch 28/50\n",
      "968/968 [==============================] - 111s 114ms/step - loss: 0.6371 - accuracy: 0.7388 - val_loss: 0.8412 - val_accuracy: 0.6287\n",
      "Epoch 29/50\n",
      "968/968 [==============================] - 113s 116ms/step - loss: 0.6329 - accuracy: 0.7410 - val_loss: 0.8248 - val_accuracy: 0.6416\n",
      "Epoch 30/50\n",
      "968/968 [==============================] - 113s 116ms/step - loss: 0.6268 - accuracy: 0.7451 - val_loss: 0.8851 - val_accuracy: 0.6202\n",
      "Epoch 31/50\n",
      "968/968 [==============================] - 111s 115ms/step - loss: 0.6221 - accuracy: 0.7453 - val_loss: 0.8209 - val_accuracy: 0.6472\n",
      "Epoch 32/50\n",
      "968/968 [==============================] - 111s 115ms/step - loss: 0.6213 - accuracy: 0.7471 - val_loss: 0.8357 - val_accuracy: 0.6359\n",
      "Epoch 33/50\n",
      "968/968 [==============================] - 115s 119ms/step - loss: 0.6116 - accuracy: 0.7504 - val_loss: 0.8518 - val_accuracy: 0.6368\n",
      "Epoch 34/50\n",
      "968/968 [==============================] - 112s 116ms/step - loss: 0.6088 - accuracy: 0.7517 - val_loss: 0.8502 - val_accuracy: 0.6330\n",
      "Epoch 35/50\n",
      "968/968 [==============================] - 111s 115ms/step - loss: 0.6069 - accuracy: 0.7514 - val_loss: 0.8321 - val_accuracy: 0.6391\n",
      "Epoch 36/50\n",
      "968/968 [==============================] - 111s 115ms/step - loss: 0.6020 - accuracy: 0.7547 - val_loss: 0.8394 - val_accuracy: 0.6361\n",
      "Epoch 37/50\n",
      "968/968 [==============================] - 116s 120ms/step - loss: 0.5974 - accuracy: 0.7583 - val_loss: 0.8454 - val_accuracy: 0.6227\n",
      "Epoch 38/50\n",
      "968/968 [==============================] - 111s 115ms/step - loss: 0.5922 - accuracy: 0.7601 - val_loss: 0.8308 - val_accuracy: 0.6391\n",
      "Epoch 39/50\n",
      "968/968 [==============================] - 115s 118ms/step - loss: 0.5900 - accuracy: 0.7596 - val_loss: 0.8228 - val_accuracy: 0.6486\n",
      "Epoch 40/50\n",
      "968/968 [==============================] - 119s 123ms/step - loss: 0.5855 - accuracy: 0.7625 - val_loss: 0.8260 - val_accuracy: 0.6497\n",
      "Epoch 41/50\n",
      "968/968 [==============================] - 115s 119ms/step - loss: 0.5817 - accuracy: 0.7641 - val_loss: 0.8179 - val_accuracy: 0.6537\n",
      "Epoch 42/50\n",
      "968/968 [==============================] - 114s 118ms/step - loss: 0.5786 - accuracy: 0.7664 - val_loss: 0.8791 - val_accuracy: 0.6225\n",
      "Epoch 43/50\n",
      "968/968 [==============================] - 116s 120ms/step - loss: 0.5767 - accuracy: 0.7666 - val_loss: 0.8308 - val_accuracy: 0.6458\n",
      "Epoch 44/50\n",
      "968/968 [==============================] - 119s 123ms/step - loss: 0.5745 - accuracy: 0.7672 - val_loss: 0.8199 - val_accuracy: 0.6469\n",
      "Epoch 45/50\n",
      "968/968 [==============================] - 115s 118ms/step - loss: 0.5708 - accuracy: 0.7694 - val_loss: 0.8421 - val_accuracy: 0.6390\n",
      "Epoch 46/50\n",
      "968/968 [==============================] - 114s 117ms/step - loss: 0.5673 - accuracy: 0.7699 - val_loss: 0.8556 - val_accuracy: 0.6381\n",
      "Epoch 47/50\n",
      "968/968 [==============================] - 114s 118ms/step - loss: 0.5621 - accuracy: 0.7731 - val_loss: 0.8609 - val_accuracy: 0.6281\n",
      "Epoch 48/50\n",
      "968/968 [==============================] - 125s 129ms/step - loss: 0.5604 - accuracy: 0.7743 - val_loss: 0.8226 - val_accuracy: 0.6537\n",
      "Epoch 49/50\n",
      "968/968 [==============================] - 120s 123ms/step - loss: 0.5572 - accuracy: 0.7765 - val_loss: 0.8288 - val_accuracy: 0.6480\n",
      "Epoch 50/50\n",
      "968/968 [==============================] - 115s 119ms/step - loss: 0.5549 - accuracy: 0.7764 - val_loss: 0.8414 - val_accuracy: 0.6316\n"
     ]
    },
    {
     "data": {
      "text/plain": [
       "<keras.callbacks.History at 0x7fb019979480>"
      ]
     },
     "execution_count": 5,
     "metadata": {},
     "output_type": "execute_result"
    }
   ],
   "source": [
    "# Set up the checkpoint callback\n",
    "model_checkpoint_callback = tf.keras.callbacks.ModelCheckpoint(\n",
    "    filepath=checkpoint_filepath,\n",
    "    save_weights_only=True,\n",
    "    monitor='val_loss',\n",
    "    mode='auto',\n",
    "    save_best_only=True\n",
    ")\n",
    "\n",
    "early_stopping = EarlyStopping(monitor='val_loss', patience=4, restore_best_weights=True)\n",
    "\n",
    "\n",
    "# Train the model\n",
    "deeplob.fit(trainX_CNN, trainY_CNN, validation_data=(valX_CNN, valY_CNN), \n",
    "            epochs=50, batch_size=64, verbose=1, callbacks=[model_checkpoint_callback])\n"
   ]
  },
  {
   "cell_type": "markdown",
   "metadata": {},
   "source": [
    "# Model Testing"
   ]
  },
  {
   "cell_type": "code",
   "execution_count": 6,
   "metadata": {},
   "outputs": [
    {
     "name": "stdout",
     "output_type": "stream",
     "text": [
      "884/884 [==============================] - 21s 24ms/step\n"
     ]
    }
   ],
   "source": [
    "deeplob.load_weights(checkpoint_filepath)\n",
    "pred = deeplob.predict(testX_CNN)"
   ]
  },
  {
   "cell_type": "code",
   "execution_count": null,
   "metadata": {},
   "outputs": [
    {
     "name": "stdout",
     "output_type": "stream",
     "text": [
      "accuracy_score: 0.6317575929003288\n",
      "              precision    recall  f1-score   support\n",
      "\n",
      "           0     0.6342    0.7376    0.6820     10095\n",
      "           1     0.6271    0.3325    0.4346      7999\n",
      "           2     0.6310    0.7618    0.6903     10189\n",
      "\n",
      "    accuracy                         0.6318     28283\n",
      "   macro avg     0.6308    0.6106    0.6023     28283\n",
      "weighted avg     0.6310    0.6318    0.6150     28283\n",
      "\n"
     ]
    }
   ],
   "source": [
    "print('accuracy_score:', accuracy_score(np.argmax(testY_CNN, axis=1), np.argmax(pred, axis=1)))\n",
    "print(classification_report(np.argmax(testY_CNN, axis=1), np.argmax(pred, axis=1), digits=4))"
   ]
  },
  {
   "cell_type": "code",
   "execution_count": null,
   "metadata": {},
   "outputs": [
    {
     "data": {
      "image/png": "[encoded data removed]",
      "text/plain": [
       "<Figure size 1000x700 with 2 Axes>"
      ]
     },
     "metadata": {},
     "output_type": "display_data"
    }
   ],
   "source": [
    "# Convert one-hot encoded vectors to class labels\n",
    "true_labels = np.argmax(testY_CNN, axis=1)\n",
    "predicted_labels = np.argmax(pred, axis=1)\n",
    "\n",
    "# Compute the confusion matrix\n",
    "conf_matrix = confusion_matrix(true_labels, predicted_labels)\n",
    "\n",
    "\n",
    "# Plotting using seaborn\n",
    "plt.figure(figsize=(10, 7))\n",
    "sns.heatmap(conf_matrix, annot=True, fmt=\"d\", cmap=\"Blues\", xticklabels=[0, 1, 2], yticklabels=[0, 1, 2])\n",
    "plt.title('Confusion Matrix')\n",
    "plt.ylabel('True Label')\n",
    "plt.xlabel('Predicted Label')\n",
    "plt.show()"
   ]
  }
 ],
 "metadata": {
  "kernelspec": {
   "display_name": "ML",
   "language": "python",
   "name": "python3"
  },
  "language_info": {
   "codemirror_mode": {
    "name": "ipython",
    "version": 3
   },
   "file_extension": ".py",
   "mimetype": "text/x-python",
   "name": "python",
   "nbconvert_exporter": "python",
   "pygments_lexer": "ipython3",
   "version": "3.10.6"
  }
 },
 "nbformat": 4,
 "nbformat_minor": 2
}
