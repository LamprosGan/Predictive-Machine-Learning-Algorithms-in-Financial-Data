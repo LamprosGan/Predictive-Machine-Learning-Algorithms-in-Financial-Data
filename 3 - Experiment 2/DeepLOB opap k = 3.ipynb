{
 "cells": [
  {
   "cell_type": "markdown",
   "metadata": {},
   "source": [
    "# Applying DeepLOB model to predict the results of horizon 50 for stock OPAP of Athex Exchange."
   ]
  },
  {
   "cell_type": "code",
   "execution_count": null,
   "metadata": {},
   "outputs": [
    {
     "name": "stdout",
     "output_type": "stream",
     "text": [
      "2.9.1\n",
      "[PhysicalDevice(name='/physical_device:CPU:0', device_type='CPU')]\n"
     ]
    }
   ],
   "source": [
    "# Importing the libraries.\n",
    "import numpy as np\n",
    "import pandas as pd\n",
    "import tensorflow as tf\n",
    "from tensorflow.keras.utils import to_categorical\n",
    "from tensorflow.keras.callbacks import EarlyStopping, ModelCheckpoint\n",
    "from keras.layers import Flatten, Dense, Dropout, Activation, Input, LSTM, Reshape, Conv2D, MaxPooling2D, CuDNNLSTM\n",
    "from keras.models import Model\n",
    "import tensorflow as tf\n",
    "import keras\n",
    "from tensorflow.keras.callbacks import ReduceLROnPlateau\n",
    "\n",
    "from sklearn.metrics import classification_report, accuracy_score, confusion_matrix\n",
    "import matplotlib.pyplot as plt\n",
    "import seaborn as sns\n",
    "\n",
    "print(tf.__version__)\n",
    "print(tf.config.list_physical_devices())"
   ]
  },
  {
   "cell_type": "markdown",
   "metadata": {},
   "source": [
    "# Data preparation"
   ]
  },
  {
   "cell_type": "code",
   "execution_count": null,
   "metadata": {},
   "outputs": [],
   "source": [
    "# Functions to prepare the data for the model.\n",
    "def prepare_x(data):\n",
    "    df1 = data[:40, :].T\n",
    "    return np.array(df1)\n",
    "\n",
    "def get_label(data):\n",
    "    lob = data[-5:, :].T\n",
    "    return lob\n",
    "\n",
    "def data_classification(X, Y, T):\n",
    "    [N, D] = X.shape\n",
    "    df = np.array(X)\n",
    "    dY = np.array(Y)\n",
    "    dataY = dY[T - 1:N]\n",
    "    dataX = np.zeros((N - T + 1, T, D))\n",
    "    for i in range(T, N + 1):\n",
    "        dataX[i - T] = df[i - T:i, :]\n",
    "    return dataX.reshape(dataX.shape + (1,)), dataY\n",
    "\n",
    "def prepare_x_y(data, k, T):\n",
    "    x = prepare_x(data)\n",
    "    y = get_label(data)\n",
    "    x, y = data_classification(x, y, T=T)\n",
    "    y = y[:, k] - 1\n",
    "    y = to_categorical(y, 3)\n",
    "    return x, y\n"
   ]
  },
  {
   "cell_type": "code",
   "execution_count": null,
   "metadata": {},
   "outputs": [
    {
     "name": "stdout",
     "output_type": "stream",
     "text": [
      "(20578, 100, 40, 1) (20578, 3)\n",
      "(2199, 100, 40, 1) (2199, 3)\n",
      "(11967, 100, 40, 1) (11967, 3)\n"
     ]
    }
   ],
   "source": [
    "# Load data\n",
    "dec_data = np.loadtxt('train_OPAP_case1.txt')\n",
    "dec_train = dec_data[:, :int(np.floor(dec_data.shape[1] * 0.9))]\n",
    "dec_val = dec_data[:, int(np.floor(dec_data.shape[1] * 0.9)):]\n",
    "dec_test = np.loadtxt('test_OPAP_case1.txt')\n",
    "\n",
    "k = 3 # Which horizon to use for prediction\n",
    "T = 100 # The input dimension (time steps)\n",
    "n_hiddens = 64\n",
    "checkpoint_filepath = './opap_deeplob_k3/weights' # Where to save the model weights.\n",
    "\n",
    "trainX_CNN, trainY_CNN = prepare_x_y(dec_train, k, T)\n",
    "valX_CNN, valY_CNN = prepare_x_y(dec_val, k, T)\n",
    "testX_CNN, testY_CNN = prepare_x_y(dec_test, k, T)\n",
    "\n",
    "print(trainX_CNN.shape, trainY_CNN.shape)\n",
    "print(valX_CNN.shape, valY_CNN.shape)\n",
    "print(testX_CNN.shape, testY_CNN.shape)"
   ]
  },
  {
   "cell_type": "markdown",
   "metadata": {},
   "source": [
    "# Model Architecture\n"
   ]
  },
  {
   "cell_type": "code",
   "execution_count": null,
   "metadata": {},
   "outputs": [
    {
     "name": "stdout",
     "output_type": "stream",
     "text": [
      "Model: \"model_1\"\n",
      "__________________________________________________________________________________________________\n",
      " Layer (type)                   Output Shape         Param #     Connected to                     \n",
      "==================================================================================================\n",
      " input_2 (InputLayer)           [(None, 100, 40, 1)  0           []                               \n",
      "                                ]                                                                 \n",
      "                                                                                                  \n",
      " conv2d_14 (Conv2D)             (None, 100, 20, 16)  48          ['input_2[0][0]']                \n",
      "                                                                                                  \n",
      " leaky_re_lu_14 (LeakyReLU)     (None, 100, 20, 16)  0           ['conv2d_14[0][0]']              \n",
      "                                                                                                  \n",
      " conv2d_15 (Conv2D)             (None, 100, 20, 16)  1040        ['leaky_re_lu_14[0][0]']         \n",
      "                                                                                                  \n",
      " leaky_re_lu_15 (LeakyReLU)     (None, 100, 20, 16)  0           ['conv2d_15[0][0]']              \n",
      "                                                                                                  \n",
      " conv2d_16 (Conv2D)             (None, 100, 20, 16)  1040        ['leaky_re_lu_15[0][0]']         \n",
      "                                                                                                  \n",
      " leaky_re_lu_16 (LeakyReLU)     (None, 100, 20, 16)  0           ['conv2d_16[0][0]']              \n",
      "                                                                                                  \n",
      " conv2d_17 (Conv2D)             (None, 100, 10, 16)  528         ['leaky_re_lu_16[0][0]']         \n",
      "                                                                                                  \n",
      " leaky_re_lu_17 (LeakyReLU)     (None, 100, 10, 16)  0           ['conv2d_17[0][0]']              \n",
      "                                                                                                  \n",
      " conv2d_18 (Conv2D)             (None, 100, 10, 16)  1040        ['leaky_re_lu_17[0][0]']         \n",
      "                                                                                                  \n",
      " leaky_re_lu_18 (LeakyReLU)     (None, 100, 10, 16)  0           ['conv2d_18[0][0]']              \n",
      "                                                                                                  \n",
      " conv2d_19 (Conv2D)             (None, 100, 10, 16)  1040        ['leaky_re_lu_18[0][0]']         \n",
      "                                                                                                  \n",
      " leaky_re_lu_19 (LeakyReLU)     (None, 100, 10, 16)  0           ['conv2d_19[0][0]']              \n",
      "                                                                                                  \n",
      " conv2d_20 (Conv2D)             (None, 100, 1, 16)   2576        ['leaky_re_lu_19[0][0]']         \n",
      "                                                                                                  \n",
      " leaky_re_lu_20 (LeakyReLU)     (None, 100, 1, 16)   0           ['conv2d_20[0][0]']              \n",
      "                                                                                                  \n",
      " conv2d_21 (Conv2D)             (None, 100, 1, 16)   1040        ['leaky_re_lu_20[0][0]']         \n",
      "                                                                                                  \n",
      " leaky_re_lu_21 (LeakyReLU)     (None, 100, 1, 16)   0           ['conv2d_21[0][0]']              \n",
      "                                                                                                  \n",
      " conv2d_22 (Conv2D)             (None, 100, 1, 16)   1040        ['leaky_re_lu_21[0][0]']         \n",
      "                                                                                                  \n",
      " leaky_re_lu_22 (LeakyReLU)     (None, 100, 1, 16)   0           ['conv2d_22[0][0]']              \n",
      "                                                                                                  \n",
      " conv2d_23 (Conv2D)             (None, 100, 1, 32)   544         ['leaky_re_lu_22[0][0]']         \n",
      "                                                                                                  \n",
      " conv2d_25 (Conv2D)             (None, 100, 1, 32)   544         ['leaky_re_lu_22[0][0]']         \n",
      "                                                                                                  \n",
      " leaky_re_lu_23 (LeakyReLU)     (None, 100, 1, 32)   0           ['conv2d_23[0][0]']              \n",
      "                                                                                                  \n",
      " leaky_re_lu_25 (LeakyReLU)     (None, 100, 1, 32)   0           ['conv2d_25[0][0]']              \n",
      "                                                                                                  \n",
      " max_pooling2d_1 (MaxPooling2D)  (None, 100, 1, 16)  0           ['leaky_re_lu_22[0][0]']         \n",
      "                                                                                                  \n",
      " conv2d_24 (Conv2D)             (None, 100, 1, 32)   3104        ['leaky_re_lu_23[0][0]']         \n",
      "                                                                                                  \n",
      " conv2d_26 (Conv2D)             (None, 100, 1, 32)   5152        ['leaky_re_lu_25[0][0]']         \n",
      "                                                                                                  \n",
      " conv2d_27 (Conv2D)             (None, 100, 1, 32)   544         ['max_pooling2d_1[0][0]']        \n",
      "                                                                                                  \n",
      " leaky_re_lu_24 (LeakyReLU)     (None, 100, 1, 32)   0           ['conv2d_24[0][0]']              \n",
      "                                                                                                  \n",
      " leaky_re_lu_26 (LeakyReLU)     (None, 100, 1, 32)   0           ['conv2d_26[0][0]']              \n",
      "                                                                                                  \n",
      " leaky_re_lu_27 (LeakyReLU)     (None, 100, 1, 32)   0           ['conv2d_27[0][0]']              \n",
      "                                                                                                  \n",
      " concatenate_1 (Concatenate)    (None, 100, 1, 96)   0           ['leaky_re_lu_24[0][0]',         \n",
      "                                                                  'leaky_re_lu_26[0][0]',         \n",
      "                                                                  'leaky_re_lu_27[0][0]']         \n",
      "                                                                                                  \n",
      " reshape_1 (Reshape)            (None, 100, 96)      0           ['concatenate_1[0][0]']          \n",
      "                                                                                                  \n",
      " dropout_1 (Dropout)            (None, 100, 96)      0           ['reshape_1[0][0]']              \n",
      "                                                                                                  \n",
      " lstm_1 (LSTM)                  (None, 64)           41216       ['dropout_1[0][0]']              \n",
      "                                                                                                  \n",
      " dense_1 (Dense)                (None, 3)            195         ['lstm_1[0][0]']                 \n",
      "                                                                                                  \n",
      "==================================================================================================\n",
      "Total params: 60,691\n",
      "Trainable params: 60,691\n",
      "Non-trainable params: 0\n",
      "__________________________________________________________________________________________________\n"
     ]
    }
   ],
   "source": [
    "def create_deeplob(T, NF, number_of_lstm):\n",
    "    input_lmd = Input(shape=(T, NF, 1))\n",
    "    \n",
    "    # build the convolutional block\n",
    "    conv_first1 = Conv2D(16, (1, 2), strides=(1, 2))(input_lmd)\n",
    "    conv_first1 = keras.layers.LeakyReLU(alpha=0.01)(conv_first1)\n",
    "    conv_first1 = Conv2D(16, (4, 1), padding='same')(conv_first1)\n",
    "    conv_first1 = keras.layers.LeakyReLU(alpha=0.01)(conv_first1)\n",
    "    conv_first1 = Conv2D(16, (4, 1), padding='same')(conv_first1)\n",
    "    conv_first1 = keras.layers.LeakyReLU(alpha=0.01)(conv_first1)\n",
    "\n",
    "    conv_first1 = Conv2D(16, (1, 2), strides=(1, 2))(conv_first1)\n",
    "    conv_first1 = keras.layers.LeakyReLU(alpha=0.01)(conv_first1)\n",
    "    conv_first1 = Conv2D(16, (4, 1), padding='same')(conv_first1)\n",
    "    conv_first1 = keras.layers.LeakyReLU(alpha=0.01)(conv_first1)\n",
    "    conv_first1 = Conv2D(16, (4, 1), padding='same')(conv_first1)\n",
    "    conv_first1 = keras.layers.LeakyReLU(alpha=0.01)(conv_first1)\n",
    "\n",
    "    conv_first1 = Conv2D(16, (1, 10))(conv_first1)\n",
    "    conv_first1 = keras.layers.LeakyReLU(alpha=0.01)(conv_first1)\n",
    "    conv_first1 = Conv2D(16, (4, 1), padding='same')(conv_first1)\n",
    "    conv_first1 = keras.layers.LeakyReLU(alpha=0.01)(conv_first1)\n",
    "    conv_first1 = Conv2D(16, (4, 1), padding='same')(conv_first1)\n",
    "    conv_first1 = keras.layers.LeakyReLU(alpha=0.01)(conv_first1)\n",
    "    \n",
    "    # build the inception module\n",
    "    convsecond_1 = Conv2D(32, (1, 1), padding='same')(conv_first1)\n",
    "    convsecond_1 = keras.layers.LeakyReLU(alpha=0.01)(convsecond_1)\n",
    "    convsecond_1 = Conv2D(32, (3, 1), padding='same')(convsecond_1)\n",
    "    convsecond_1 = keras.layers.LeakyReLU(alpha=0.01)(convsecond_1)\n",
    "\n",
    "    convsecond_2 = Conv2D(32, (1, 1), padding='same')(conv_first1)\n",
    "    convsecond_2 = keras.layers.LeakyReLU(alpha=0.01)(convsecond_2)\n",
    "    convsecond_2 = Conv2D(32, (5, 1), padding='same')(convsecond_2)\n",
    "    convsecond_2 = keras.layers.LeakyReLU(alpha=0.01)(convsecond_2)\n",
    "\n",
    "    convsecond_3 = MaxPooling2D((3, 1), strides=(1, 1), padding='same')(conv_first1)\n",
    "    convsecond_3 = Conv2D(32, (1, 1), padding='same')(convsecond_3)\n",
    "    convsecond_3 = keras.layers.LeakyReLU(alpha=0.01)(convsecond_3)\n",
    "    \n",
    "    convsecond_output = keras.layers.concatenate([convsecond_1, convsecond_2, convsecond_3], axis=3)\n",
    "    conv_reshape = Reshape((int(convsecond_output.shape[1]), int(convsecond_output.shape[3])))(convsecond_output)\n",
    "    conv_reshape = keras.layers.Dropout(0.2, noise_shape=(None, 1, int(conv_reshape.shape[2])))(conv_reshape, training=True)\n",
    "    \n",
    "    # build the last LSTM layer\n",
    "    conv_lstm = LSTM(number_of_lstm)(conv_reshape)  # Change CuDNNLSTM to LSTM\n",
    "\n",
    "    # build the output layer\n",
    "    out = Dense(3, activation='softmax')(conv_lstm)\n",
    "    model = Model(inputs=input_lmd, outputs=out)\n",
    "    adam = keras.optimizers.Adam(learning_rate=0.0001)\n",
    "    model.compile(optimizer=adam, loss='categorical_crossentropy', metrics=['accuracy'])\n",
    "\n",
    "    return model\n",
    "\n",
    "# Create the model\n",
    "deeplob = create_deeplob(trainX_CNN.shape[1], trainX_CNN.shape[2], n_hiddens)\n",
    "deeplob.summary()"
   ]
  },
  {
   "cell_type": "markdown",
   "metadata": {},
   "source": [
    "# Model Training"
   ]
  },
  {
   "cell_type": "code",
   "execution_count": null,
   "metadata": {},
   "outputs": [
    {
     "name": "stdout",
     "output_type": "stream",
     "text": [
      "Epoch 1/50\n",
      "322/322 [==============================] - 37s 108ms/step - loss: 1.0391 - accuracy: 0.4356 - val_loss: 0.9367 - val_accuracy: 0.5166 - lr: 1.0000e-04\n",
      "Epoch 2/50\n",
      "322/322 [==============================] - 36s 113ms/step - loss: 1.0057 - accuracy: 0.4608 - val_loss: 0.9339 - val_accuracy: 0.5107 - lr: 1.0000e-04\n",
      "Epoch 3/50\n",
      "322/322 [==============================] - 38s 119ms/step - loss: 0.9977 - accuracy: 0.4689 - val_loss: 0.9258 - val_accuracy: 0.5339 - lr: 1.0000e-04\n",
      "Epoch 4/50\n",
      "322/322 [==============================] - 40s 123ms/step - loss: 0.9872 - accuracy: 0.4845 - val_loss: 0.9220 - val_accuracy: 0.5525 - lr: 1.0000e-04\n",
      "Epoch 5/50\n",
      "322/322 [==============================] - 40s 125ms/step - loss: 0.9628 - accuracy: 0.5173 - val_loss: 0.9476 - val_accuracy: 0.5452 - lr: 1.0000e-04\n",
      "Epoch 6/50\n",
      "322/322 [==============================] - 42s 129ms/step - loss: 0.9317 - accuracy: 0.5574 - val_loss: 0.9708 - val_accuracy: 0.5439 - lr: 1.0000e-04\n",
      "Epoch 7/50\n",
      "322/322 [==============================] - 41s 127ms/step - loss: 0.9121 - accuracy: 0.5736 - val_loss: 0.9623 - val_accuracy: 0.5794 - lr: 1.0000e-04\n",
      "Epoch 8/50\n",
      "322/322 [==============================] - 41s 128ms/step - loss: 0.8910 - accuracy: 0.5886 - val_loss: 0.9440 - val_accuracy: 0.5957 - lr: 1.0000e-04\n",
      "Epoch 9/50\n",
      "322/322 [==============================] - 42s 131ms/step - loss: 0.8768 - accuracy: 0.5980 - val_loss: 0.9276 - val_accuracy: 0.5985 - lr: 1.0000e-04\n",
      "Epoch 10/50\n",
      "322/322 [==============================] - 43s 132ms/step - loss: 0.8599 - accuracy: 0.6120 - val_loss: 0.9487 - val_accuracy: 0.5966 - lr: 5.0000e-05\n",
      "Epoch 11/50\n",
      "322/322 [==============================] - 42s 131ms/step - loss: 0.8508 - accuracy: 0.6196 - val_loss: 0.9359 - val_accuracy: 0.6053 - lr: 5.0000e-05\n",
      "Epoch 12/50\n",
      "322/322 [==============================] - 42s 130ms/step - loss: 0.8459 - accuracy: 0.6213 - val_loss: 0.9334 - val_accuracy: 0.6107 - lr: 5.0000e-05\n",
      "Epoch 13/50\n",
      "322/322 [==============================] - 42s 131ms/step - loss: 0.8366 - accuracy: 0.6261 - val_loss: 0.9182 - val_accuracy: 0.6271 - lr: 5.0000e-05\n",
      "Epoch 14/50\n",
      "322/322 [==============================] - 42s 132ms/step - loss: 0.8292 - accuracy: 0.6332 - val_loss: 0.9120 - val_accuracy: 0.6207 - lr: 5.0000e-05\n",
      "Epoch 15/50\n",
      "322/322 [==============================] - 44s 136ms/step - loss: 0.8252 - accuracy: 0.6318 - val_loss: 0.9076 - val_accuracy: 0.6212 - lr: 5.0000e-05\n",
      "Epoch 16/50\n",
      "322/322 [==============================] - 43s 135ms/step - loss: 0.8151 - accuracy: 0.6400 - val_loss: 0.9207 - val_accuracy: 0.6271 - lr: 5.0000e-05\n",
      "Epoch 17/50\n",
      "322/322 [==============================] - 43s 133ms/step - loss: 0.8112 - accuracy: 0.6405 - val_loss: 0.9120 - val_accuracy: 0.6198 - lr: 5.0000e-05\n",
      "Epoch 18/50\n",
      "322/322 [==============================] - 42s 131ms/step - loss: 0.8064 - accuracy: 0.6438 - val_loss: 0.9062 - val_accuracy: 0.6335 - lr: 5.0000e-05\n",
      "Epoch 19/50\n",
      "322/322 [==============================] - 42s 131ms/step - loss: 0.7978 - accuracy: 0.6493 - val_loss: 0.8989 - val_accuracy: 0.6371 - lr: 5.0000e-05\n",
      "Epoch 20/50\n",
      "322/322 [==============================] - 42s 131ms/step - loss: 0.7937 - accuracy: 0.6522 - val_loss: 0.8852 - val_accuracy: 0.6317 - lr: 5.0000e-05\n",
      "Epoch 21/50\n",
      "322/322 [==============================] - 44s 135ms/step - loss: 0.7864 - accuracy: 0.6546 - val_loss: 0.8960 - val_accuracy: 0.6321 - lr: 5.0000e-05\n",
      "Epoch 22/50\n",
      "322/322 [==============================] - 43s 132ms/step - loss: 0.7837 - accuracy: 0.6532 - val_loss: 0.8894 - val_accuracy: 0.6398 - lr: 5.0000e-05\n",
      "Epoch 23/50\n",
      "322/322 [==============================] - 43s 133ms/step - loss: 0.7764 - accuracy: 0.6585 - val_loss: 0.8885 - val_accuracy: 0.6362 - lr: 5.0000e-05\n",
      "Epoch 24/50\n",
      "322/322 [==============================] - 43s 133ms/step - loss: 0.7728 - accuracy: 0.6588 - val_loss: 0.8797 - val_accuracy: 0.6380 - lr: 5.0000e-05\n",
      "Epoch 25/50\n",
      "322/322 [==============================] - 43s 133ms/step - loss: 0.7668 - accuracy: 0.6645 - val_loss: 0.8889 - val_accuracy: 0.6394 - lr: 5.0000e-05\n",
      "Epoch 26/50\n",
      "322/322 [==============================] - 42s 131ms/step - loss: 0.7636 - accuracy: 0.6656 - val_loss: 0.8686 - val_accuracy: 0.6494 - lr: 5.0000e-05\n",
      "Epoch 27/50\n",
      "322/322 [==============================] - 43s 133ms/step - loss: 0.7567 - accuracy: 0.6706 - val_loss: 0.8840 - val_accuracy: 0.6376 - lr: 5.0000e-05\n",
      "Epoch 28/50\n",
      "322/322 [==============================] - 43s 134ms/step - loss: 0.7544 - accuracy: 0.6701 - val_loss: 0.8794 - val_accuracy: 0.6503 - lr: 5.0000e-05\n",
      "Epoch 29/50\n",
      "322/322 [==============================] - 43s 132ms/step - loss: 0.7480 - accuracy: 0.6748 - val_loss: 0.8786 - val_accuracy: 0.6421 - lr: 5.0000e-05\n",
      "Epoch 30/50\n",
      "322/322 [==============================] - 43s 133ms/step - loss: 0.7450 - accuracy: 0.6775 - val_loss: 0.8885 - val_accuracy: 0.6389 - lr: 5.0000e-05\n",
      "Epoch 31/50\n",
      "322/322 [==============================] - 42s 132ms/step - loss: 0.7399 - accuracy: 0.6801 - val_loss: 0.8795 - val_accuracy: 0.6389 - lr: 5.0000e-05\n",
      "Epoch 32/50\n",
      "322/322 [==============================] - 43s 133ms/step - loss: 0.7309 - accuracy: 0.6859 - val_loss: 0.8815 - val_accuracy: 0.6403 - lr: 2.5000e-05\n",
      "Epoch 33/50\n",
      "322/322 [==============================] - 43s 135ms/step - loss: 0.7268 - accuracy: 0.6846 - val_loss: 0.8754 - val_accuracy: 0.6407 - lr: 2.5000e-05\n",
      "Epoch 34/50\n",
      "322/322 [==============================] - 43s 132ms/step - loss: 0.7264 - accuracy: 0.6854 - val_loss: 0.8672 - val_accuracy: 0.6439 - lr: 2.5000e-05\n",
      "Epoch 35/50\n",
      "322/322 [==============================] - 44s 138ms/step - loss: 0.7235 - accuracy: 0.6900 - val_loss: 0.8843 - val_accuracy: 0.6389 - lr: 2.5000e-05\n",
      "Epoch 36/50\n",
      "322/322 [==============================] - 43s 135ms/step - loss: 0.7196 - accuracy: 0.6925 - val_loss: 0.8877 - val_accuracy: 0.6389 - lr: 2.5000e-05\n",
      "Epoch 37/50\n",
      "322/322 [==============================] - 43s 133ms/step - loss: 0.7176 - accuracy: 0.6909 - val_loss: 0.8871 - val_accuracy: 0.6385 - lr: 2.5000e-05\n",
      "Epoch 38/50\n",
      "322/322 [==============================] - 43s 133ms/step - loss: 0.7151 - accuracy: 0.6928 - val_loss: 0.8804 - val_accuracy: 0.6494 - lr: 2.5000e-05\n",
      "Epoch 39/50\n",
      "322/322 [==============================] - 43s 134ms/step - loss: 0.7139 - accuracy: 0.6941 - val_loss: 0.8817 - val_accuracy: 0.6385 - lr: 2.5000e-05\n",
      "Epoch 40/50\n",
      "322/322 [==============================] - 43s 134ms/step - loss: 0.7085 - accuracy: 0.6961 - val_loss: 0.8752 - val_accuracy: 0.6439 - lr: 1.2500e-05\n",
      "Epoch 41/50\n",
      "322/322 [==============================] - 43s 135ms/step - loss: 0.7090 - accuracy: 0.6955 - val_loss: 0.8790 - val_accuracy: 0.6367 - lr: 1.2500e-05\n",
      "Epoch 42/50\n",
      "322/322 [==============================] - 43s 133ms/step - loss: 0.7063 - accuracy: 0.6958 - val_loss: 0.8837 - val_accuracy: 0.6376 - lr: 1.2500e-05\n",
      "Epoch 43/50\n",
      "322/322 [==============================] - 44s 136ms/step - loss: 0.7033 - accuracy: 0.6986 - val_loss: 0.8795 - val_accuracy: 0.6421 - lr: 1.2500e-05\n",
      "Epoch 44/50\n",
      "322/322 [==============================] - 44s 137ms/step - loss: 0.7044 - accuracy: 0.6989 - val_loss: 0.8782 - val_accuracy: 0.6430 - lr: 1.2500e-05\n"
     ]
    },
    {
     "data": {
      "text/plain": [
       "<keras.callbacks.History at 0x7f7fc21fd150>"
      ]
     },
     "execution_count": 13,
     "metadata": {},
     "output_type": "execute_result"
    }
   ],
   "source": [
    "# Set up the checkpoint callback\n",
    "model_checkpoint_callback = tf.keras.callbacks.ModelCheckpoint(\n",
    "    filepath=checkpoint_filepath,\n",
    "    save_weights_only=True,\n",
    "    monitor='val_loss',\n",
    "    mode='auto',\n",
    "    save_best_only=True\n",
    ")\n",
    "\n",
    "reduce_lr = ReduceLROnPlateau(monitor='val_loss', factor=0.5, patience=5, min_lr=0.00001)\n",
    "\n",
    "early_stopping = EarlyStopping(monitor='val_loss', patience=10, restore_best_weights=True)\n",
    "\n",
    "# Train the model\n",
    "deeplob.fit(trainX_CNN, trainY_CNN, validation_data=(valX_CNN, valY_CNN), \n",
    "            epochs=50, batch_size=64, verbose=1, callbacks=[model_checkpoint_callback,early_stopping,reduce_lr])\n"
   ]
  },
  {
   "cell_type": "markdown",
   "metadata": {},
   "source": [
    "# Model Testing"
   ]
  },
  {
   "cell_type": "code",
   "execution_count": 14,
   "metadata": {},
   "outputs": [
    {
     "name": "stdout",
     "output_type": "stream",
     "text": [
      "374/374 [==============================] - 11s 28ms/step\n"
     ]
    }
   ],
   "source": [
    "deeplob.load_weights(checkpoint_filepath)\n",
    "pred = deeplob.predict(testX_CNN)"
   ]
  },
  {
   "cell_type": "code",
   "execution_count": null,
   "metadata": {},
   "outputs": [
    {
     "name": "stdout",
     "output_type": "stream",
     "text": [
      "accuracy_score: 0.5727417063591543\n",
      "              precision    recall  f1-score   support\n",
      "\n",
      "           0     0.4990    0.5405    0.5189      3578\n",
      "           1     0.6756    0.5870    0.6282      4470\n",
      "           2     0.5458    0.5859    0.5651      3919\n",
      "\n",
      "    accuracy                         0.5727     11967\n",
      "   macro avg     0.5734    0.5711    0.5707     11967\n",
      "weighted avg     0.5803    0.5727    0.5749     11967\n",
      "\n"
     ]
    }
   ],
   "source": [
    "print('accuracy_score:', accuracy_score(np.argmax(testY_CNN, axis=1), np.argmax(pred, axis=1)))\n",
    "print(classification_report(np.argmax(testY_CNN, axis=1), np.argmax(pred, axis=1), digits=4))"
   ]
  },
  {
   "cell_type": "code",
   "execution_count": null,
   "metadata": {},
   "outputs": [
    {
     "data": {
      "image/png": "[encoded data removed]",
      "text/plain": [
       "<Figure size 1000x700 with 2 Axes>"
      ]
     },
     "metadata": {},
     "output_type": "display_data"
    }
   ],
   "source": [
    "# Convert one-hot encoded vectors to class labels\n",
    "true_labels = np.argmax(testY_CNN, axis=1)\n",
    "predicted_labels = np.argmax(pred, axis=1)\n",
    "\n",
    "# Compute the confusion matrix\n",
    "conf_matrix = confusion_matrix(true_labels, predicted_labels)\n",
    "\n",
    "\n",
    "# Plotting using seaborn\n",
    "plt.figure(figsize=(10, 7))\n",
    "sns.heatmap(conf_matrix, annot=True, fmt=\"d\", cmap=\"Blues\", xticklabels=[0, 1, 2], yticklabels=[0, 1, 2])\n",
    "plt.title('Confusion Matrix')\n",
    "plt.ylabel('True Label')\n",
    "plt.xlabel('Predicted Label')\n",
    "plt.show()"
   ]
  }
 ],
 "metadata": {
  "kernelspec": {
   "display_name": "ML",
   "language": "python",
   "name": "python3"
  },
  "language_info": {
   "codemirror_mode": {
    "name": "ipython",
    "version": 3
   },
   "file_extension": ".py",
   "mimetype": "text/x-python",
   "name": "python",
   "nbconvert_exporter": "python",
   "pygments_lexer": "ipython3",
   "version": "3.10.6"
  }
 },
 "nbformat": 4,
 "nbformat_minor": 2
}
