{
 "cells": [
  {
   "cell_type": "markdown",
   "metadata": {},
   "source": [
    "# Applying DeepLOB model to predict the results of horizon 10 for stock TPEIR of Athex Exchange."
   ]
  },
  {
   "cell_type": "code",
   "execution_count": null,
   "metadata": {},
   "outputs": [
    {
     "name": "stdout",
     "output_type": "stream",
     "text": [
      "2.9.1\n",
      "[PhysicalDevice(name='/physical_device:CPU:0', device_type='CPU')]\n"
     ]
    }
   ],
   "source": [
    "# Importing the libraries.\n",
    "import numpy as np\n",
    "import pandas as pd\n",
    "import tensorflow as tf\n",
    "from tensorflow.keras.utils import to_categorical\n",
    "from tensorflow.keras.callbacks import EarlyStopping, ModelCheckpoint\n",
    "from keras.layers import Flatten, Dense, Dropout, Activation, Input, LSTM, Reshape, Conv2D, MaxPooling2D, CuDNNLSTM\n",
    "from keras.models import Model\n",
    "import tensorflow as tf\n",
    "import keras\n",
    "\n",
    "from sklearn.metrics import classification_report, accuracy_score, confusion_matrix\n",
    "import matplotlib.pyplot as plt\n",
    "import seaborn as sns\n",
    "\n",
    "print(tf.__version__)\n",
    "print(tf.config.list_physical_devices())"
   ]
  },
  {
   "cell_type": "markdown",
   "metadata": {},
   "source": [
    "# Data preparation"
   ]
  },
  {
   "cell_type": "code",
   "execution_count": null,
   "metadata": {},
   "outputs": [],
   "source": [
    "# Functions to prepare the data for the model.\n",
    "def prepare_x(data):\n",
    "    df1 = data[:40, :].T\n",
    "    return np.array(df1)\n",
    "\n",
    "def get_label(data):\n",
    "    lob = data[-5:, :].T\n",
    "    return lob\n",
    "\n",
    "def data_classification(X, Y, T):\n",
    "    [N, D] = X.shape\n",
    "    df = np.array(X)\n",
    "    dY = np.array(Y)\n",
    "    dataY = dY[T - 1:N]\n",
    "    dataX = np.zeros((N - T + 1, T, D))\n",
    "    for i in range(T, N + 1):\n",
    "        dataX[i - T] = df[i - T:i, :]\n",
    "    return dataX.reshape(dataX.shape + (1,)), dataY\n",
    "\n",
    "def prepare_x_y(data, k, T):\n",
    "    x = prepare_x(data)\n",
    "    y = get_label(data)\n",
    "    x, y = data_classification(x, y, T=T)\n",
    "    y = y[:, k] - 1\n",
    "    y = to_categorical(y, 3)\n",
    "    return x, y\n"
   ]
  },
  {
   "cell_type": "code",
   "execution_count": null,
   "metadata": {},
   "outputs": [
    {
     "name": "stdout",
     "output_type": "stream",
     "text": [
      "(61942, 100, 40, 1) (61942, 3)\n",
      "(6795, 100, 40, 1) (6795, 3)\n",
      "(28283, 100, 40, 1) (28283, 3)\n"
     ]
    }
   ],
   "source": [
    "# Load data\n",
    "dec_data = np.loadtxt('train_TPEIR_case1.txt')\n",
    "dec_train = dec_data[:, :int(np.floor(dec_data.shape[1] * 0.9))]\n",
    "dec_val = dec_data[:, int(np.floor(dec_data.shape[1] * 0.9)):]\n",
    "dec_test = np.loadtxt('test_TPEIR_case1.txt')\n",
    "\n",
    "k = 0 # Which horizon to use for prediction\n",
    "T = 100 # The input dimension (time steps)\n",
    "n_hiddens = 64\n",
    "checkpoint_filepath = './tpeir_deeplob_k0/weights' # Where to save the model weights.\n",
    "\n",
    "trainX_CNN, trainY_CNN = prepare_x_y(dec_train, k, T)\n",
    "valX_CNN, valY_CNN = prepare_x_y(dec_val, k, T)\n",
    "testX_CNN, testY_CNN = prepare_x_y(dec_test, k, T)\n",
    "\n",
    "print(trainX_CNN.shape, trainY_CNN.shape)\n",
    "print(valX_CNN.shape, valY_CNN.shape)\n",
    "print(testX_CNN.shape, testY_CNN.shape)"
   ]
  },
  {
   "cell_type": "markdown",
   "metadata": {},
   "source": [
    "# Model Architecture\n"
   ]
  },
  {
   "cell_type": "code",
   "execution_count": null,
   "metadata": {},
   "outputs": [
    {
     "name": "stderr",
     "output_type": "stream",
     "text": [
      "2024-08-10 20:16:58.492405: I tensorflow/core/platform/cpu_feature_guard.cc:193] This TensorFlow binary is optimized with oneAPI Deep Neural Network Library (oneDNN) to use the following CPU instructions in performance-critical operations:  SSE4.1 SSE4.2\n",
      "To enable them in other operations, rebuild TensorFlow with the appropriate compiler flags.\n"
     ]
    },
    {
     "name": "stdout",
     "output_type": "stream",
     "text": [
      "Model: \"model\"\n",
      "__________________________________________________________________________________________________\n",
      " Layer (type)                   Output Shape         Param #     Connected to                     \n",
      "==================================================================================================\n",
      " input_1 (InputLayer)           [(None, 100, 40, 1)  0           []                               \n",
      "                                ]                                                                 \n",
      "                                                                                                  \n",
      " conv2d (Conv2D)                (None, 100, 20, 16)  48          ['input_1[0][0]']                \n",
      "                                                                                                  \n",
      " leaky_re_lu (LeakyReLU)        (None, 100, 20, 16)  0           ['conv2d[0][0]']                 \n",
      "                                                                                                  \n",
      " conv2d_1 (Conv2D)              (None, 100, 20, 16)  1040        ['leaky_re_lu[0][0]']            \n",
      "                                                                                                  \n",
      " leaky_re_lu_1 (LeakyReLU)      (None, 100, 20, 16)  0           ['conv2d_1[0][0]']               \n",
      "                                                                                                  \n",
      " conv2d_2 (Conv2D)              (None, 100, 20, 16)  1040        ['leaky_re_lu_1[0][0]']          \n",
      "                                                                                                  \n",
      " leaky_re_lu_2 (LeakyReLU)      (None, 100, 20, 16)  0           ['conv2d_2[0][0]']               \n",
      "                                                                                                  \n",
      " conv2d_3 (Conv2D)              (None, 100, 10, 16)  528         ['leaky_re_lu_2[0][0]']          \n",
      "                                                                                                  \n",
      " leaky_re_lu_3 (LeakyReLU)      (None, 100, 10, 16)  0           ['conv2d_3[0][0]']               \n",
      "                                                                                                  \n",
      " conv2d_4 (Conv2D)              (None, 100, 10, 16)  1040        ['leaky_re_lu_3[0][0]']          \n",
      "                                                                                                  \n",
      " leaky_re_lu_4 (LeakyReLU)      (None, 100, 10, 16)  0           ['conv2d_4[0][0]']               \n",
      "                                                                                                  \n",
      " conv2d_5 (Conv2D)              (None, 100, 10, 16)  1040        ['leaky_re_lu_4[0][0]']          \n",
      "                                                                                                  \n",
      " leaky_re_lu_5 (LeakyReLU)      (None, 100, 10, 16)  0           ['conv2d_5[0][0]']               \n",
      "                                                                                                  \n",
      " conv2d_6 (Conv2D)              (None, 100, 1, 16)   2576        ['leaky_re_lu_5[0][0]']          \n",
      "                                                                                                  \n",
      " leaky_re_lu_6 (LeakyReLU)      (None, 100, 1, 16)   0           ['conv2d_6[0][0]']               \n",
      "                                                                                                  \n",
      " conv2d_7 (Conv2D)              (None, 100, 1, 16)   1040        ['leaky_re_lu_6[0][0]']          \n",
      "                                                                                                  \n",
      " leaky_re_lu_7 (LeakyReLU)      (None, 100, 1, 16)   0           ['conv2d_7[0][0]']               \n",
      "                                                                                                  \n",
      " conv2d_8 (Conv2D)              (None, 100, 1, 16)   1040        ['leaky_re_lu_7[0][0]']          \n",
      "                                                                                                  \n",
      " leaky_re_lu_8 (LeakyReLU)      (None, 100, 1, 16)   0           ['conv2d_8[0][0]']               \n",
      "                                                                                                  \n",
      " conv2d_9 (Conv2D)              (None, 100, 1, 32)   544         ['leaky_re_lu_8[0][0]']          \n",
      "                                                                                                  \n",
      " conv2d_11 (Conv2D)             (None, 100, 1, 32)   544         ['leaky_re_lu_8[0][0]']          \n",
      "                                                                                                  \n",
      " leaky_re_lu_9 (LeakyReLU)      (None, 100, 1, 32)   0           ['conv2d_9[0][0]']               \n",
      "                                                                                                  \n",
      " leaky_re_lu_11 (LeakyReLU)     (None, 100, 1, 32)   0           ['conv2d_11[0][0]']              \n",
      "                                                                                                  \n",
      " max_pooling2d (MaxPooling2D)   (None, 100, 1, 16)   0           ['leaky_re_lu_8[0][0]']          \n",
      "                                                                                                  \n",
      " conv2d_10 (Conv2D)             (None, 100, 1, 32)   3104        ['leaky_re_lu_9[0][0]']          \n",
      "                                                                                                  \n",
      " conv2d_12 (Conv2D)             (None, 100, 1, 32)   5152        ['leaky_re_lu_11[0][0]']         \n",
      "                                                                                                  \n",
      " conv2d_13 (Conv2D)             (None, 100, 1, 32)   544         ['max_pooling2d[0][0]']          \n",
      "                                                                                                  \n",
      " leaky_re_lu_10 (LeakyReLU)     (None, 100, 1, 32)   0           ['conv2d_10[0][0]']              \n",
      "                                                                                                  \n",
      " leaky_re_lu_12 (LeakyReLU)     (None, 100, 1, 32)   0           ['conv2d_12[0][0]']              \n",
      "                                                                                                  \n",
      " leaky_re_lu_13 (LeakyReLU)     (None, 100, 1, 32)   0           ['conv2d_13[0][0]']              \n",
      "                                                                                                  \n",
      " concatenate (Concatenate)      (None, 100, 1, 96)   0           ['leaky_re_lu_10[0][0]',         \n",
      "                                                                  'leaky_re_lu_12[0][0]',         \n",
      "                                                                  'leaky_re_lu_13[0][0]']         \n",
      "                                                                                                  \n",
      " reshape (Reshape)              (None, 100, 96)      0           ['concatenate[0][0]']            \n",
      "                                                                                                  \n",
      " dropout (Dropout)              (None, 100, 96)      0           ['reshape[0][0]']                \n",
      "                                                                                                  \n",
      " lstm (LSTM)                    (None, 64)           41216       ['dropout[0][0]']                \n",
      "                                                                                                  \n",
      " dense (Dense)                  (None, 3)            195         ['lstm[0][0]']                   \n",
      "                                                                                                  \n",
      "==================================================================================================\n",
      "Total params: 60,691\n",
      "Trainable params: 60,691\n",
      "Non-trainable params: 0\n",
      "__________________________________________________________________________________________________\n"
     ]
    },
    {
     "name": "stderr",
     "output_type": "stream",
     "text": [
      "/Users/lamprosganias/opt/anaconda3/envs/ML/lib/python3.10/site-packages/keras/optimizers/optimizer_v2/adam.py:110: UserWarning: The `lr` argument is deprecated, use `learning_rate` instead.\n",
      "  super(Adam, self).__init__(name, **kwargs)\n"
     ]
    }
   ],
   "source": [
    "def create_deeplob(T, NF, number_of_lstm):\n",
    "    input_lmd = Input(shape=(T, NF, 1))\n",
    "    \n",
    "    # build the convolutional block\n",
    "    conv_first1 = Conv2D(16, (1, 2), strides=(1, 2))(input_lmd)\n",
    "    conv_first1 = keras.layers.LeakyReLU(alpha=0.01)(conv_first1)\n",
    "    conv_first1 = Conv2D(16, (4, 1), padding='same')(conv_first1)\n",
    "    conv_first1 = keras.layers.LeakyReLU(alpha=0.01)(conv_first1)\n",
    "    conv_first1 = Conv2D(16, (4, 1), padding='same')(conv_first1)\n",
    "    conv_first1 = keras.layers.LeakyReLU(alpha=0.01)(conv_first1)\n",
    "\n",
    "    conv_first1 = Conv2D(16, (1, 2), strides=(1, 2))(conv_first1)\n",
    "    conv_first1 = keras.layers.LeakyReLU(alpha=0.01)(conv_first1)\n",
    "    conv_first1 = Conv2D(16, (4, 1), padding='same')(conv_first1)\n",
    "    conv_first1 = keras.layers.LeakyReLU(alpha=0.01)(conv_first1)\n",
    "    conv_first1 = Conv2D(16, (4, 1), padding='same')(conv_first1)\n",
    "    conv_first1 = keras.layers.LeakyReLU(alpha=0.01)(conv_first1)\n",
    "\n",
    "    conv_first1 = Conv2D(16, (1, 10))(conv_first1)\n",
    "    conv_first1 = keras.layers.LeakyReLU(alpha=0.01)(conv_first1)\n",
    "    conv_first1 = Conv2D(16, (4, 1), padding='same')(conv_first1)\n",
    "    conv_first1 = keras.layers.LeakyReLU(alpha=0.01)(conv_first1)\n",
    "    conv_first1 = Conv2D(16, (4, 1), padding='same')(conv_first1)\n",
    "    conv_first1 = keras.layers.LeakyReLU(alpha=0.01)(conv_first1)\n",
    "    \n",
    "    # build the inception module\n",
    "    convsecond_1 = Conv2D(32, (1, 1), padding='same')(conv_first1)\n",
    "    convsecond_1 = keras.layers.LeakyReLU(alpha=0.01)(convsecond_1)\n",
    "    convsecond_1 = Conv2D(32, (3, 1), padding='same')(convsecond_1)\n",
    "    convsecond_1 = keras.layers.LeakyReLU(alpha=0.01)(convsecond_1)\n",
    "\n",
    "    convsecond_2 = Conv2D(32, (1, 1), padding='same')(conv_first1)\n",
    "    convsecond_2 = keras.layers.LeakyReLU(alpha=0.01)(convsecond_2)\n",
    "    convsecond_2 = Conv2D(32, (5, 1), padding='same')(convsecond_2)\n",
    "    convsecond_2 = keras.layers.LeakyReLU(alpha=0.01)(convsecond_2)\n",
    "\n",
    "    convsecond_3 = MaxPooling2D((3, 1), strides=(1, 1), padding='same')(conv_first1)\n",
    "    convsecond_3 = Conv2D(32, (1, 1), padding='same')(convsecond_3)\n",
    "    convsecond_3 = keras.layers.LeakyReLU(alpha=0.01)(convsecond_3)\n",
    "    \n",
    "    convsecond_output = keras.layers.concatenate([convsecond_1, convsecond_2, convsecond_3], axis=3)\n",
    "    conv_reshape = Reshape((int(convsecond_output.shape[1]), int(convsecond_output.shape[3])))(convsecond_output)\n",
    "    conv_reshape = keras.layers.Dropout(0.2, noise_shape=(None, 1, int(conv_reshape.shape[2])))(conv_reshape, training=True)\n",
    "    \n",
    "    # build the last LSTM layer\n",
    "    conv_lstm = LSTM(number_of_lstm)(conv_reshape)  # Change CuDNNLSTM to LSTM\n",
    "\n",
    "    # build the output layer\n",
    "    out = Dense(3, activation='softmax')(conv_lstm)\n",
    "    model = Model(inputs=input_lmd, outputs=out)\n",
    "    adam = keras.optimizers.Adam(lr=0.0001)\n",
    "    model.compile(optimizer=adam, loss='categorical_crossentropy', metrics=['accuracy'])\n",
    "\n",
    "    return model\n",
    "\n",
    "# Create the model\n",
    "deeplob = create_deeplob(trainX_CNN.shape[1], trainX_CNN.shape[2], n_hiddens)\n",
    "deeplob.summary()"
   ]
  },
  {
   "cell_type": "markdown",
   "metadata": {},
   "source": [
    "# Model Training"
   ]
  },
  {
   "cell_type": "code",
   "execution_count": 7,
   "metadata": {},
   "outputs": [
    {
     "name": "stdout",
     "output_type": "stream",
     "text": [
      "Epoch 1/20\n",
      "968/968 [==============================] - 121s 123ms/step - loss: 1.0080 - accuracy: 0.4610 - val_loss: 1.0456 - val_accuracy: 0.4222\n",
      "Epoch 2/20\n",
      "968/968 [==============================] - 122s 125ms/step - loss: 0.9170 - accuracy: 0.5277 - val_loss: 1.0005 - val_accuracy: 0.4718\n",
      "Epoch 3/20\n",
      "968/968 [==============================] - 119s 123ms/step - loss: 0.8949 - accuracy: 0.5417 - val_loss: 1.0214 - val_accuracy: 0.4605\n",
      "Epoch 4/20\n",
      "968/968 [==============================] - 123s 127ms/step - loss: 0.8834 - accuracy: 0.5523 - val_loss: 0.9867 - val_accuracy: 0.4817\n",
      "Epoch 5/20\n",
      "968/968 [==============================] - 123s 127ms/step - loss: 0.8741 - accuracy: 0.5591 - val_loss: 0.9777 - val_accuracy: 0.4961\n",
      "Epoch 6/20\n",
      "968/968 [==============================] - 122s 126ms/step - loss: 0.8622 - accuracy: 0.5712 - val_loss: 0.9791 - val_accuracy: 0.5071\n",
      "Epoch 7/20\n",
      "968/968 [==============================] - 123s 127ms/step - loss: 0.8495 - accuracy: 0.5872 - val_loss: 0.9356 - val_accuracy: 0.5520\n",
      "Epoch 8/20\n",
      "968/968 [==============================] - 120s 124ms/step - loss: 0.8268 - accuracy: 0.6154 - val_loss: 0.8856 - val_accuracy: 0.5884\n",
      "Epoch 9/20\n",
      "968/968 [==============================] - 120s 124ms/step - loss: 0.7959 - accuracy: 0.6407 - val_loss: 0.8557 - val_accuracy: 0.6100\n",
      "Epoch 10/20\n",
      "968/968 [==============================] - 127s 132ms/step - loss: 0.7744 - accuracy: 0.6563 - val_loss: 0.8403 - val_accuracy: 0.6157\n",
      "Epoch 11/20\n",
      "968/968 [==============================] - 133s 137ms/step - loss: 0.7528 - accuracy: 0.6711 - val_loss: 0.8331 - val_accuracy: 0.6281\n",
      "Epoch 12/20\n",
      "968/968 [==============================] - 133s 138ms/step - loss: 0.7360 - accuracy: 0.6834 - val_loss: 0.8144 - val_accuracy: 0.6336\n",
      "Epoch 13/20\n",
      "968/968 [==============================] - 125s 129ms/step - loss: 0.7158 - accuracy: 0.6937 - val_loss: 0.7879 - val_accuracy: 0.6499\n",
      "Epoch 14/20\n",
      "968/968 [==============================] - 126s 130ms/step - loss: 0.7010 - accuracy: 0.7022 - val_loss: 0.7964 - val_accuracy: 0.6440\n",
      "Epoch 15/20\n",
      "968/968 [==============================] - 123s 127ms/step - loss: 0.6858 - accuracy: 0.7115 - val_loss: 0.7509 - val_accuracy: 0.6743\n",
      "Epoch 16/20\n",
      "968/968 [==============================] - 124s 129ms/step - loss: 0.6724 - accuracy: 0.7199 - val_loss: 0.7658 - val_accuracy: 0.6636\n",
      "Epoch 17/20\n",
      "968/968 [==============================] - 123s 127ms/step - loss: 0.6599 - accuracy: 0.7249 - val_loss: 0.7422 - val_accuracy: 0.6764\n",
      "Epoch 18/20\n",
      "968/968 [==============================] - 123s 127ms/step - loss: 0.6474 - accuracy: 0.7333 - val_loss: 0.7534 - val_accuracy: 0.6740\n",
      "Epoch 19/20\n",
      "968/968 [==============================] - 122s 126ms/step - loss: 0.6371 - accuracy: 0.7379 - val_loss: 0.7423 - val_accuracy: 0.6909\n",
      "Epoch 20/20\n",
      "968/968 [==============================] - 121s 125ms/step - loss: 0.6317 - accuracy: 0.7410 - val_loss: 0.7237 - val_accuracy: 0.6877\n"
     ]
    },
    {
     "data": {
      "text/plain": [
       "<keras.callbacks.History at 0x7ff7561c3460>"
      ]
     },
     "execution_count": 7,
     "metadata": {},
     "output_type": "execute_result"
    }
   ],
   "source": [
    "# Set up the checkpoint callback\n",
    "model_checkpoint_callback = tf.keras.callbacks.ModelCheckpoint(\n",
    "    filepath=checkpoint_filepath,\n",
    "    save_weights_only=True,\n",
    "    monitor='val_loss',\n",
    "    mode='auto',\n",
    "    save_best_only=True\n",
    ")\n",
    "\n",
    "early_stopping = EarlyStopping(monitor='val_loss', patience=4, restore_best_weights=True)\n",
    "\n",
    "\n",
    "# Train the model\n",
    "deeplob.fit(trainX_CNN, trainY_CNN, validation_data=(valX_CNN, valY_CNN), \n",
    "            epochs=20, batch_size=64, verbose=1, callbacks=[model_checkpoint_callback])\n"
   ]
  },
  {
   "cell_type": "code",
   "execution_count": 8,
   "metadata": {},
   "outputs": [
    {
     "name": "stdout",
     "output_type": "stream",
     "text": [
      "Epoch 1/20\n",
      "968/968 [==============================] - 115s 119ms/step - loss: 0.6210 - accuracy: 0.7463 - val_loss: 0.7208 - val_accuracy: 0.6979\n",
      "Epoch 2/20\n",
      "968/968 [==============================] - 119s 123ms/step - loss: 0.6130 - accuracy: 0.7507 - val_loss: 0.7199 - val_accuracy: 0.6980\n",
      "Epoch 3/20\n",
      "968/968 [==============================] - 122s 126ms/step - loss: 0.6066 - accuracy: 0.7535 - val_loss: 0.6989 - val_accuracy: 0.7013\n",
      "Epoch 4/20\n",
      "968/968 [==============================] - 118s 121ms/step - loss: 0.6004 - accuracy: 0.7574 - val_loss: 0.6861 - val_accuracy: 0.7071\n",
      "Epoch 5/20\n",
      "968/968 [==============================] - 117s 121ms/step - loss: 0.5933 - accuracy: 0.7590 - val_loss: 0.7030 - val_accuracy: 0.7038\n",
      "Epoch 6/20\n",
      "968/968 [==============================] - 118s 122ms/step - loss: 0.5859 - accuracy: 0.7637 - val_loss: 0.7061 - val_accuracy: 0.6992\n",
      "Epoch 7/20\n",
      "968/968 [==============================] - 118s 122ms/step - loss: 0.5848 - accuracy: 0.7624 - val_loss: 0.6788 - val_accuracy: 0.7114\n",
      "Epoch 8/20\n",
      "968/968 [==============================] - 120s 124ms/step - loss: 0.5781 - accuracy: 0.7662 - val_loss: 0.6719 - val_accuracy: 0.7143\n",
      "Epoch 9/20\n",
      "968/968 [==============================] - 119s 123ms/step - loss: 0.5729 - accuracy: 0.7686 - val_loss: 0.7051 - val_accuracy: 0.7073\n",
      "Epoch 10/20\n",
      "968/968 [==============================] - 117s 121ms/step - loss: 0.5693 - accuracy: 0.7699 - val_loss: 0.6617 - val_accuracy: 0.7244\n",
      "Epoch 11/20\n",
      "968/968 [==============================] - 117s 121ms/step - loss: 0.5644 - accuracy: 0.7728 - val_loss: 0.6507 - val_accuracy: 0.7258\n",
      "Epoch 12/20\n",
      "968/968 [==============================] - 116s 120ms/step - loss: 0.5607 - accuracy: 0.7740 - val_loss: 0.6691 - val_accuracy: 0.7179\n",
      "Epoch 13/20\n",
      "968/968 [==============================] - 118s 122ms/step - loss: 0.5569 - accuracy: 0.7759 - val_loss: 0.6731 - val_accuracy: 0.7185\n",
      "Epoch 14/20\n",
      "968/968 [==============================] - 117s 121ms/step - loss: 0.5514 - accuracy: 0.7792 - val_loss: 0.6486 - val_accuracy: 0.7277\n",
      "Epoch 15/20\n",
      "968/968 [==============================] - 116s 120ms/step - loss: 0.5516 - accuracy: 0.7771 - val_loss: 0.6664 - val_accuracy: 0.7214\n",
      "Epoch 16/20\n",
      "968/968 [==============================] - 117s 120ms/step - loss: 0.5472 - accuracy: 0.7807 - val_loss: 0.7060 - val_accuracy: 0.7042\n",
      "Epoch 17/20\n",
      "968/968 [==============================] - 115s 119ms/step - loss: 0.5425 - accuracy: 0.7833 - val_loss: 0.6766 - val_accuracy: 0.7163\n",
      "Epoch 18/20\n",
      "968/968 [==============================] - 118s 121ms/step - loss: 0.5398 - accuracy: 0.7840 - val_loss: 0.6416 - val_accuracy: 0.7317\n",
      "Epoch 19/20\n",
      "968/968 [==============================] - 118s 122ms/step - loss: 0.5366 - accuracy: 0.7858 - val_loss: 0.6497 - val_accuracy: 0.7235\n",
      "Epoch 20/20\n",
      "968/968 [==============================] - 120s 124ms/step - loss: 0.5334 - accuracy: 0.7870 - val_loss: 0.7002 - val_accuracy: 0.7129\n"
     ]
    },
    {
     "data": {
      "text/plain": [
       "<keras.callbacks.History at 0x7ff5f1437ac0>"
      ]
     },
     "execution_count": 8,
     "metadata": {},
     "output_type": "execute_result"
    }
   ],
   "source": [
    "early_stopping = EarlyStopping(monitor='val_loss', patience=4, restore_best_weights=True)\n",
    "# Train the model\n",
    "deeplob.fit(trainX_CNN, trainY_CNN, validation_data=(valX_CNN, valY_CNN), \n",
    "            epochs=20, batch_size=64, verbose=1, callbacks=[model_checkpoint_callback,early_stopping])"
   ]
  },
  {
   "cell_type": "markdown",
   "metadata": {},
   "source": [
    "# Model Testing"
   ]
  },
  {
   "cell_type": "code",
   "execution_count": 15,
   "metadata": {},
   "outputs": [
    {
     "name": "stdout",
     "output_type": "stream",
     "text": [
      "884/884 [==============================] - 19s 22ms/step\n"
     ]
    }
   ],
   "source": [
    "deeplob.load_weights(checkpoint_filepath)\n",
    "pred = deeplob.predict(testX_CNN)"
   ]
  },
  {
   "cell_type": "code",
   "execution_count": null,
   "metadata": {},
   "outputs": [
    {
     "name": "stdout",
     "output_type": "stream",
     "text": [
      "accuracy_score: 0.702683590849627\n",
      "              precision    recall  f1-score   support\n",
      "\n",
      "           0     0.7154    0.7996    0.7552     10180\n",
      "           1     0.6754    0.4534    0.5426      7924\n",
      "           2     0.7027    0.7998    0.7481     10179\n",
      "\n",
      "    accuracy                         0.7027     28283\n",
      "   macro avg     0.6978    0.6843    0.6820     28283\n",
      "weighted avg     0.6996    0.7027    0.6931     28283\n",
      "\n"
     ]
    }
   ],
   "source": [
    "print('accuracy_score:', accuracy_score(np.argmax(testY_CNN, axis=1), np.argmax(pred, axis=1)))\n",
    "print(classification_report(np.argmax(testY_CNN, axis=1), np.argmax(pred, axis=1), digits=4))"
   ]
  },
  {
   "cell_type": "code",
   "execution_count": null,
   "metadata": {},
   "outputs": [
    {
     "data": {
      "image/png": "[encoded data removed]",
      "text/plain": [
       "<Figure size 1000x700 with 2 Axes>"
      ]
     },
     "metadata": {},
     "output_type": "display_data"
    }
   ],
   "source": [
    "# Convert one-hot encoded vectors to class labels\n",
    "true_labels = np.argmax(testY_CNN, axis=1)\n",
    "predicted_labels = np.argmax(pred, axis=1)\n",
    "\n",
    "# Compute the confusion matrix\n",
    "conf_matrix = confusion_matrix(true_labels, predicted_labels)\n",
    "\n",
    "\n",
    "# Plotting using seaborn\n",
    "plt.figure(figsize=(10, 7))\n",
    "sns.heatmap(conf_matrix, annot=True, fmt=\"d\", cmap=\"Blues\", xticklabels=[0, 1, 2], yticklabels=[0, 1, 2])\n",
    "plt.title('Confusion Matrix')\n",
    "plt.ylabel('True Label')\n",
    "plt.xlabel('Predicted Label')\n",
    "plt.show()"
   ]
  }
 ],
 "metadata": {
  "kernelspec": {
   "display_name": "ML",
   "language": "python",
   "name": "python3"
  },
  "language_info": {
   "codemirror_mode": {
    "name": "ipython",
    "version": 3
   },
   "file_extension": ".py",
   "mimetype": "text/x-python",
   "name": "python",
   "nbconvert_exporter": "python",
   "pygments_lexer": "ipython3",
   "version": "3.10.6"
  }
 },
 "nbformat": 4,
 "nbformat_minor": 2
}
