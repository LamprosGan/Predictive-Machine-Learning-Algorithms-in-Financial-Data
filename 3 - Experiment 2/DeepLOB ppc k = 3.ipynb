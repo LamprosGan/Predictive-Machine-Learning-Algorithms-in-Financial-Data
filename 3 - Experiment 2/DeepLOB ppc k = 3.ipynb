{
 "cells": [
  {
   "cell_type": "markdown",
   "metadata": {},
   "source": [
    "# Applying DeepLOB model to predict the results of horizon 50 for stock PPC of Athex Exchange."
   ]
  },
  {
   "cell_type": "code",
   "execution_count": null,
   "metadata": {},
   "outputs": [
    {
     "name": "stdout",
     "output_type": "stream",
     "text": [
      "2.9.1\n",
      "[PhysicalDevice(name='/physical_device:CPU:0', device_type='CPU')]\n"
     ]
    }
   ],
   "source": [
    "# Importing the libraries.\n",
    "import numpy as np\n",
    "import pandas as pd\n",
    "import tensorflow as tf\n",
    "from tensorflow.keras.utils import to_categorical\n",
    "from tensorflow.keras.callbacks import EarlyStopping, ModelCheckpoint\n",
    "from keras.layers import Flatten, Dense, Dropout, Activation, Input, LSTM, Reshape, Conv2D, MaxPooling2D, CuDNNLSTM\n",
    "from keras.models import Model\n",
    "import tensorflow as tf\n",
    "import keras\n",
    "from tensorflow.keras.callbacks import ReduceLROnPlateau\n",
    "\n",
    "from sklearn.metrics import classification_report, accuracy_score, confusion_matrix\n",
    "import matplotlib.pyplot as plt\n",
    "import seaborn as sns\n",
    "\n",
    "print(tf.__version__)\n",
    "print(tf.config.list_physical_devices())"
   ]
  },
  {
   "cell_type": "markdown",
   "metadata": {},
   "source": [
    "# Data preparation"
   ]
  },
  {
   "cell_type": "code",
   "execution_count": null,
   "metadata": {},
   "outputs": [],
   "source": [
    "# Functions to prepare the data for the model.\n",
    "def prepare_x(data):\n",
    "    df1 = data[:40, :].T\n",
    "    return np.array(df1)\n",
    "\n",
    "def get_label(data):\n",
    "    lob = data[-5:, :].T\n",
    "    return lob\n",
    "\n",
    "def data_classification(X, Y, T):\n",
    "    [N, D] = X.shape\n",
    "    df = np.array(X)\n",
    "    dY = np.array(Y)\n",
    "    dataY = dY[T - 1:N]\n",
    "    dataX = np.zeros((N - T + 1, T, D))\n",
    "    for i in range(T, N + 1):\n",
    "        dataX[i - T] = df[i - T:i, :]\n",
    "    return dataX.reshape(dataX.shape + (1,)), dataY\n",
    "\n",
    "def prepare_x_y(data, k, T):\n",
    "    x = prepare_x(data)\n",
    "    y = get_label(data)\n",
    "    x, y = data_classification(x, y, T=T)\n",
    "    y = y[:, k] - 1\n",
    "    y = to_categorical(y, 3)\n",
    "    return x, y\n"
   ]
  },
  {
   "cell_type": "code",
   "execution_count": null,
   "metadata": {},
   "outputs": [
    {
     "name": "stdout",
     "output_type": "stream",
     "text": [
      "(22185, 100, 40, 1) (22185, 3)\n",
      "(2378, 100, 40, 1) (2378, 3)\n",
      "(28283, 100, 40, 1) (28283, 3)\n"
     ]
    }
   ],
   "source": [
    "# Load data\n",
    "dec_data = np.loadtxt('train_PPC_case1.txt')\n",
    "dec_train = dec_data[:, :int(np.floor(dec_data.shape[1] * 0.9))]\n",
    "dec_val = dec_data[:, int(np.floor(dec_data.shape[1] * 0.9)):]\n",
    "dec_test = np.loadtxt('test_TPEIR_case1.txt')\n",
    "\n",
    "k = 3 # Which horizon to use for prediction\n",
    "T = 100 # The input dimension (time steps)\n",
    "n_hiddens = 64\n",
    "checkpoint_filepath = './ppc_deeplob_k3/weights' # Where to save the model weights.\n",
    "\n",
    "trainX_CNN, trainY_CNN = prepare_x_y(dec_train, k, T)\n",
    "valX_CNN, valY_CNN = prepare_x_y(dec_val, k, T)\n",
    "testX_CNN, testY_CNN = prepare_x_y(dec_test, k, T)\n",
    "\n",
    "print(trainX_CNN.shape, trainY_CNN.shape)\n",
    "print(valX_CNN.shape, valY_CNN.shape)\n",
    "print(testX_CNN.shape, testY_CNN.shape)"
   ]
  },
  {
   "cell_type": "markdown",
   "metadata": {},
   "source": [
    "# Model Architecture\n"
   ]
  },
  {
   "cell_type": "code",
   "execution_count": null,
   "metadata": {},
   "outputs": [
    {
     "name": "stdout",
     "output_type": "stream",
     "text": [
      "Model: \"model_5\"\n",
      "__________________________________________________________________________________________________\n",
      " Layer (type)                   Output Shape         Param #     Connected to                     \n",
      "==================================================================================================\n",
      " input_6 (InputLayer)           [(None, 100, 40, 1)  0           []                               \n",
      "                                ]                                                                 \n",
      "                                                                                                  \n",
      " conv2d_70 (Conv2D)             (None, 100, 20, 16)  48          ['input_6[0][0]']                \n",
      "                                                                                                  \n",
      " leaky_re_lu_70 (LeakyReLU)     (None, 100, 20, 16)  0           ['conv2d_70[0][0]']              \n",
      "                                                                                                  \n",
      " conv2d_71 (Conv2D)             (None, 100, 20, 16)  1040        ['leaky_re_lu_70[0][0]']         \n",
      "                                                                                                  \n",
      " leaky_re_lu_71 (LeakyReLU)     (None, 100, 20, 16)  0           ['conv2d_71[0][0]']              \n",
      "                                                                                                  \n",
      " conv2d_72 (Conv2D)             (None, 100, 20, 16)  1040        ['leaky_re_lu_71[0][0]']         \n",
      "                                                                                                  \n",
      " leaky_re_lu_72 (LeakyReLU)     (None, 100, 20, 16)  0           ['conv2d_72[0][0]']              \n",
      "                                                                                                  \n",
      " conv2d_73 (Conv2D)             (None, 100, 10, 16)  528         ['leaky_re_lu_72[0][0]']         \n",
      "                                                                                                  \n",
      " leaky_re_lu_73 (LeakyReLU)     (None, 100, 10, 16)  0           ['conv2d_73[0][0]']              \n",
      "                                                                                                  \n",
      " conv2d_74 (Conv2D)             (None, 100, 10, 16)  1040        ['leaky_re_lu_73[0][0]']         \n",
      "                                                                                                  \n",
      " leaky_re_lu_74 (LeakyReLU)     (None, 100, 10, 16)  0           ['conv2d_74[0][0]']              \n",
      "                                                                                                  \n",
      " conv2d_75 (Conv2D)             (None, 100, 10, 16)  1040        ['leaky_re_lu_74[0][0]']         \n",
      "                                                                                                  \n",
      " leaky_re_lu_75 (LeakyReLU)     (None, 100, 10, 16)  0           ['conv2d_75[0][0]']              \n",
      "                                                                                                  \n",
      " conv2d_76 (Conv2D)             (None, 100, 1, 16)   2576        ['leaky_re_lu_75[0][0]']         \n",
      "                                                                                                  \n",
      " leaky_re_lu_76 (LeakyReLU)     (None, 100, 1, 16)   0           ['conv2d_76[0][0]']              \n",
      "                                                                                                  \n",
      " conv2d_77 (Conv2D)             (None, 100, 1, 16)   1040        ['leaky_re_lu_76[0][0]']         \n",
      "                                                                                                  \n",
      " leaky_re_lu_77 (LeakyReLU)     (None, 100, 1, 16)   0           ['conv2d_77[0][0]']              \n",
      "                                                                                                  \n",
      " conv2d_78 (Conv2D)             (None, 100, 1, 16)   1040        ['leaky_re_lu_77[0][0]']         \n",
      "                                                                                                  \n",
      " leaky_re_lu_78 (LeakyReLU)     (None, 100, 1, 16)   0           ['conv2d_78[0][0]']              \n",
      "                                                                                                  \n",
      " conv2d_79 (Conv2D)             (None, 100, 1, 32)   544         ['leaky_re_lu_78[0][0]']         \n",
      "                                                                                                  \n",
      " conv2d_81 (Conv2D)             (None, 100, 1, 32)   544         ['leaky_re_lu_78[0][0]']         \n",
      "                                                                                                  \n",
      " leaky_re_lu_79 (LeakyReLU)     (None, 100, 1, 32)   0           ['conv2d_79[0][0]']              \n",
      "                                                                                                  \n",
      " leaky_re_lu_81 (LeakyReLU)     (None, 100, 1, 32)   0           ['conv2d_81[0][0]']              \n",
      "                                                                                                  \n",
      " max_pooling2d_5 (MaxPooling2D)  (None, 100, 1, 16)  0           ['leaky_re_lu_78[0][0]']         \n",
      "                                                                                                  \n",
      " conv2d_80 (Conv2D)             (None, 100, 1, 32)   3104        ['leaky_re_lu_79[0][0]']         \n",
      "                                                                                                  \n",
      " conv2d_82 (Conv2D)             (None, 100, 1, 32)   5152        ['leaky_re_lu_81[0][0]']         \n",
      "                                                                                                  \n",
      " conv2d_83 (Conv2D)             (None, 100, 1, 32)   544         ['max_pooling2d_5[0][0]']        \n",
      "                                                                                                  \n",
      " leaky_re_lu_80 (LeakyReLU)     (None, 100, 1, 32)   0           ['conv2d_80[0][0]']              \n",
      "                                                                                                  \n",
      " leaky_re_lu_82 (LeakyReLU)     (None, 100, 1, 32)   0           ['conv2d_82[0][0]']              \n",
      "                                                                                                  \n",
      " leaky_re_lu_83 (LeakyReLU)     (None, 100, 1, 32)   0           ['conv2d_83[0][0]']              \n",
      "                                                                                                  \n",
      " concatenate_5 (Concatenate)    (None, 100, 1, 96)   0           ['leaky_re_lu_80[0][0]',         \n",
      "                                                                  'leaky_re_lu_82[0][0]',         \n",
      "                                                                  'leaky_re_lu_83[0][0]']         \n",
      "                                                                                                  \n",
      " reshape_5 (Reshape)            (None, 100, 96)      0           ['concatenate_5[0][0]']          \n",
      "                                                                                                  \n",
      " dropout_5 (Dropout)            (None, 100, 96)      0           ['reshape_5[0][0]']              \n",
      "                                                                                                  \n",
      " lstm_5 (LSTM)                  (None, 64)           41216       ['dropout_5[0][0]']              \n",
      "                                                                                                  \n",
      " dense_5 (Dense)                (None, 3)            195         ['lstm_5[0][0]']                 \n",
      "                                                                                                  \n",
      "==================================================================================================\n",
      "Total params: 60,691\n",
      "Trainable params: 60,691\n",
      "Non-trainable params: 0\n",
      "__________________________________________________________________________________________________\n"
     ]
    }
   ],
   "source": [
    "def create_deeplob(T, NF, number_of_lstm):\n",
    "    input_lmd = Input(shape=(T, NF, 1))\n",
    "    \n",
    "    # build the convolutional block\n",
    "    conv_first1 = Conv2D(16, (1, 2), strides=(1, 2))(input_lmd)\n",
    "    conv_first1 = keras.layers.LeakyReLU(alpha=0.01)(conv_first1)\n",
    "    conv_first1 = Conv2D(16, (4, 1), padding='same')(conv_first1)\n",
    "    conv_first1 = keras.layers.LeakyReLU(alpha=0.01)(conv_first1)\n",
    "    conv_first1 = Conv2D(16, (4, 1), padding='same')(conv_first1)\n",
    "    conv_first1 = keras.layers.LeakyReLU(alpha=0.01)(conv_first1)\n",
    "\n",
    "    conv_first1 = Conv2D(16, (1, 2), strides=(1, 2))(conv_first1)\n",
    "    conv_first1 = keras.layers.LeakyReLU(alpha=0.01)(conv_first1)\n",
    "    conv_first1 = Conv2D(16, (4, 1), padding='same')(conv_first1)\n",
    "    conv_first1 = keras.layers.LeakyReLU(alpha=0.01)(conv_first1)\n",
    "    conv_first1 = Conv2D(16, (4, 1), padding='same')(conv_first1)\n",
    "    conv_first1 = keras.layers.LeakyReLU(alpha=0.01)(conv_first1)\n",
    "\n",
    "    conv_first1 = Conv2D(16, (1, 10))(conv_first1)\n",
    "    conv_first1 = keras.layers.LeakyReLU(alpha=0.01)(conv_first1)\n",
    "    conv_first1 = Conv2D(16, (4, 1), padding='same')(conv_first1)\n",
    "    conv_first1 = keras.layers.LeakyReLU(alpha=0.01)(conv_first1)\n",
    "    conv_first1 = Conv2D(16, (4, 1), padding='same')(conv_first1)\n",
    "    conv_first1 = keras.layers.LeakyReLU(alpha=0.01)(conv_first1)\n",
    "    \n",
    "    # build the inception module\n",
    "    convsecond_1 = Conv2D(32, (1, 1), padding='same')(conv_first1)\n",
    "    convsecond_1 = keras.layers.LeakyReLU(alpha=0.01)(convsecond_1)\n",
    "    convsecond_1 = Conv2D(32, (3, 1), padding='same')(convsecond_1)\n",
    "    convsecond_1 = keras.layers.LeakyReLU(alpha=0.01)(convsecond_1)\n",
    "\n",
    "    convsecond_2 = Conv2D(32, (1, 1), padding='same')(conv_first1)\n",
    "    convsecond_2 = keras.layers.LeakyReLU(alpha=0.01)(convsecond_2)\n",
    "    convsecond_2 = Conv2D(32, (5, 1), padding='same')(convsecond_2)\n",
    "    convsecond_2 = keras.layers.LeakyReLU(alpha=0.01)(convsecond_2)\n",
    "\n",
    "    convsecond_3 = MaxPooling2D((3, 1), strides=(1, 1), padding='same')(conv_first1)\n",
    "    convsecond_3 = Conv2D(32, (1, 1), padding='same')(convsecond_3)\n",
    "    convsecond_3 = keras.layers.LeakyReLU(alpha=0.01)(convsecond_3)\n",
    "    \n",
    "    convsecond_output = keras.layers.concatenate([convsecond_1, convsecond_2, convsecond_3], axis=3)\n",
    "    conv_reshape = Reshape((int(convsecond_output.shape[1]), int(convsecond_output.shape[3])))(convsecond_output)\n",
    "    conv_reshape = keras.layers.Dropout(0.1, noise_shape=(None, 1, int(conv_reshape.shape[2])))(conv_reshape, training=True)\n",
    "    \n",
    "    # build the last LSTM layer\n",
    "    conv_lstm = LSTM(number_of_lstm)(conv_reshape)  # Change CuDNNLSTM to LSTM\n",
    "\n",
    "    # build the output layer\n",
    "    out = Dense(3, activation='softmax')(conv_lstm)\n",
    "    model = Model(inputs=input_lmd, outputs=out)\n",
    "    adam = keras.optimizers.Adam(learning_rate=0.0001)\n",
    "    model.compile(optimizer=adam, loss='categorical_crossentropy', metrics=['accuracy'])\n",
    "\n",
    "    return model\n",
    "\n",
    "# Create the model\n",
    "deeplob = create_deeplob(trainX_CNN.shape[1], trainX_CNN.shape[2], n_hiddens)\n",
    "deeplob.summary()"
   ]
  },
  {
   "cell_type": "markdown",
   "metadata": {},
   "source": [
    "# Model Training"
   ]
  },
  {
   "cell_type": "code",
   "execution_count": 44,
   "metadata": {},
   "outputs": [
    {
     "name": "stdout",
     "output_type": "stream",
     "text": [
      "Epoch 1/50\n",
      "174/174 [==============================] - 36s 193ms/step - loss: 1.0100 - accuracy: 0.4682 - val_loss: 1.0435 - val_accuracy: 0.4289\n",
      "Epoch 2/50\n",
      "174/174 [==============================] - 36s 207ms/step - loss: 0.9497 - accuracy: 0.4985 - val_loss: 1.0315 - val_accuracy: 0.4323\n",
      "Epoch 3/50\n",
      "174/174 [==============================] - 38s 215ms/step - loss: 0.9449 - accuracy: 0.4969 - val_loss: 1.0288 - val_accuracy: 0.4365\n",
      "Epoch 4/50\n",
      "174/174 [==============================] - 37s 215ms/step - loss: 0.9413 - accuracy: 0.4977 - val_loss: 1.0164 - val_accuracy: 0.4441\n",
      "Epoch 5/50\n",
      "174/174 [==============================] - 38s 216ms/step - loss: 0.9392 - accuracy: 0.4994 - val_loss: 1.0142 - val_accuracy: 0.4449\n",
      "Epoch 6/50\n",
      "174/174 [==============================] - 39s 227ms/step - loss: 0.9354 - accuracy: 0.5014 - val_loss: 1.0261 - val_accuracy: 0.4449\n",
      "Epoch 7/50\n",
      "174/174 [==============================] - 44s 252ms/step - loss: 0.9327 - accuracy: 0.5066 - val_loss: 1.0287 - val_accuracy: 0.4390\n",
      "Epoch 8/50\n",
      "174/174 [==============================] - 43s 247ms/step - loss: 0.9278 - accuracy: 0.5152 - val_loss: 1.0172 - val_accuracy: 0.4386\n",
      "Epoch 9/50\n",
      "174/174 [==============================] - 40s 227ms/step - loss: 0.9247 - accuracy: 0.5222 - val_loss: 1.0471 - val_accuracy: 0.4222\n",
      "Epoch 10/50\n",
      "174/174 [==============================] - 41s 235ms/step - loss: 0.9187 - accuracy: 0.5339 - val_loss: 1.0579 - val_accuracy: 0.4260\n",
      "Epoch 11/50\n",
      "174/174 [==============================] - 38s 220ms/step - loss: 0.9105 - accuracy: 0.5471 - val_loss: 1.0580 - val_accuracy: 0.4403\n",
      "Epoch 12/50\n",
      "174/174 [==============================] - 38s 221ms/step - loss: 0.9027 - accuracy: 0.5547 - val_loss: 1.0691 - val_accuracy: 0.4558\n",
      "Epoch 13/50\n",
      "174/174 [==============================] - 39s 225ms/step - loss: 0.8913 - accuracy: 0.5698 - val_loss: 1.0688 - val_accuracy: 0.4533\n",
      "Epoch 14/50\n",
      "174/174 [==============================] - 39s 223ms/step - loss: 0.8793 - accuracy: 0.5844 - val_loss: 1.0691 - val_accuracy: 0.4861\n",
      "Epoch 15/50\n",
      "174/174 [==============================] - 40s 227ms/step - loss: 0.8627 - accuracy: 0.6014 - val_loss: 1.0615 - val_accuracy: 0.4777\n",
      "Epoch 16/50\n",
      "174/174 [==============================] - 41s 235ms/step - loss: 0.8421 - accuracy: 0.6154 - val_loss: 1.0719 - val_accuracy: 0.4954\n",
      "Epoch 17/50\n",
      "174/174 [==============================] - 39s 226ms/step - loss: 0.8241 - accuracy: 0.6312 - val_loss: 1.0634 - val_accuracy: 0.5164\n",
      "Epoch 18/50\n",
      "174/174 [==============================] - 39s 224ms/step - loss: 0.8054 - accuracy: 0.6440 - val_loss: 1.0533 - val_accuracy: 0.5050\n",
      "Epoch 19/50\n",
      "174/174 [==============================] - 40s 228ms/step - loss: 0.7900 - accuracy: 0.6521 - val_loss: 0.9959 - val_accuracy: 0.5425\n",
      "Epoch 20/50\n",
      "174/174 [==============================] - 39s 227ms/step - loss: 0.7788 - accuracy: 0.6625 - val_loss: 1.0138 - val_accuracy: 0.5257\n",
      "Epoch 21/50\n",
      "174/174 [==============================] - 40s 229ms/step - loss: 0.7659 - accuracy: 0.6668 - val_loss: 1.0251 - val_accuracy: 0.5336\n",
      "Epoch 22/50\n",
      "174/174 [==============================] - 41s 238ms/step - loss: 0.7558 - accuracy: 0.6752 - val_loss: 1.0796 - val_accuracy: 0.4987\n",
      "Epoch 23/50\n",
      "174/174 [==============================] - 41s 233ms/step - loss: 0.7469 - accuracy: 0.6787 - val_loss: 0.9941 - val_accuracy: 0.5509\n",
      "Epoch 24/50\n",
      "174/174 [==============================] - 40s 231ms/step - loss: 0.7410 - accuracy: 0.6824 - val_loss: 1.0230 - val_accuracy: 0.5488\n",
      "Epoch 25/50\n",
      "174/174 [==============================] - 39s 225ms/step - loss: 0.7372 - accuracy: 0.6852 - val_loss: 1.0436 - val_accuracy: 0.5328\n",
      "Epoch 26/50\n",
      "174/174 [==============================] - 39s 222ms/step - loss: 0.7294 - accuracy: 0.6896 - val_loss: 1.0657 - val_accuracy: 0.5164\n",
      "Epoch 27/50\n",
      "174/174 [==============================] - 39s 226ms/step - loss: 0.7280 - accuracy: 0.6911 - val_loss: 1.0123 - val_accuracy: 0.5433\n",
      "Epoch 28/50\n",
      "174/174 [==============================] - 40s 228ms/step - loss: 0.7181 - accuracy: 0.6967 - val_loss: 0.9983 - val_accuracy: 0.5559\n",
      "Epoch 29/50\n",
      "174/174 [==============================] - 39s 225ms/step - loss: 0.7108 - accuracy: 0.7000 - val_loss: 1.0096 - val_accuracy: 0.5568\n",
      "Epoch 30/50\n",
      "174/174 [==============================] - 41s 233ms/step - loss: 0.7107 - accuracy: 0.7002 - val_loss: 1.0200 - val_accuracy: 0.5517\n",
      "Epoch 31/50\n",
      "174/174 [==============================] - 39s 225ms/step - loss: 0.7108 - accuracy: 0.6993 - val_loss: 1.0533 - val_accuracy: 0.5366\n",
      "Epoch 32/50\n",
      "174/174 [==============================] - 36s 208ms/step - loss: 0.7027 - accuracy: 0.7036 - val_loss: 0.9958 - val_accuracy: 0.5627\n",
      "Epoch 33/50\n",
      "174/174 [==============================] - 39s 226ms/step - loss: 0.7013 - accuracy: 0.7059 - val_loss: 1.0085 - val_accuracy: 0.5639\n",
      "Epoch 34/50\n",
      "174/174 [==============================] - 36s 209ms/step - loss: 0.6950 - accuracy: 0.7080 - val_loss: 1.0167 - val_accuracy: 0.5479\n",
      "Epoch 35/50\n",
      "174/174 [==============================] - 36s 206ms/step - loss: 0.6984 - accuracy: 0.7083 - val_loss: 1.0281 - val_accuracy: 0.5492\n",
      "Epoch 36/50\n",
      "174/174 [==============================] - 37s 212ms/step - loss: 0.6953 - accuracy: 0.7105 - val_loss: 1.0020 - val_accuracy: 0.5593\n",
      "Epoch 37/50\n",
      "174/174 [==============================] - 36s 207ms/step - loss: 0.6917 - accuracy: 0.7120 - val_loss: 0.9892 - val_accuracy: 0.5576\n",
      "Epoch 38/50\n",
      "174/174 [==============================] - 36s 208ms/step - loss: 0.6870 - accuracy: 0.7133 - val_loss: 1.0028 - val_accuracy: 0.5572\n",
      "Epoch 39/50\n",
      "174/174 [==============================] - 36s 206ms/step - loss: 0.6872 - accuracy: 0.7116 - val_loss: 1.0194 - val_accuracy: 0.5517\n",
      "Epoch 40/50\n",
      "174/174 [==============================] - 35s 200ms/step - loss: 0.6865 - accuracy: 0.7125 - val_loss: 0.9783 - val_accuracy: 0.5736\n",
      "Epoch 41/50\n",
      "174/174 [==============================] - 35s 202ms/step - loss: 0.6784 - accuracy: 0.7170 - val_loss: 1.0200 - val_accuracy: 0.5559\n",
      "Epoch 42/50\n",
      "174/174 [==============================] - 36s 209ms/step - loss: 0.6767 - accuracy: 0.7179 - val_loss: 1.0101 - val_accuracy: 0.5622\n",
      "Epoch 43/50\n",
      "174/174 [==============================] - 36s 207ms/step - loss: 0.6750 - accuracy: 0.7186 - val_loss: 0.9983 - val_accuracy: 0.5606\n",
      "Epoch 44/50\n",
      "174/174 [==============================] - 36s 208ms/step - loss: 0.6694 - accuracy: 0.7226 - val_loss: 0.9725 - val_accuracy: 0.5749\n",
      "Epoch 45/50\n",
      "174/174 [==============================] - 36s 207ms/step - loss: 0.6697 - accuracy: 0.7201 - val_loss: 0.9765 - val_accuracy: 0.5770\n",
      "Epoch 46/50\n",
      "174/174 [==============================] - 36s 208ms/step - loss: 0.6655 - accuracy: 0.7222 - val_loss: 1.0038 - val_accuracy: 0.5728\n",
      "Epoch 47/50\n",
      "174/174 [==============================] - 36s 208ms/step - loss: 0.6623 - accuracy: 0.7249 - val_loss: 0.9987 - val_accuracy: 0.5601\n",
      "Epoch 48/50\n",
      "174/174 [==============================] - 36s 206ms/step - loss: 0.6627 - accuracy: 0.7236 - val_loss: 1.0014 - val_accuracy: 0.5719\n",
      "Epoch 49/50\n",
      "174/174 [==============================] - 36s 206ms/step - loss: 0.6596 - accuracy: 0.7286 - val_loss: 0.9978 - val_accuracy: 0.5719\n",
      "Epoch 50/50\n",
      "174/174 [==============================] - 36s 207ms/step - loss: 0.6572 - accuracy: 0.7269 - val_loss: 0.9734 - val_accuracy: 0.5799\n"
     ]
    },
    {
     "data": {
      "text/plain": [
       "<keras.callbacks.History at 0x7f91812faf20>"
      ]
     },
     "execution_count": 44,
     "metadata": {},
     "output_type": "execute_result"
    }
   ],
   "source": [
    "# Set up the checkpoint callback\n",
    "model_checkpoint_callback = tf.keras.callbacks.ModelCheckpoint(\n",
    "    filepath=checkpoint_filepath,\n",
    "    save_weights_only=True,\n",
    "    monitor='val_loss',\n",
    "    mode='auto',\n",
    "    save_best_only=True\n",
    ")\n",
    "\n",
    "# early_stopping = EarlyStopping(monitor='val_loss', patience=10, restore_best_weights=True)\n",
    "\n",
    "# Train the model\n",
    "deeplob.fit(trainX_CNN, trainY_CNN, validation_data=(valX_CNN, valY_CNN), \n",
    "            epochs=50, batch_size=128, verbose=1, callbacks=[model_checkpoint_callback])#,early_stopping])\n"
   ]
  },
  {
   "cell_type": "markdown",
   "metadata": {},
   "source": [
    "# Model Testing"
   ]
  },
  {
   "cell_type": "code",
   "execution_count": 48,
   "metadata": {},
   "outputs": [
    {
     "name": "stdout",
     "output_type": "stream",
     "text": [
      "884/884 [==============================] - 20s 23ms/step\n"
     ]
    }
   ],
   "source": [
    "deeplob.load_weights(checkpoint_filepath)\n",
    "pred = deeplob.predict(testX_CNN)"
   ]
  },
  {
   "cell_type": "code",
   "execution_count": null,
   "metadata": {},
   "outputs": [
    {
     "name": "stdout",
     "output_type": "stream",
     "text": [
      "accuracy_score: 0.6111091468373228\n",
      "              precision    recall  f1-score   support\n",
      "\n",
      "           0     0.6555    0.6263    0.6406     10095\n",
      "           1     0.5420    0.4811    0.5097      7999\n",
      "           2     0.6165    0.6981    0.6548     10189\n",
      "\n",
      "    accuracy                         0.6111     28283\n",
      "   macro avg     0.6047    0.6018    0.6017     28283\n",
      "weighted avg     0.6094    0.6111    0.6087     28283\n",
      "\n"
     ]
    }
   ],
   "source": [
    "print('accuracy_score:', accuracy_score(np.argmax(testY_CNN, axis=1), np.argmax(pred, axis=1)))\n",
    "print(classification_report(np.argmax(testY_CNN, axis=1), np.argmax(pred, axis=1), digits=4))"
   ]
  },
  {
   "cell_type": "code",
   "execution_count": null,
   "metadata": {},
   "outputs": [
    {
     "data": {
      "image/png": "[encoded data removed]",
      "text/plain": [
       "<Figure size 1000x700 with 2 Axes>"
      ]
     },
     "metadata": {},
     "output_type": "display_data"
    }
   ],
   "source": [
    "# Convert one-hot encoded vectors to class labels\n",
    "true_labels = np.argmax(testY_CNN, axis=1)\n",
    "predicted_labels = np.argmax(pred, axis=1)\n",
    "\n",
    "# Compute the confusion matrix\n",
    "conf_matrix = confusion_matrix(true_labels, predicted_labels)\n",
    "\n",
    "\n",
    "# Plotting using seaborn\n",
    "plt.figure(figsize=(10, 7))\n",
    "sns.heatmap(conf_matrix, annot=True, fmt=\"d\", cmap=\"Blues\", xticklabels=[0, 1, 2], yticklabels=[0, 1, 2])\n",
    "plt.title('Confusion Matrix')\n",
    "plt.ylabel('True Label')\n",
    "plt.xlabel('Predicted Label')\n",
    "plt.show()"
   ]
  }
 ],
 "metadata": {
  "kernelspec": {
   "display_name": "ML",
   "language": "python",
   "name": "python3"
  },
  "language_info": {
   "codemirror_mode": {
    "name": "ipython",
    "version": 3
   },
   "file_extension": ".py",
   "mimetype": "text/x-python",
   "name": "python",
   "nbconvert_exporter": "python",
   "pygments_lexer": "ipython3",
   "version": "3.10.6"
  }
 },
 "nbformat": 4,
 "nbformat_minor": 2
}
