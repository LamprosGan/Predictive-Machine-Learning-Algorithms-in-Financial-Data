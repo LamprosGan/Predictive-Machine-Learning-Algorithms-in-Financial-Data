{
 "cells": [
  {
   "cell_type": "markdown",
   "metadata": {},
   "source": [
    "# Applying DeepLOB model to predict the results of horizon 50 for stock HTO of Athex Exchange."
   ]
  },
  {
   "cell_type": "code",
   "execution_count": null,
   "metadata": {},
   "outputs": [
    {
     "name": "stdout",
     "output_type": "stream",
     "text": [
      "2.9.1\n",
      "[PhysicalDevice(name='/physical_device:CPU:0', device_type='CPU')]\n"
     ]
    }
   ],
   "source": [
    "# Importing the libraries.\n",
    "import numpy as np\n",
    "import pandas as pd\n",
    "import tensorflow as tf\n",
    "from tensorflow.keras.utils import to_categorical\n",
    "from tensorflow.keras.callbacks import EarlyStopping, ModelCheckpoint\n",
    "from keras.layers import Flatten, Dense, Dropout, Activation, Input, LSTM, Reshape, Conv2D, MaxPooling2D, CuDNNLSTM\n",
    "from keras.models import Model\n",
    "import tensorflow as tf\n",
    "import keras\n",
    "from tensorflow.keras.callbacks import ReduceLROnPlateau\n",
    "\n",
    "from sklearn.metrics import classification_report, accuracy_score, confusion_matrix\n",
    "import matplotlib.pyplot as plt\n",
    "import seaborn as sns\n",
    "\n",
    "print(tf.__version__)\n",
    "print(tf.config.list_physical_devices())"
   ]
  },
  {
   "cell_type": "markdown",
   "metadata": {},
   "source": [
    "# Data preparation"
   ]
  },
  {
   "cell_type": "code",
   "execution_count": null,
   "metadata": {},
   "outputs": [],
   "source": [
    "# Functions to prepare the data for the model.\n",
    "def prepare_x(data):\n",
    "    df1 = data[:40, :].T\n",
    "    return np.array(df1)\n",
    "\n",
    "def get_label(data):\n",
    "    lob = data[-5:, :].T\n",
    "    return lob\n",
    "\n",
    "def data_classification(X, Y, T):\n",
    "    [N, D] = X.shape\n",
    "    df = np.array(X)\n",
    "    dY = np.array(Y)\n",
    "    dataY = dY[T - 1:N]\n",
    "    dataX = np.zeros((N - T + 1, T, D))\n",
    "    for i in range(T, N + 1):\n",
    "        dataX[i - T] = df[i - T:i, :]\n",
    "    return dataX.reshape(dataX.shape + (1,)), dataY\n",
    "\n",
    "def prepare_x_y(data, k, T):\n",
    "    x = prepare_x(data)\n",
    "    y = get_label(data)\n",
    "    x, y = data_classification(x, y, T=T)\n",
    "    y = y[:, k] - 1\n",
    "    y = to_categorical(y, 3)\n",
    "    return x, y\n"
   ]
  },
  {
   "cell_type": "code",
   "execution_count": null,
   "metadata": {},
   "outputs": [
    {
     "name": "stdout",
     "output_type": "stream",
     "text": [
      "(21498, 100, 40, 1) (21498, 3)\n",
      "(2301, 100, 40, 1) (2301, 3)\n",
      "(11967, 100, 40, 1) (11967, 3)\n"
     ]
    }
   ],
   "source": [
    "# Load data\n",
    "dec_data = np.loadtxt('train_HTO_case1.txt')\n",
    "dec_train = dec_data[:, :int(np.floor(dec_data.shape[1] * 0.9))]\n",
    "dec_val = dec_data[:, int(np.floor(dec_data.shape[1] * 0.9)):]\n",
    "dec_test = np.loadtxt('test_HTO_case1.txt')\n",
    "\n",
    "k = 3 # Which horizon to use for prediction\n",
    "T = 100 # The input dimension (time steps)\n",
    "n_hiddens = 64\n",
    "checkpoint_filepath = './HTO_deeplob_k3/weights' # Where to save the model weights.\n",
    "\n",
    "trainX_CNN, trainY_CNN = prepare_x_y(dec_train, k, T)\n",
    "valX_CNN, valY_CNN = prepare_x_y(dec_val, k, T)\n",
    "testX_CNN, testY_CNN = prepare_x_y(dec_test, k, T)\n",
    "\n",
    "print(trainX_CNN.shape, trainY_CNN.shape)\n",
    "print(valX_CNN.shape, valY_CNN.shape)\n",
    "print(testX_CNN.shape, testY_CNN.shape)"
   ]
  },
  {
   "cell_type": "markdown",
   "metadata": {},
   "source": [
    "# Model Architecture\n"
   ]
  },
  {
   "cell_type": "code",
   "execution_count": null,
   "metadata": {},
   "outputs": [
    {
     "name": "stdout",
     "output_type": "stream",
     "text": [
      "Model: \"model_1\"\n",
      "__________________________________________________________________________________________________\n",
      " Layer (type)                   Output Shape         Param #     Connected to                     \n",
      "==================================================================================================\n",
      " input_2 (InputLayer)           [(None, 100, 40, 1)  0           []                               \n",
      "                                ]                                                                 \n",
      "                                                                                                  \n",
      " conv2d_14 (Conv2D)             (None, 100, 20, 16)  48          ['input_2[0][0]']                \n",
      "                                                                                                  \n",
      " leaky_re_lu_14 (LeakyReLU)     (None, 100, 20, 16)  0           ['conv2d_14[0][0]']              \n",
      "                                                                                                  \n",
      " conv2d_15 (Conv2D)             (None, 100, 20, 16)  1040        ['leaky_re_lu_14[0][0]']         \n",
      "                                                                                                  \n",
      " leaky_re_lu_15 (LeakyReLU)     (None, 100, 20, 16)  0           ['conv2d_15[0][0]']              \n",
      "                                                                                                  \n",
      " conv2d_16 (Conv2D)             (None, 100, 20, 16)  1040        ['leaky_re_lu_15[0][0]']         \n",
      "                                                                                                  \n",
      " leaky_re_lu_16 (LeakyReLU)     (None, 100, 20, 16)  0           ['conv2d_16[0][0]']              \n",
      "                                                                                                  \n",
      " conv2d_17 (Conv2D)             (None, 100, 10, 16)  528         ['leaky_re_lu_16[0][0]']         \n",
      "                                                                                                  \n",
      " leaky_re_lu_17 (LeakyReLU)     (None, 100, 10, 16)  0           ['conv2d_17[0][0]']              \n",
      "                                                                                                  \n",
      " conv2d_18 (Conv2D)             (None, 100, 10, 16)  1040        ['leaky_re_lu_17[0][0]']         \n",
      "                                                                                                  \n",
      " leaky_re_lu_18 (LeakyReLU)     (None, 100, 10, 16)  0           ['conv2d_18[0][0]']              \n",
      "                                                                                                  \n",
      " conv2d_19 (Conv2D)             (None, 100, 10, 16)  1040        ['leaky_re_lu_18[0][0]']         \n",
      "                                                                                                  \n",
      " leaky_re_lu_19 (LeakyReLU)     (None, 100, 10, 16)  0           ['conv2d_19[0][0]']              \n",
      "                                                                                                  \n",
      " conv2d_20 (Conv2D)             (None, 100, 1, 16)   2576        ['leaky_re_lu_19[0][0]']         \n",
      "                                                                                                  \n",
      " leaky_re_lu_20 (LeakyReLU)     (None, 100, 1, 16)   0           ['conv2d_20[0][0]']              \n",
      "                                                                                                  \n",
      " conv2d_21 (Conv2D)             (None, 100, 1, 16)   1040        ['leaky_re_lu_20[0][0]']         \n",
      "                                                                                                  \n",
      " leaky_re_lu_21 (LeakyReLU)     (None, 100, 1, 16)   0           ['conv2d_21[0][0]']              \n",
      "                                                                                                  \n",
      " conv2d_22 (Conv2D)             (None, 100, 1, 16)   1040        ['leaky_re_lu_21[0][0]']         \n",
      "                                                                                                  \n",
      " leaky_re_lu_22 (LeakyReLU)     (None, 100, 1, 16)   0           ['conv2d_22[0][0]']              \n",
      "                                                                                                  \n",
      " conv2d_23 (Conv2D)             (None, 100, 1, 32)   544         ['leaky_re_lu_22[0][0]']         \n",
      "                                                                                                  \n",
      " conv2d_25 (Conv2D)             (None, 100, 1, 32)   544         ['leaky_re_lu_22[0][0]']         \n",
      "                                                                                                  \n",
      " leaky_re_lu_23 (LeakyReLU)     (None, 100, 1, 32)   0           ['conv2d_23[0][0]']              \n",
      "                                                                                                  \n",
      " leaky_re_lu_25 (LeakyReLU)     (None, 100, 1, 32)   0           ['conv2d_25[0][0]']              \n",
      "                                                                                                  \n",
      " max_pooling2d_1 (MaxPooling2D)  (None, 100, 1, 16)  0           ['leaky_re_lu_22[0][0]']         \n",
      "                                                                                                  \n",
      " conv2d_24 (Conv2D)             (None, 100, 1, 32)   3104        ['leaky_re_lu_23[0][0]']         \n",
      "                                                                                                  \n",
      " conv2d_26 (Conv2D)             (None, 100, 1, 32)   5152        ['leaky_re_lu_25[0][0]']         \n",
      "                                                                                                  \n",
      " conv2d_27 (Conv2D)             (None, 100, 1, 32)   544         ['max_pooling2d_1[0][0]']        \n",
      "                                                                                                  \n",
      " leaky_re_lu_24 (LeakyReLU)     (None, 100, 1, 32)   0           ['conv2d_24[0][0]']              \n",
      "                                                                                                  \n",
      " leaky_re_lu_26 (LeakyReLU)     (None, 100, 1, 32)   0           ['conv2d_26[0][0]']              \n",
      "                                                                                                  \n",
      " leaky_re_lu_27 (LeakyReLU)     (None, 100, 1, 32)   0           ['conv2d_27[0][0]']              \n",
      "                                                                                                  \n",
      " concatenate_1 (Concatenate)    (None, 100, 1, 96)   0           ['leaky_re_lu_24[0][0]',         \n",
      "                                                                  'leaky_re_lu_26[0][0]',         \n",
      "                                                                  'leaky_re_lu_27[0][0]']         \n",
      "                                                                                                  \n",
      " reshape_1 (Reshape)            (None, 100, 96)      0           ['concatenate_1[0][0]']          \n",
      "                                                                                                  \n",
      " dropout_1 (Dropout)            (None, 100, 96)      0           ['reshape_1[0][0]']              \n",
      "                                                                                                  \n",
      " lstm_1 (LSTM)                  (None, 64)           41216       ['dropout_1[0][0]']              \n",
      "                                                                                                  \n",
      " dense_1 (Dense)                (None, 3)            195         ['lstm_1[0][0]']                 \n",
      "                                                                                                  \n",
      "==================================================================================================\n",
      "Total params: 60,691\n",
      "Trainable params: 60,691\n",
      "Non-trainable params: 0\n",
      "__________________________________________________________________________________________________\n"
     ]
    },
    {
     "name": "stderr",
     "output_type": "stream",
     "text": [
      "/Users/lamprosganias/opt/anaconda3/envs/ML/lib/python3.10/site-packages/keras/optimizers/optimizer_v2/adam.py:110: UserWarning: The `lr` argument is deprecated, use `learning_rate` instead.\n",
      "  super(Adam, self).__init__(name, **kwargs)\n"
     ]
    }
   ],
   "source": [
    "def create_deeplob(T, NF, number_of_lstm):\n",
    "    input_lmd = Input(shape=(T, NF, 1))\n",
    "    \n",
    "    # build the convolutional block\n",
    "    conv_first1 = Conv2D(16, (1, 2), strides=(1, 2))(input_lmd)\n",
    "    conv_first1 = keras.layers.LeakyReLU(alpha=0.01)(conv_first1)\n",
    "    conv_first1 = Conv2D(16, (4, 1), padding='same')(conv_first1)\n",
    "    conv_first1 = keras.layers.LeakyReLU(alpha=0.01)(conv_first1)\n",
    "    conv_first1 = Conv2D(16, (4, 1), padding='same')(conv_first1)\n",
    "    conv_first1 = keras.layers.LeakyReLU(alpha=0.01)(conv_first1)\n",
    "\n",
    "    conv_first1 = Conv2D(16, (1, 2), strides=(1, 2))(conv_first1)\n",
    "    conv_first1 = keras.layers.LeakyReLU(alpha=0.01)(conv_first1)\n",
    "    conv_first1 = Conv2D(16, (4, 1), padding='same')(conv_first1)\n",
    "    conv_first1 = keras.layers.LeakyReLU(alpha=0.01)(conv_first1)\n",
    "    conv_first1 = Conv2D(16, (4, 1), padding='same')(conv_first1)\n",
    "    conv_first1 = keras.layers.LeakyReLU(alpha=0.01)(conv_first1)\n",
    "\n",
    "    conv_first1 = Conv2D(16, (1, 10))(conv_first1)\n",
    "    conv_first1 = keras.layers.LeakyReLU(alpha=0.01)(conv_first1)\n",
    "    conv_first1 = Conv2D(16, (4, 1), padding='same')(conv_first1)\n",
    "    conv_first1 = keras.layers.LeakyReLU(alpha=0.01)(conv_first1)\n",
    "    conv_first1 = Conv2D(16, (4, 1), padding='same')(conv_first1)\n",
    "    conv_first1 = keras.layers.LeakyReLU(alpha=0.01)(conv_first1)\n",
    "    \n",
    "    # build the inception module\n",
    "    convsecond_1 = Conv2D(32, (1, 1), padding='same')(conv_first1)\n",
    "    convsecond_1 = keras.layers.LeakyReLU(alpha=0.01)(convsecond_1)\n",
    "    convsecond_1 = Conv2D(32, (3, 1), padding='same')(convsecond_1)\n",
    "    convsecond_1 = keras.layers.LeakyReLU(alpha=0.01)(convsecond_1)\n",
    "\n",
    "    convsecond_2 = Conv2D(32, (1, 1), padding='same')(conv_first1)\n",
    "    convsecond_2 = keras.layers.LeakyReLU(alpha=0.01)(convsecond_2)\n",
    "    convsecond_2 = Conv2D(32, (5, 1), padding='same')(convsecond_2)\n",
    "    convsecond_2 = keras.layers.LeakyReLU(alpha=0.01)(convsecond_2)\n",
    "\n",
    "    convsecond_3 = MaxPooling2D((3, 1), strides=(1, 1), padding='same')(conv_first1)\n",
    "    convsecond_3 = Conv2D(32, (1, 1), padding='same')(convsecond_3)\n",
    "    convsecond_3 = keras.layers.LeakyReLU(alpha=0.01)(convsecond_3)\n",
    "    \n",
    "    convsecond_output = keras.layers.concatenate([convsecond_1, convsecond_2, convsecond_3], axis=3)\n",
    "    conv_reshape = Reshape((int(convsecond_output.shape[1]), int(convsecond_output.shape[3])))(convsecond_output)\n",
    "    conv_reshape = keras.layers.Dropout(0.1, noise_shape=(None, 1, int(conv_reshape.shape[2])))(conv_reshape, training=True)\n",
    "    \n",
    "    # build the last LSTM layer\n",
    "    conv_lstm = LSTM(number_of_lstm)(conv_reshape)  # Change CuDNNLSTM to LSTM\n",
    "\n",
    "    # build the output layer\n",
    "    out = Dense(3, activation='softmax')(conv_lstm)\n",
    "    model = Model(inputs=input_lmd, outputs=out)\n",
    "    adam = keras.optimizers.Adam(lr=0.0001)\n",
    "    model.compile(optimizer=adam, loss='categorical_crossentropy', metrics=['accuracy'])\n",
    "\n",
    "    return model\n",
    "\n",
    "# Create the model\n",
    "deeplob = create_deeplob(trainX_CNN.shape[1], trainX_CNN.shape[2], n_hiddens)\n",
    "deeplob.summary()"
   ]
  },
  {
   "cell_type": "markdown",
   "metadata": {},
   "source": [
    "# Model Training"
   ]
  },
  {
   "cell_type": "code",
   "execution_count": null,
   "metadata": {},
   "outputs": [
    {
     "name": "stdout",
     "output_type": "stream",
     "text": [
      "Epoch 1/50\n",
      "336/336 [==============================] - 42s 121ms/step - loss: 1.0406 - accuracy: 0.4297 - val_loss: 1.0409 - val_accuracy: 0.4398 - lr: 1.0000e-04\n",
      "Epoch 2/50\n",
      "336/336 [==============================] - 44s 130ms/step - loss: 1.0054 - accuracy: 0.4663 - val_loss: 1.0623 - val_accuracy: 0.4324 - lr: 1.0000e-04\n",
      "Epoch 3/50\n",
      "336/336 [==============================] - 44s 130ms/step - loss: 0.9909 - accuracy: 0.4845 - val_loss: 1.0616 - val_accuracy: 0.4302 - lr: 1.0000e-04\n",
      "Epoch 4/50\n",
      "336/336 [==============================] - 46s 136ms/step - loss: 0.9810 - accuracy: 0.4917 - val_loss: 1.0952 - val_accuracy: 0.4281 - lr: 1.0000e-04\n",
      "Epoch 5/50\n",
      "336/336 [==============================] - 45s 134ms/step - loss: 0.9716 - accuracy: 0.5007 - val_loss: 1.0646 - val_accuracy: 0.4381 - lr: 1.0000e-04\n",
      "Epoch 6/50\n",
      "336/336 [==============================] - 45s 134ms/step - loss: 0.9601 - accuracy: 0.5080 - val_loss: 1.0700 - val_accuracy: 0.4429 - lr: 1.0000e-04\n",
      "Epoch 7/50\n",
      "336/336 [==============================] - 45s 133ms/step - loss: 0.9471 - accuracy: 0.5162 - val_loss: 1.0609 - val_accuracy: 0.4433 - lr: 5.0000e-05\n",
      "Epoch 8/50\n",
      "336/336 [==============================] - 44s 130ms/step - loss: 0.9419 - accuracy: 0.5201 - val_loss: 1.0695 - val_accuracy: 0.4472 - lr: 5.0000e-05\n",
      "Epoch 9/50\n",
      "336/336 [==============================] - 44s 132ms/step - loss: 0.9378 - accuracy: 0.5286 - val_loss: 1.0666 - val_accuracy: 0.4472 - lr: 5.0000e-05\n",
      "Epoch 10/50\n",
      "336/336 [==============================] - 44s 132ms/step - loss: 0.9328 - accuracy: 0.5293 - val_loss: 1.0694 - val_accuracy: 0.4568 - lr: 5.0000e-05\n",
      "Epoch 11/50\n",
      "336/336 [==============================] - 45s 133ms/step - loss: 0.9286 - accuracy: 0.5337 - val_loss: 1.0657 - val_accuracy: 0.4498 - lr: 5.0000e-05\n"
     ]
    },
    {
     "data": {
      "text/plain": [
       "<keras.callbacks.History at 0x7fdcc5a043a0>"
      ]
     },
     "execution_count": 13,
     "metadata": {},
     "output_type": "execute_result"
    }
   ],
   "source": [
    "# Set up the checkpoint callback\n",
    "model_checkpoint_callback = tf.keras.callbacks.ModelCheckpoint(\n",
    "    filepath=checkpoint_filepath,\n",
    "    save_weights_only=True,\n",
    "    monitor='val_loss',\n",
    "    mode='auto',\n",
    "    save_best_only=True\n",
    ")\n",
    "\n",
    "reduce_lr = ReduceLROnPlateau(monitor='val_loss', factor=0.5, patience=5, min_lr=0.00001)\n",
    "\n",
    "early_stopping = EarlyStopping(monitor='val_loss', patience=10, restore_best_weights=True)\n",
    "\n",
    "# Train the model\n",
    "deeplob.fit(trainX_CNN, trainY_CNN, validation_data=(valX_CNN, valY_CNN), \n",
    "            epochs=50, batch_size=64, verbose=1, callbacks=[model_checkpoint_callback,early_stopping,reduce_lr])\n"
   ]
  },
  {
   "cell_type": "markdown",
   "metadata": {},
   "source": [
    "# Model Testing"
   ]
  },
  {
   "cell_type": "code",
   "execution_count": 14,
   "metadata": {},
   "outputs": [
    {
     "name": "stdout",
     "output_type": "stream",
     "text": [
      "374/374 [==============================] - 10s 27ms/step\n"
     ]
    }
   ],
   "source": [
    "deeplob.load_weights(checkpoint_filepath)\n",
    "pred = deeplob.predict(testX_CNN)"
   ]
  },
  {
   "cell_type": "code",
   "execution_count": null,
   "metadata": {},
   "outputs": [
    {
     "name": "stdout",
     "output_type": "stream",
     "text": [
      "accuracy_score: 0.505389822010529\n",
      "              precision    recall  f1-score   support\n",
      "\n",
      "           0     0.3478    0.0022    0.0044      3578\n",
      "           1     0.6745    0.6253    0.6489      4470\n",
      "           2     0.4160    0.8280    0.5538      3919\n",
      "\n",
      "    accuracy                         0.5054     11967\n",
      "   macro avg     0.4794    0.4852    0.4024     11967\n",
      "weighted avg     0.4922    0.5054    0.4251     11967\n",
      "\n"
     ]
    }
   ],
   "source": [
    "print('accuracy_score:', accuracy_score(np.argmax(testY_CNN, axis=1), np.argmax(pred, axis=1)))\n",
    "print(classification_report(np.argmax(testY_CNN, axis=1), np.argmax(pred, axis=1), digits=4))"
   ]
  },
  {
   "cell_type": "code",
   "execution_count": null,
   "metadata": {},
   "outputs": [
    {
     "data": {
      "image/png": "[encoded data removed]",
      "text/plain": [
       "<Figure size 1000x700 with 2 Axes>"
      ]
     },
     "metadata": {},
     "output_type": "display_data"
    }
   ],
   "source": [
    "# Convert one-hot encoded vectors to class labels\n",
    "true_labels = np.argmax(testY_CNN, axis=1)\n",
    "predicted_labels = np.argmax(pred, axis=1)\n",
    "\n",
    "# Compute the confusion matrix\n",
    "conf_matrix = confusion_matrix(true_labels, predicted_labels)\n",
    "\n",
    "\n",
    "# Plotting using seaborn\n",
    "plt.figure(figsize=(10, 7))\n",
    "sns.heatmap(conf_matrix, annot=True, fmt=\"d\", cmap=\"Blues\", xticklabels=[0, 1, 2], yticklabels=[0, 1, 2])\n",
    "plt.title('Confusion Matrix')\n",
    "plt.ylabel('True Label')\n",
    "plt.xlabel('Predicted Label')\n",
    "plt.show()"
   ]
  }
 ],
 "metadata": {
  "kernelspec": {
   "display_name": "ML",
   "language": "python",
   "name": "python3"
  },
  "language_info": {
   "codemirror_mode": {
    "name": "ipython",
    "version": 3
   },
   "file_extension": ".py",
   "mimetype": "text/x-python",
   "name": "python",
   "nbconvert_exporter": "python",
   "pygments_lexer": "ipython3",
   "version": "3.10.6"
  }
 },
 "nbformat": 4,
 "nbformat_minor": 2
}
