{
 "cells": [
  {
   "cell_type": "markdown",
   "metadata": {},
   "source": [
    "# Applying DeepLOB model to predict the results of horizon 10 for stock OPAP of Athex Exchange."
   ]
  },
  {
   "cell_type": "code",
   "execution_count": null,
   "metadata": {},
   "outputs": [
    {
     "name": "stdout",
     "output_type": "stream",
     "text": [
      "2.9.1\n",
      "[PhysicalDevice(name='/physical_device:CPU:0', device_type='CPU')]\n"
     ]
    }
   ],
   "source": [
    "# Importing the libraries.\n",
    "import numpy as np\n",
    "import pandas as pd\n",
    "import tensorflow as tf\n",
    "from tensorflow.keras.utils import to_categorical\n",
    "from tensorflow.keras.callbacks import EarlyStopping, ModelCheckpoint\n",
    "from keras.layers import Flatten, Dense, Dropout, Activation, Input, LSTM, Reshape, Conv2D, MaxPooling2D, CuDNNLSTM\n",
    "from keras.models import Model\n",
    "import tensorflow as tf\n",
    "import keras\n",
    "\n",
    "from sklearn.metrics import classification_report, accuracy_score, confusion_matrix\n",
    "import matplotlib.pyplot as plt\n",
    "import seaborn as sns\n",
    "\n",
    "print(tf.__version__)\n",
    "print(tf.config.list_physical_devices())"
   ]
  },
  {
   "cell_type": "markdown",
   "metadata": {},
   "source": [
    "# Data preparation"
   ]
  },
  {
   "cell_type": "code",
   "execution_count": null,
   "metadata": {},
   "outputs": [],
   "source": [
    "# Functions to prepare the data for the model.\n",
    "def prepare_x(data):\n",
    "    df1 = data[:40, :].T\n",
    "    return np.array(df1)\n",
    "\n",
    "def get_label(data):\n",
    "    lob = data[-5:, :].T\n",
    "    return lob\n",
    "\n",
    "def data_classification(X, Y, T):\n",
    "    [N, D] = X.shape\n",
    "    df = np.array(X)\n",
    "    dY = np.array(Y)\n",
    "    dataY = dY[T - 1:N]\n",
    "    dataX = np.zeros((N - T + 1, T, D))\n",
    "    for i in range(T, N + 1):\n",
    "        dataX[i - T] = df[i - T:i, :]\n",
    "    return dataX.reshape(dataX.shape + (1,)), dataY\n",
    "\n",
    "def prepare_x_y(data, k, T):\n",
    "    x = prepare_x(data)\n",
    "    y = get_label(data)\n",
    "    x, y = data_classification(x, y, T=T)\n",
    "    y = y[:, k] - 1\n",
    "    y = to_categorical(y, 3)\n",
    "    return x, y\n"
   ]
  },
  {
   "cell_type": "code",
   "execution_count": null,
   "metadata": {},
   "outputs": [
    {
     "name": "stdout",
     "output_type": "stream",
     "text": [
      "(20578, 100, 40, 1) (20578, 3)\n",
      "(2199, 100, 40, 1) (2199, 3)\n",
      "(11967, 100, 40, 1) (11967, 3)\n"
     ]
    }
   ],
   "source": [
    "# Load data\n",
    "dec_data = np.loadtxt('train_OPAP_case1.txt')\n",
    "dec_train = dec_data[:, :int(np.floor(dec_data.shape[1] * 0.9))]\n",
    "dec_val = dec_data[:, int(np.floor(dec_data.shape[1] * 0.9)):]\n",
    "dec_test = np.loadtxt('test_OPAP_case1.txt')\n",
    "\n",
    "k = 0 # Which horizon to use for prediction\n",
    "T = 100 # The input dimension (time steps)\n",
    "n_hiddens = 64\n",
    "checkpoint_filepath = './opap_deeplob_k0/weights' # Where to save the model weights.\n",
    "\n",
    "trainX_CNN, trainY_CNN = prepare_x_y(dec_train, k, T)\n",
    "valX_CNN, valY_CNN = prepare_x_y(dec_val, k, T)\n",
    "testX_CNN, testY_CNN = prepare_x_y(dec_test, k, T)\n",
    "\n",
    "print(trainX_CNN.shape, trainY_CNN.shape)\n",
    "print(valX_CNN.shape, valY_CNN.shape)\n",
    "print(testX_CNN.shape, testY_CNN.shape)"
   ]
  },
  {
   "cell_type": "markdown",
   "metadata": {},
   "source": [
    "# Model Architecture\n"
   ]
  },
  {
   "cell_type": "code",
   "execution_count": null,
   "metadata": {},
   "outputs": [
    {
     "name": "stderr",
     "output_type": "stream",
     "text": [
      "2024-08-11 14:02:30.416778: I tensorflow/core/platform/cpu_feature_guard.cc:193] This TensorFlow binary is optimized with oneAPI Deep Neural Network Library (oneDNN) to use the following CPU instructions in performance-critical operations:  SSE4.1 SSE4.2\n",
      "To enable them in other operations, rebuild TensorFlow with the appropriate compiler flags.\n"
     ]
    },
    {
     "name": "stdout",
     "output_type": "stream",
     "text": [
      "Model: \"model\"\n",
      "__________________________________________________________________________________________________\n",
      " Layer (type)                   Output Shape         Param #     Connected to                     \n",
      "==================================================================================================\n",
      " input_1 (InputLayer)           [(None, 100, 40, 1)  0           []                               \n",
      "                                ]                                                                 \n",
      "                                                                                                  \n",
      " conv2d (Conv2D)                (None, 100, 20, 16)  48          ['input_1[0][0]']                \n",
      "                                                                                                  \n",
      " leaky_re_lu (LeakyReLU)        (None, 100, 20, 16)  0           ['conv2d[0][0]']                 \n",
      "                                                                                                  \n",
      " conv2d_1 (Conv2D)              (None, 100, 20, 16)  1040        ['leaky_re_lu[0][0]']            \n",
      "                                                                                                  \n",
      " leaky_re_lu_1 (LeakyReLU)      (None, 100, 20, 16)  0           ['conv2d_1[0][0]']               \n",
      "                                                                                                  \n",
      " conv2d_2 (Conv2D)              (None, 100, 20, 16)  1040        ['leaky_re_lu_1[0][0]']          \n",
      "                                                                                                  \n",
      " leaky_re_lu_2 (LeakyReLU)      (None, 100, 20, 16)  0           ['conv2d_2[0][0]']               \n",
      "                                                                                                  \n",
      " conv2d_3 (Conv2D)              (None, 100, 10, 16)  528         ['leaky_re_lu_2[0][0]']          \n",
      "                                                                                                  \n",
      " leaky_re_lu_3 (LeakyReLU)      (None, 100, 10, 16)  0           ['conv2d_3[0][0]']               \n",
      "                                                                                                  \n",
      " conv2d_4 (Conv2D)              (None, 100, 10, 16)  1040        ['leaky_re_lu_3[0][0]']          \n",
      "                                                                                                  \n",
      " leaky_re_lu_4 (LeakyReLU)      (None, 100, 10, 16)  0           ['conv2d_4[0][0]']               \n",
      "                                                                                                  \n",
      " conv2d_5 (Conv2D)              (None, 100, 10, 16)  1040        ['leaky_re_lu_4[0][0]']          \n",
      "                                                                                                  \n",
      " leaky_re_lu_5 (LeakyReLU)      (None, 100, 10, 16)  0           ['conv2d_5[0][0]']               \n",
      "                                                                                                  \n",
      " conv2d_6 (Conv2D)              (None, 100, 1, 16)   2576        ['leaky_re_lu_5[0][0]']          \n",
      "                                                                                                  \n",
      " leaky_re_lu_6 (LeakyReLU)      (None, 100, 1, 16)   0           ['conv2d_6[0][0]']               \n",
      "                                                                                                  \n",
      " conv2d_7 (Conv2D)              (None, 100, 1, 16)   1040        ['leaky_re_lu_6[0][0]']          \n",
      "                                                                                                  \n",
      " leaky_re_lu_7 (LeakyReLU)      (None, 100, 1, 16)   0           ['conv2d_7[0][0]']               \n",
      "                                                                                                  \n",
      " conv2d_8 (Conv2D)              (None, 100, 1, 16)   1040        ['leaky_re_lu_7[0][0]']          \n",
      "                                                                                                  \n",
      " leaky_re_lu_8 (LeakyReLU)      (None, 100, 1, 16)   0           ['conv2d_8[0][0]']               \n",
      "                                                                                                  \n",
      " conv2d_9 (Conv2D)              (None, 100, 1, 32)   544         ['leaky_re_lu_8[0][0]']          \n",
      "                                                                                                  \n",
      " conv2d_11 (Conv2D)             (None, 100, 1, 32)   544         ['leaky_re_lu_8[0][0]']          \n",
      "                                                                                                  \n",
      " leaky_re_lu_9 (LeakyReLU)      (None, 100, 1, 32)   0           ['conv2d_9[0][0]']               \n",
      "                                                                                                  \n",
      " leaky_re_lu_11 (LeakyReLU)     (None, 100, 1, 32)   0           ['conv2d_11[0][0]']              \n",
      "                                                                                                  \n",
      " max_pooling2d (MaxPooling2D)   (None, 100, 1, 16)   0           ['leaky_re_lu_8[0][0]']          \n",
      "                                                                                                  \n",
      " conv2d_10 (Conv2D)             (None, 100, 1, 32)   3104        ['leaky_re_lu_9[0][0]']          \n",
      "                                                                                                  \n",
      " conv2d_12 (Conv2D)             (None, 100, 1, 32)   5152        ['leaky_re_lu_11[0][0]']         \n",
      "                                                                                                  \n",
      " conv2d_13 (Conv2D)             (None, 100, 1, 32)   544         ['max_pooling2d[0][0]']          \n",
      "                                                                                                  \n",
      " leaky_re_lu_10 (LeakyReLU)     (None, 100, 1, 32)   0           ['conv2d_10[0][0]']              \n",
      "                                                                                                  \n",
      " leaky_re_lu_12 (LeakyReLU)     (None, 100, 1, 32)   0           ['conv2d_12[0][0]']              \n",
      "                                                                                                  \n",
      " leaky_re_lu_13 (LeakyReLU)     (None, 100, 1, 32)   0           ['conv2d_13[0][0]']              \n",
      "                                                                                                  \n",
      " concatenate (Concatenate)      (None, 100, 1, 96)   0           ['leaky_re_lu_10[0][0]',         \n",
      "                                                                  'leaky_re_lu_12[0][0]',         \n",
      "                                                                  'leaky_re_lu_13[0][0]']         \n",
      "                                                                                                  \n",
      " reshape (Reshape)              (None, 100, 96)      0           ['concatenate[0][0]']            \n",
      "                                                                                                  \n",
      " dropout (Dropout)              (None, 100, 96)      0           ['reshape[0][0]']                \n",
      "                                                                                                  \n",
      " lstm (LSTM)                    (None, 64)           41216       ['dropout[0][0]']                \n",
      "                                                                                                  \n",
      " dense (Dense)                  (None, 3)            195         ['lstm[0][0]']                   \n",
      "                                                                                                  \n",
      "==================================================================================================\n",
      "Total params: 60,691\n",
      "Trainable params: 60,691\n",
      "Non-trainable params: 0\n",
      "__________________________________________________________________________________________________\n"
     ]
    }
   ],
   "source": [
    "def create_deeplob(T, NF, number_of_lstm):\n",
    "    input_lmd = Input(shape=(T, NF, 1))\n",
    "    \n",
    "    # build the convolutional block\n",
    "    conv_first1 = Conv2D(16, (1, 2), strides=(1, 2))(input_lmd)\n",
    "    conv_first1 = keras.layers.LeakyReLU(alpha=0.01)(conv_first1)\n",
    "    conv_first1 = Conv2D(16, (4, 1), padding='same')(conv_first1)\n",
    "    conv_first1 = keras.layers.LeakyReLU(alpha=0.01)(conv_first1)\n",
    "    conv_first1 = Conv2D(16, (4, 1), padding='same')(conv_first1)\n",
    "    conv_first1 = keras.layers.LeakyReLU(alpha=0.01)(conv_first1)\n",
    "\n",
    "    conv_first1 = Conv2D(16, (1, 2), strides=(1, 2))(conv_first1)\n",
    "    conv_first1 = keras.layers.LeakyReLU(alpha=0.01)(conv_first1)\n",
    "    conv_first1 = Conv2D(16, (4, 1), padding='same')(conv_first1)\n",
    "    conv_first1 = keras.layers.LeakyReLU(alpha=0.01)(conv_first1)\n",
    "    conv_first1 = Conv2D(16, (4, 1), padding='same')(conv_first1)\n",
    "    conv_first1 = keras.layers.LeakyReLU(alpha=0.01)(conv_first1)\n",
    "\n",
    "    conv_first1 = Conv2D(16, (1, 10))(conv_first1)\n",
    "    conv_first1 = keras.layers.LeakyReLU(alpha=0.01)(conv_first1)\n",
    "    conv_first1 = Conv2D(16, (4, 1), padding='same')(conv_first1)\n",
    "    conv_first1 = keras.layers.LeakyReLU(alpha=0.01)(conv_first1)\n",
    "    conv_first1 = Conv2D(16, (4, 1), padding='same')(conv_first1)\n",
    "    conv_first1 = keras.layers.LeakyReLU(alpha=0.01)(conv_first1)\n",
    "    \n",
    "    # build the inception module\n",
    "    convsecond_1 = Conv2D(32, (1, 1), padding='same')(conv_first1)\n",
    "    convsecond_1 = keras.layers.LeakyReLU(alpha=0.01)(convsecond_1)\n",
    "    convsecond_1 = Conv2D(32, (3, 1), padding='same')(convsecond_1)\n",
    "    convsecond_1 = keras.layers.LeakyReLU(alpha=0.01)(convsecond_1)\n",
    "\n",
    "    convsecond_2 = Conv2D(32, (1, 1), padding='same')(conv_first1)\n",
    "    convsecond_2 = keras.layers.LeakyReLU(alpha=0.01)(convsecond_2)\n",
    "    convsecond_2 = Conv2D(32, (5, 1), padding='same')(convsecond_2)\n",
    "    convsecond_2 = keras.layers.LeakyReLU(alpha=0.01)(convsecond_2)\n",
    "\n",
    "    convsecond_3 = MaxPooling2D((3, 1), strides=(1, 1), padding='same')(conv_first1)\n",
    "    convsecond_3 = Conv2D(32, (1, 1), padding='same')(convsecond_3)\n",
    "    convsecond_3 = keras.layers.LeakyReLU(alpha=0.01)(convsecond_3)\n",
    "    \n",
    "    convsecond_output = keras.layers.concatenate([convsecond_1, convsecond_2, convsecond_3], axis=3)\n",
    "    conv_reshape = Reshape((int(convsecond_output.shape[1]), int(convsecond_output.shape[3])))(convsecond_output)\n",
    "    conv_reshape = keras.layers.Dropout(0.2, noise_shape=(None, 1, int(conv_reshape.shape[2])))(conv_reshape, training=True)\n",
    "    \n",
    "    # build the last LSTM layer\n",
    "    conv_lstm = LSTM(number_of_lstm)(conv_reshape)  # Change CuDNNLSTM to LSTM\n",
    "\n",
    "    # build the output layer\n",
    "    out = Dense(3, activation='softmax')(conv_lstm)\n",
    "    model = Model(inputs=input_lmd, outputs=out)\n",
    "    adam = keras.optimizers.Adam(learning_rate=0.0001)\n",
    "    model.compile(optimizer=adam, loss='categorical_crossentropy', metrics=['accuracy'])\n",
    "\n",
    "    return model\n",
    "\n",
    "# Create the model\n",
    "deeplob = create_deeplob(trainX_CNN.shape[1], trainX_CNN.shape[2], n_hiddens)\n",
    "deeplob.summary()"
   ]
  },
  {
   "cell_type": "markdown",
   "metadata": {},
   "source": [
    "# Model Training"
   ]
  },
  {
   "cell_type": "code",
   "execution_count": 5,
   "metadata": {},
   "outputs": [
    {
     "name": "stdout",
     "output_type": "stream",
     "text": [
      "Epoch 1/50\n",
      "322/322 [==============================] - 33s 97ms/step - loss: 1.0402 - accuracy: 0.4329 - val_loss: 0.9273 - val_accuracy: 0.5430\n",
      "Epoch 2/50\n",
      "322/322 [==============================] - 33s 103ms/step - loss: 1.0074 - accuracy: 0.4629 - val_loss: 0.9173 - val_accuracy: 0.5657\n",
      "Epoch 3/50\n",
      "322/322 [==============================] - 35s 110ms/step - loss: 0.9952 - accuracy: 0.4832 - val_loss: 0.9136 - val_accuracy: 0.5734\n",
      "Epoch 4/50\n",
      "322/322 [==============================] - 42s 129ms/step - loss: 0.9737 - accuracy: 0.5151 - val_loss: 0.9390 - val_accuracy: 0.5680\n",
      "Epoch 5/50\n",
      "322/322 [==============================] - 40s 124ms/step - loss: 0.9292 - accuracy: 0.5595 - val_loss: 0.9144 - val_accuracy: 0.5907\n",
      "Epoch 6/50\n",
      "322/322 [==============================] - 43s 133ms/step - loss: 0.8903 - accuracy: 0.5925 - val_loss: 0.8876 - val_accuracy: 0.6103\n",
      "Epoch 7/50\n",
      "322/322 [==============================] - 40s 125ms/step - loss: 0.8613 - accuracy: 0.6124 - val_loss: 0.8900 - val_accuracy: 0.6221\n",
      "Epoch 8/50\n",
      "322/322 [==============================] - 41s 129ms/step - loss: 0.8296 - accuracy: 0.6281 - val_loss: 0.8429 - val_accuracy: 0.6480\n",
      "Epoch 9/50\n",
      "322/322 [==============================] - 41s 128ms/step - loss: 0.8002 - accuracy: 0.6485 - val_loss: 0.9355 - val_accuracy: 0.5507\n",
      "Epoch 10/50\n",
      "322/322 [==============================] - 43s 132ms/step - loss: 0.7786 - accuracy: 0.6603 - val_loss: 0.7845 - val_accuracy: 0.6803\n",
      "Epoch 11/50\n",
      "322/322 [==============================] - 42s 130ms/step - loss: 0.7548 - accuracy: 0.6754 - val_loss: 0.7679 - val_accuracy: 0.6858\n",
      "Epoch 12/50\n",
      "322/322 [==============================] - 42s 132ms/step - loss: 0.7448 - accuracy: 0.6783 - val_loss: 0.7838 - val_accuracy: 0.6817\n",
      "Epoch 13/50\n",
      "322/322 [==============================] - 41s 128ms/step - loss: 0.7308 - accuracy: 0.6865 - val_loss: 0.7597 - val_accuracy: 0.6917\n",
      "Epoch 14/50\n",
      "322/322 [==============================] - 42s 129ms/step - loss: 0.7169 - accuracy: 0.6934 - val_loss: 0.7915 - val_accuracy: 0.6908\n",
      "Epoch 15/50\n",
      "322/322 [==============================] - 42s 130ms/step - loss: 0.7068 - accuracy: 0.6940 - val_loss: 0.7555 - val_accuracy: 0.6985\n",
      "Epoch 16/50\n",
      "322/322 [==============================] - 43s 135ms/step - loss: 0.6929 - accuracy: 0.7036 - val_loss: 0.7514 - val_accuracy: 0.6958\n",
      "Epoch 17/50\n",
      "322/322 [==============================] - 44s 137ms/step - loss: 0.6899 - accuracy: 0.7072 - val_loss: 0.7193 - val_accuracy: 0.7040\n",
      "Epoch 18/50\n",
      "322/322 [==============================] - 43s 133ms/step - loss: 0.6800 - accuracy: 0.7103 - val_loss: 0.7491 - val_accuracy: 0.7112\n",
      "Epoch 19/50\n",
      "322/322 [==============================] - 43s 132ms/step - loss: 0.6748 - accuracy: 0.7142 - val_loss: 0.7978 - val_accuracy: 0.6994\n",
      "Epoch 20/50\n",
      "322/322 [==============================] - 43s 133ms/step - loss: 0.6679 - accuracy: 0.7177 - val_loss: 0.7167 - val_accuracy: 0.7040\n",
      "Epoch 21/50\n",
      "322/322 [==============================] - 43s 133ms/step - loss: 0.6567 - accuracy: 0.7218 - val_loss: 0.7481 - val_accuracy: 0.7090\n",
      "Epoch 22/50\n",
      "322/322 [==============================] - 43s 134ms/step - loss: 0.6540 - accuracy: 0.7237 - val_loss: 0.6897 - val_accuracy: 0.7176\n",
      "Epoch 23/50\n",
      "322/322 [==============================] - 41s 127ms/step - loss: 0.6508 - accuracy: 0.7260 - val_loss: 0.7315 - val_accuracy: 0.7121\n",
      "Epoch 24/50\n",
      "322/322 [==============================] - 39s 120ms/step - loss: 0.6481 - accuracy: 0.7291 - val_loss: 0.7274 - val_accuracy: 0.7144\n",
      "Epoch 25/50\n",
      "322/322 [==============================] - 39s 120ms/step - loss: 0.6434 - accuracy: 0.7305 - val_loss: 0.7489 - val_accuracy: 0.7176\n",
      "Epoch 26/50\n",
      "322/322 [==============================] - 39s 120ms/step - loss: 0.6332 - accuracy: 0.7374 - val_loss: 0.7229 - val_accuracy: 0.7208\n",
      "Epoch 27/50\n",
      "322/322 [==============================] - 39s 121ms/step - loss: 0.6285 - accuracy: 0.7371 - val_loss: 0.6773 - val_accuracy: 0.7281\n",
      "Epoch 28/50\n",
      "322/322 [==============================] - 39s 121ms/step - loss: 0.6325 - accuracy: 0.7344 - val_loss: 0.6896 - val_accuracy: 0.7344\n",
      "Epoch 29/50\n",
      "322/322 [==============================] - 42s 132ms/step - loss: 0.6211 - accuracy: 0.7414 - val_loss: 0.7322 - val_accuracy: 0.7162\n",
      "Epoch 30/50\n",
      "322/322 [==============================] - 43s 133ms/step - loss: 0.6221 - accuracy: 0.7425 - val_loss: 0.6753 - val_accuracy: 0.7340\n",
      "Epoch 31/50\n",
      "322/322 [==============================] - 42s 132ms/step - loss: 0.6127 - accuracy: 0.7466 - val_loss: 0.6630 - val_accuracy: 0.7408\n",
      "Epoch 32/50\n",
      "322/322 [==============================] - 42s 132ms/step - loss: 0.6024 - accuracy: 0.7512 - val_loss: 0.7126 - val_accuracy: 0.7281\n",
      "Epoch 33/50\n",
      "322/322 [==============================] - 43s 135ms/step - loss: 0.6055 - accuracy: 0.7491 - val_loss: 0.6919 - val_accuracy: 0.7249\n",
      "Epoch 34/50\n",
      "322/322 [==============================] - 43s 133ms/step - loss: 0.5976 - accuracy: 0.7517 - val_loss: 0.6787 - val_accuracy: 0.7367\n",
      "Epoch 35/50\n",
      "322/322 [==============================] - 42s 132ms/step - loss: 0.5952 - accuracy: 0.7535 - val_loss: 0.6956 - val_accuracy: 0.7294\n",
      "Epoch 36/50\n",
      "322/322 [==============================] - 43s 133ms/step - loss: 0.5904 - accuracy: 0.7540 - val_loss: 0.7298 - val_accuracy: 0.7190\n",
      "Epoch 37/50\n",
      "322/322 [==============================] - 43s 135ms/step - loss: 0.5931 - accuracy: 0.7550 - val_loss: 0.6917 - val_accuracy: 0.7385\n"
     ]
    },
    {
     "data": {
      "text/plain": [
       "<keras.callbacks.History at 0x7f7c08e5dde0>"
      ]
     },
     "execution_count": 5,
     "metadata": {},
     "output_type": "execute_result"
    }
   ],
   "source": [
    "# Set up the checkpoint callback\n",
    "model_checkpoint_callback = tf.keras.callbacks.ModelCheckpoint(\n",
    "    filepath=checkpoint_filepath,\n",
    "    save_weights_only=True,\n",
    "    monitor='val_loss',\n",
    "    mode='auto',\n",
    "    save_best_only=True\n",
    ")\n",
    "\n",
    "early_stopping = EarlyStopping(monitor='val_loss', patience=6, restore_best_weights=True)\n",
    "\n",
    "# Train the model\n",
    "deeplob.fit(trainX_CNN, trainY_CNN, validation_data=(valX_CNN, valY_CNN), \n",
    "            epochs=50, batch_size=64, verbose=1, callbacks=[model_checkpoint_callback,early_stopping])\n"
   ]
  },
  {
   "cell_type": "markdown",
   "metadata": {},
   "source": [
    "# Model Testing"
   ]
  },
  {
   "cell_type": "code",
   "execution_count": 6,
   "metadata": {},
   "outputs": [
    {
     "name": "stdout",
     "output_type": "stream",
     "text": [
      "374/374 [==============================] - 9s 24ms/step\n"
     ]
    }
   ],
   "source": [
    "deeplob.load_weights(checkpoint_filepath)\n",
    "pred = deeplob.predict(testX_CNN)"
   ]
  },
  {
   "cell_type": "code",
   "execution_count": null,
   "metadata": {},
   "outputs": [
    {
     "name": "stdout",
     "output_type": "stream",
     "text": [
      "accuracy_score: 0.6957466365839392\n",
      "              precision    recall  f1-score   support\n",
      "\n",
      "           0     0.6653    0.6913    0.6780      3592\n",
      "           1     0.7527    0.6402    0.6919      4364\n",
      "           2     0.6741    0.7602    0.7146      4011\n",
      "\n",
      "    accuracy                         0.6957     11967\n",
      "   macro avg     0.6974    0.6972    0.6948     11967\n",
      "weighted avg     0.7001    0.6957    0.6953     11967\n",
      "\n"
     ]
    }
   ],
   "source": [
    "print('accuracy_score:', accuracy_score(np.argmax(testY_CNN, axis=1), np.argmax(pred, axis=1)))\n",
    "print(classification_report(np.argmax(testY_CNN, axis=1), np.argmax(pred, axis=1), digits=4))"
   ]
  },
  {
   "cell_type": "code",
   "execution_count": null,
   "metadata": {},
   "outputs": [
    {
     "data": {
      "image/png": "[encoded data removed]",
      "text/plain": [
       "<Figure size 1000x700 with 2 Axes>"
      ]
     },
     "metadata": {},
     "output_type": "display_data"
    }
   ],
   "source": [
    "# Convert one-hot encoded vectors to class labels\n",
    "true_labels = np.argmax(testY_CNN, axis=1)\n",
    "predicted_labels = np.argmax(pred, axis=1)\n",
    "\n",
    "# Compute the confusion matrix\n",
    "conf_matrix = confusion_matrix(true_labels, predicted_labels)\n",
    "\n",
    "\n",
    "# Plotting using seaborn\n",
    "plt.figure(figsize=(10, 7))\n",
    "sns.heatmap(conf_matrix, annot=True, fmt=\"d\", cmap=\"Blues\", xticklabels=[0, 1, 2], yticklabels=[0, 1, 2])\n",
    "plt.title('Confusion Matrix')\n",
    "plt.ylabel('True Label')\n",
    "plt.xlabel('Predicted Label')\n",
    "plt.show()"
   ]
  }
 ],
 "metadata": {
  "kernelspec": {
   "display_name": "ML",
   "language": "python",
   "name": "python3"
  },
  "language_info": {
   "codemirror_mode": {
    "name": "ipython",
    "version": 3
   },
   "file_extension": ".py",
   "mimetype": "text/x-python",
   "name": "python",
   "nbconvert_exporter": "python",
   "pygments_lexer": "ipython3",
   "version": "3.10.6"
  }
 },
 "nbformat": 4,
 "nbformat_minor": 2
}
