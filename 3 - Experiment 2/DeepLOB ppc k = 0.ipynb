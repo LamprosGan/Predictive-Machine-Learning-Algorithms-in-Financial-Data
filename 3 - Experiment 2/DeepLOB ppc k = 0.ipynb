{
 "cells": [
  {
   "cell_type": "markdown",
   "metadata": {},
   "source": [
    "# Applying DeepLOB model to predict the results of horizon 10 for stock PPC of Athex Exchange."
   ]
  },
  {
   "cell_type": "code",
   "execution_count": null,
   "metadata": {},
   "outputs": [
    {
     "name": "stdout",
     "output_type": "stream",
     "text": [
      "2.9.1\n",
      "[PhysicalDevice(name='/physical_device:CPU:0', device_type='CPU')]\n"
     ]
    }
   ],
   "source": [
    "# Importing the libraries.\n",
    "import numpy as np\n",
    "import pandas as pd\n",
    "import tensorflow as tf\n",
    "from tensorflow.keras.utils import to_categorical\n",
    "from tensorflow.keras.callbacks import EarlyStopping, ModelCheckpoint\n",
    "from keras.layers import Flatten, Dense, Dropout, Activation, Input, LSTM, Reshape, Conv2D, MaxPooling2D, CuDNNLSTM\n",
    "from keras.models import Model\n",
    "import tensorflow as tf\n",
    "import keras\n",
    "\n",
    "from sklearn.metrics import classification_report, accuracy_score, confusion_matrix\n",
    "import matplotlib.pyplot as plt\n",
    "import seaborn as sns\n",
    "\n",
    "print(tf.__version__)\n",
    "print(tf.config.list_physical_devices())"
   ]
  },
  {
   "cell_type": "markdown",
   "metadata": {},
   "source": [
    "# Data preparation"
   ]
  },
  {
   "cell_type": "code",
   "execution_count": null,
   "metadata": {},
   "outputs": [],
   "source": [
    "# Functions to prepare the data for the model.\n",
    "def prepare_x(data):\n",
    "    df1 = data[:40, :].T\n",
    "    return np.array(df1)\n",
    "\n",
    "def get_label(data):\n",
    "    lob = data[-5:, :].T\n",
    "    return lob\n",
    "\n",
    "def data_classification(X, Y, T):\n",
    "    [N, D] = X.shape\n",
    "    df = np.array(X)\n",
    "    dY = np.array(Y)\n",
    "    dataY = dY[T - 1:N]\n",
    "    dataX = np.zeros((N - T + 1, T, D))\n",
    "    for i in range(T, N + 1):\n",
    "        dataX[i - T] = df[i - T:i, :]\n",
    "    return dataX.reshape(dataX.shape + (1,)), dataY\n",
    "\n",
    "def prepare_x_y(data, k, T):\n",
    "    x = prepare_x(data)\n",
    "    y = get_label(data)\n",
    "    x, y = data_classification(x, y, T=T)\n",
    "    y = y[:, k] - 1\n",
    "    y = to_categorical(y, 3)\n",
    "    return x, y\n"
   ]
  },
  {
   "cell_type": "code",
   "execution_count": null,
   "metadata": {},
   "outputs": [
    {
     "name": "stdout",
     "output_type": "stream",
     "text": [
      "(22185, 100, 40, 1) (22185, 3)\n",
      "(2378, 100, 40, 1) (2378, 3)\n",
      "(28283, 100, 40, 1) (28283, 3)\n"
     ]
    }
   ],
   "source": [
    "# Load data\n",
    "dec_data = np.loadtxt('train_PPC_case1.txt')\n",
    "dec_train = dec_data[:, :int(np.floor(dec_data.shape[1] * 0.9))]\n",
    "dec_val = dec_data[:, int(np.floor(dec_data.shape[1] * 0.9)):]\n",
    "dec_test = np.loadtxt('test_TPEIR_case1.txt')\n",
    "\n",
    "k = 0 # Which horizon to use for prediction\n",
    "T = 100 # The input dimension (time steps)\n",
    "n_hiddens = 64\n",
    "checkpoint_filepath = './ppc_deeplob_k0/weights' # Where to save the model weights.\n",
    "\n",
    "trainX_CNN, trainY_CNN = prepare_x_y(dec_train, k, T)\n",
    "valX_CNN, valY_CNN = prepare_x_y(dec_val, k, T)\n",
    "testX_CNN, testY_CNN = prepare_x_y(dec_test, k, T)\n",
    "\n",
    "print(trainX_CNN.shape, trainY_CNN.shape)\n",
    "print(valX_CNN.shape, valY_CNN.shape)\n",
    "print(testX_CNN.shape, testY_CNN.shape)"
   ]
  },
  {
   "cell_type": "markdown",
   "metadata": {},
   "source": [
    "# Model Architecture\n"
   ]
  },
  {
   "cell_type": "code",
   "execution_count": null,
   "metadata": {},
   "outputs": [
    {
     "name": "stderr",
     "output_type": "stream",
     "text": [
      "2024-08-11 11:54:35.918547: I tensorflow/core/platform/cpu_feature_guard.cc:193] This TensorFlow binary is optimized with oneAPI Deep Neural Network Library (oneDNN) to use the following CPU instructions in performance-critical operations:  SSE4.1 SSE4.2\n",
      "To enable them in other operations, rebuild TensorFlow with the appropriate compiler flags.\n"
     ]
    },
    {
     "name": "stdout",
     "output_type": "stream",
     "text": [
      "Model: \"model\"\n",
      "__________________________________________________________________________________________________\n",
      " Layer (type)                   Output Shape         Param #     Connected to                     \n",
      "==================================================================================================\n",
      " input_1 (InputLayer)           [(None, 100, 40, 1)  0           []                               \n",
      "                                ]                                                                 \n",
      "                                                                                                  \n",
      " conv2d (Conv2D)                (None, 100, 20, 16)  48          ['input_1[0][0]']                \n",
      "                                                                                                  \n",
      " leaky_re_lu (LeakyReLU)        (None, 100, 20, 16)  0           ['conv2d[0][0]']                 \n",
      "                                                                                                  \n",
      " conv2d_1 (Conv2D)              (None, 100, 20, 16)  1040        ['leaky_re_lu[0][0]']            \n",
      "                                                                                                  \n",
      " leaky_re_lu_1 (LeakyReLU)      (None, 100, 20, 16)  0           ['conv2d_1[0][0]']               \n",
      "                                                                                                  \n",
      " conv2d_2 (Conv2D)              (None, 100, 20, 16)  1040        ['leaky_re_lu_1[0][0]']          \n",
      "                                                                                                  \n",
      " leaky_re_lu_2 (LeakyReLU)      (None, 100, 20, 16)  0           ['conv2d_2[0][0]']               \n",
      "                                                                                                  \n",
      " conv2d_3 (Conv2D)              (None, 100, 10, 16)  528         ['leaky_re_lu_2[0][0]']          \n",
      "                                                                                                  \n",
      " leaky_re_lu_3 (LeakyReLU)      (None, 100, 10, 16)  0           ['conv2d_3[0][0]']               \n",
      "                                                                                                  \n",
      " conv2d_4 (Conv2D)              (None, 100, 10, 16)  1040        ['leaky_re_lu_3[0][0]']          \n",
      "                                                                                                  \n",
      " leaky_re_lu_4 (LeakyReLU)      (None, 100, 10, 16)  0           ['conv2d_4[0][0]']               \n",
      "                                                                                                  \n",
      " conv2d_5 (Conv2D)              (None, 100, 10, 16)  1040        ['leaky_re_lu_4[0][0]']          \n",
      "                                                                                                  \n",
      " leaky_re_lu_5 (LeakyReLU)      (None, 100, 10, 16)  0           ['conv2d_5[0][0]']               \n",
      "                                                                                                  \n",
      " conv2d_6 (Conv2D)              (None, 100, 1, 16)   2576        ['leaky_re_lu_5[0][0]']          \n",
      "                                                                                                  \n",
      " leaky_re_lu_6 (LeakyReLU)      (None, 100, 1, 16)   0           ['conv2d_6[0][0]']               \n",
      "                                                                                                  \n",
      " conv2d_7 (Conv2D)              (None, 100, 1, 16)   1040        ['leaky_re_lu_6[0][0]']          \n",
      "                                                                                                  \n",
      " leaky_re_lu_7 (LeakyReLU)      (None, 100, 1, 16)   0           ['conv2d_7[0][0]']               \n",
      "                                                                                                  \n",
      " conv2d_8 (Conv2D)              (None, 100, 1, 16)   1040        ['leaky_re_lu_7[0][0]']          \n",
      "                                                                                                  \n",
      " leaky_re_lu_8 (LeakyReLU)      (None, 100, 1, 16)   0           ['conv2d_8[0][0]']               \n",
      "                                                                                                  \n",
      " conv2d_9 (Conv2D)              (None, 100, 1, 32)   544         ['leaky_re_lu_8[0][0]']          \n",
      "                                                                                                  \n",
      " conv2d_11 (Conv2D)             (None, 100, 1, 32)   544         ['leaky_re_lu_8[0][0]']          \n",
      "                                                                                                  \n",
      " leaky_re_lu_9 (LeakyReLU)      (None, 100, 1, 32)   0           ['conv2d_9[0][0]']               \n",
      "                                                                                                  \n",
      " leaky_re_lu_11 (LeakyReLU)     (None, 100, 1, 32)   0           ['conv2d_11[0][0]']              \n",
      "                                                                                                  \n",
      " max_pooling2d (MaxPooling2D)   (None, 100, 1, 16)   0           ['leaky_re_lu_8[0][0]']          \n",
      "                                                                                                  \n",
      " conv2d_10 (Conv2D)             (None, 100, 1, 32)   3104        ['leaky_re_lu_9[0][0]']          \n",
      "                                                                                                  \n",
      " conv2d_12 (Conv2D)             (None, 100, 1, 32)   5152        ['leaky_re_lu_11[0][0]']         \n",
      "                                                                                                  \n",
      " conv2d_13 (Conv2D)             (None, 100, 1, 32)   544         ['max_pooling2d[0][0]']          \n",
      "                                                                                                  \n",
      " leaky_re_lu_10 (LeakyReLU)     (None, 100, 1, 32)   0           ['conv2d_10[0][0]']              \n",
      "                                                                                                  \n",
      " leaky_re_lu_12 (LeakyReLU)     (None, 100, 1, 32)   0           ['conv2d_12[0][0]']              \n",
      "                                                                                                  \n",
      " leaky_re_lu_13 (LeakyReLU)     (None, 100, 1, 32)   0           ['conv2d_13[0][0]']              \n",
      "                                                                                                  \n",
      " concatenate (Concatenate)      (None, 100, 1, 96)   0           ['leaky_re_lu_10[0][0]',         \n",
      "                                                                  'leaky_re_lu_12[0][0]',         \n",
      "                                                                  'leaky_re_lu_13[0][0]']         \n",
      "                                                                                                  \n",
      " reshape (Reshape)              (None, 100, 96)      0           ['concatenate[0][0]']            \n",
      "                                                                                                  \n",
      " dropout (Dropout)              (None, 100, 96)      0           ['reshape[0][0]']                \n",
      "                                                                                                  \n",
      " lstm (LSTM)                    (None, 64)           41216       ['dropout[0][0]']                \n",
      "                                                                                                  \n",
      " dense (Dense)                  (None, 3)            195         ['lstm[0][0]']                   \n",
      "                                                                                                  \n",
      "==================================================================================================\n",
      "Total params: 60,691\n",
      "Trainable params: 60,691\n",
      "Non-trainable params: 0\n",
      "__________________________________________________________________________________________________\n"
     ]
    },
    {
     "name": "stderr",
     "output_type": "stream",
     "text": [
      "/Users/lamprosganias/opt/anaconda3/envs/ML/lib/python3.10/site-packages/keras/optimizers/optimizer_v2/adam.py:110: UserWarning: The `lr` argument is deprecated, use `learning_rate` instead.\n",
      "  super(Adam, self).__init__(name, **kwargs)\n"
     ]
    }
   ],
   "source": [
    "def create_deeplob(T, NF, number_of_lstm):\n",
    "    input_lmd = Input(shape=(T, NF, 1))\n",
    "    \n",
    "    # build the convolutional block\n",
    "    conv_first1 = Conv2D(16, (1, 2), strides=(1, 2))(input_lmd)\n",
    "    conv_first1 = keras.layers.LeakyReLU(alpha=0.01)(conv_first1)\n",
    "    conv_first1 = Conv2D(16, (4, 1), padding='same')(conv_first1)\n",
    "    conv_first1 = keras.layers.LeakyReLU(alpha=0.01)(conv_first1)\n",
    "    conv_first1 = Conv2D(16, (4, 1), padding='same')(conv_first1)\n",
    "    conv_first1 = keras.layers.LeakyReLU(alpha=0.01)(conv_first1)\n",
    "\n",
    "    conv_first1 = Conv2D(16, (1, 2), strides=(1, 2))(conv_first1)\n",
    "    conv_first1 = keras.layers.LeakyReLU(alpha=0.01)(conv_first1)\n",
    "    conv_first1 = Conv2D(16, (4, 1), padding='same')(conv_first1)\n",
    "    conv_first1 = keras.layers.LeakyReLU(alpha=0.01)(conv_first1)\n",
    "    conv_first1 = Conv2D(16, (4, 1), padding='same')(conv_first1)\n",
    "    conv_first1 = keras.layers.LeakyReLU(alpha=0.01)(conv_first1)\n",
    "\n",
    "    conv_first1 = Conv2D(16, (1, 10))(conv_first1)\n",
    "    conv_first1 = keras.layers.LeakyReLU(alpha=0.01)(conv_first1)\n",
    "    conv_first1 = Conv2D(16, (4, 1), padding='same')(conv_first1)\n",
    "    conv_first1 = keras.layers.LeakyReLU(alpha=0.01)(conv_first1)\n",
    "    conv_first1 = Conv2D(16, (4, 1), padding='same')(conv_first1)\n",
    "    conv_first1 = keras.layers.LeakyReLU(alpha=0.01)(conv_first1)\n",
    "    \n",
    "    # build the inception module\n",
    "    convsecond_1 = Conv2D(32, (1, 1), padding='same')(conv_first1)\n",
    "    convsecond_1 = keras.layers.LeakyReLU(alpha=0.01)(convsecond_1)\n",
    "    convsecond_1 = Conv2D(32, (3, 1), padding='same')(convsecond_1)\n",
    "    convsecond_1 = keras.layers.LeakyReLU(alpha=0.01)(convsecond_1)\n",
    "\n",
    "    convsecond_2 = Conv2D(32, (1, 1), padding='same')(conv_first1)\n",
    "    convsecond_2 = keras.layers.LeakyReLU(alpha=0.01)(convsecond_2)\n",
    "    convsecond_2 = Conv2D(32, (5, 1), padding='same')(convsecond_2)\n",
    "    convsecond_2 = keras.layers.LeakyReLU(alpha=0.01)(convsecond_2)\n",
    "\n",
    "    convsecond_3 = MaxPooling2D((3, 1), strides=(1, 1), padding='same')(conv_first1)\n",
    "    convsecond_3 = Conv2D(32, (1, 1), padding='same')(convsecond_3)\n",
    "    convsecond_3 = keras.layers.LeakyReLU(alpha=0.01)(convsecond_3)\n",
    "    \n",
    "    convsecond_output = keras.layers.concatenate([convsecond_1, convsecond_2, convsecond_3], axis=3)\n",
    "    conv_reshape = Reshape((int(convsecond_output.shape[1]), int(convsecond_output.shape[3])))(convsecond_output)\n",
    "    conv_reshape = keras.layers.Dropout(0.2, noise_shape=(None, 1, int(conv_reshape.shape[2])))(conv_reshape, training=True)\n",
    "    \n",
    "    # build the last LSTM layer\n",
    "    conv_lstm = LSTM(number_of_lstm)(conv_reshape)  # Change CuDNNLSTM to LSTM\n",
    "\n",
    "    # build the output layer\n",
    "    out = Dense(3, activation='softmax')(conv_lstm)\n",
    "    model = Model(inputs=input_lmd, outputs=out)\n",
    "    adam = keras.optimizers.Adam(lr=0.0001)\n",
    "    model.compile(optimizer=adam, loss='categorical_crossentropy', metrics=['accuracy'])\n",
    "\n",
    "    return model\n",
    "\n",
    "# Create the model\n",
    "deeplob = create_deeplob(trainX_CNN.shape[1], trainX_CNN.shape[2], n_hiddens)\n",
    "deeplob.summary()"
   ]
  },
  {
   "cell_type": "markdown",
   "metadata": {},
   "source": [
    "# Model Training"
   ]
  },
  {
   "cell_type": "code",
   "execution_count": 5,
   "metadata": {},
   "outputs": [
    {
     "name": "stdout",
     "output_type": "stream",
     "text": [
      "Epoch 1/50\n",
      "347/347 [==============================] - 39s 107ms/step - loss: 0.9797 - accuracy: 0.4851 - val_loss: 1.0545 - val_accuracy: 0.4209\n",
      "Epoch 2/50\n",
      "347/347 [==============================] - 39s 113ms/step - loss: 0.9410 - accuracy: 0.5034 - val_loss: 1.0321 - val_accuracy: 0.4365\n",
      "Epoch 3/50\n",
      "347/347 [==============================] - 40s 114ms/step - loss: 0.9368 - accuracy: 0.4999 - val_loss: 1.0372 - val_accuracy: 0.4394\n",
      "Epoch 4/50\n",
      "347/347 [==============================] - 40s 115ms/step - loss: 0.9342 - accuracy: 0.5026 - val_loss: 1.0387 - val_accuracy: 0.4294\n",
      "Epoch 5/50\n",
      "347/347 [==============================] - 40s 115ms/step - loss: 0.9300 - accuracy: 0.5055 - val_loss: 1.0281 - val_accuracy: 0.4294\n",
      "Epoch 6/50\n",
      "347/347 [==============================] - 40s 116ms/step - loss: 0.9234 - accuracy: 0.5103 - val_loss: 1.0280 - val_accuracy: 0.4264\n",
      "Epoch 7/50\n",
      "347/347 [==============================] - 40s 116ms/step - loss: 0.9200 - accuracy: 0.5160 - val_loss: 1.0479 - val_accuracy: 0.4415\n",
      "Epoch 8/50\n",
      "347/347 [==============================] - 42s 120ms/step - loss: 0.9104 - accuracy: 0.5371 - val_loss: 1.0482 - val_accuracy: 0.4470\n",
      "Epoch 9/50\n",
      "347/347 [==============================] - 41s 118ms/step - loss: 0.8960 - accuracy: 0.5607 - val_loss: 1.0297 - val_accuracy: 0.4647\n",
      "Epoch 10/50\n",
      "347/347 [==============================] - 41s 118ms/step - loss: 0.8729 - accuracy: 0.5941 - val_loss: 1.0398 - val_accuracy: 0.4916\n",
      "Epoch 11/50\n",
      "347/347 [==============================] - 41s 118ms/step - loss: 0.8278 - accuracy: 0.6249 - val_loss: 0.9480 - val_accuracy: 0.5547\n",
      "Epoch 12/50\n",
      "347/347 [==============================] - 41s 118ms/step - loss: 0.7832 - accuracy: 0.6549 - val_loss: 0.9209 - val_accuracy: 0.5786\n",
      "Epoch 13/50\n",
      "347/347 [==============================] - 41s 118ms/step - loss: 0.7442 - accuracy: 0.6846 - val_loss: 0.9031 - val_accuracy: 0.5866\n",
      "Epoch 14/50\n",
      "347/347 [==============================] - 45s 130ms/step - loss: 0.7192 - accuracy: 0.6962 - val_loss: 0.8419 - val_accuracy: 0.6232\n",
      "Epoch 15/50\n",
      "347/347 [==============================] - 52s 148ms/step - loss: 0.7056 - accuracy: 0.7060 - val_loss: 0.8370 - val_accuracy: 0.6106\n",
      "Epoch 16/50\n",
      "347/347 [==============================] - 45s 130ms/step - loss: 0.6949 - accuracy: 0.7107 - val_loss: 0.8151 - val_accuracy: 0.6358\n",
      "Epoch 17/50\n",
      "347/347 [==============================] - 46s 133ms/step - loss: 0.6839 - accuracy: 0.7187 - val_loss: 0.8108 - val_accuracy: 0.6371\n",
      "Epoch 18/50\n",
      "347/347 [==============================] - 44s 128ms/step - loss: 0.6760 - accuracy: 0.7234 - val_loss: 0.8402 - val_accuracy: 0.6203\n",
      "Epoch 19/50\n",
      "347/347 [==============================] - 45s 128ms/step - loss: 0.6731 - accuracy: 0.7257 - val_loss: 0.8257 - val_accuracy: 0.6367\n",
      "Epoch 20/50\n",
      "347/347 [==============================] - 46s 133ms/step - loss: 0.6668 - accuracy: 0.7298 - val_loss: 0.7915 - val_accuracy: 0.6472\n",
      "Epoch 21/50\n",
      "347/347 [==============================] - 49s 141ms/step - loss: 0.6609 - accuracy: 0.7296 - val_loss: 0.7962 - val_accuracy: 0.6539\n",
      "Epoch 22/50\n",
      "347/347 [==============================] - 46s 132ms/step - loss: 0.6538 - accuracy: 0.7336 - val_loss: 0.8021 - val_accuracy: 0.6548\n",
      "Epoch 23/50\n",
      "347/347 [==============================] - 41s 120ms/step - loss: 0.6523 - accuracy: 0.7349 - val_loss: 0.7715 - val_accuracy: 0.6665\n",
      "Epoch 24/50\n",
      "347/347 [==============================] - 41s 118ms/step - loss: 0.6484 - accuracy: 0.7339 - val_loss: 0.7737 - val_accuracy: 0.6640\n",
      "Epoch 25/50\n",
      "347/347 [==============================] - 41s 118ms/step - loss: 0.6415 - accuracy: 0.7386 - val_loss: 0.7939 - val_accuracy: 0.6560\n",
      "Epoch 26/50\n",
      "347/347 [==============================] - 41s 118ms/step - loss: 0.6405 - accuracy: 0.7422 - val_loss: 0.7812 - val_accuracy: 0.6606\n",
      "Epoch 27/50\n",
      "347/347 [==============================] - 45s 128ms/step - loss: 0.6310 - accuracy: 0.7429 - val_loss: 0.7894 - val_accuracy: 0.6657\n",
      "Epoch 28/50\n",
      "347/347 [==============================] - 44s 128ms/step - loss: 0.6302 - accuracy: 0.7466 - val_loss: 0.7643 - val_accuracy: 0.6615\n",
      "Epoch 29/50\n",
      "347/347 [==============================] - 45s 129ms/step - loss: 0.6245 - accuracy: 0.7482 - val_loss: 0.7594 - val_accuracy: 0.6657\n",
      "Epoch 30/50\n",
      "347/347 [==============================] - 45s 131ms/step - loss: 0.6229 - accuracy: 0.7487 - val_loss: 0.7684 - val_accuracy: 0.6648\n",
      "Epoch 31/50\n",
      "347/347 [==============================] - 45s 129ms/step - loss: 0.6170 - accuracy: 0.7509 - val_loss: 0.7594 - val_accuracy: 0.6657\n",
      "Epoch 32/50\n",
      "347/347 [==============================] - 44s 127ms/step - loss: 0.6161 - accuracy: 0.7520 - val_loss: 0.7536 - val_accuracy: 0.6766\n",
      "Epoch 33/50\n",
      "347/347 [==============================] - 46s 132ms/step - loss: 0.6119 - accuracy: 0.7537 - val_loss: 0.7616 - val_accuracy: 0.6674\n",
      "Epoch 34/50\n",
      "347/347 [==============================] - 47s 135ms/step - loss: 0.6122 - accuracy: 0.7538 - val_loss: 0.7446 - val_accuracy: 0.6884\n",
      "Epoch 35/50\n",
      "347/347 [==============================] - 43s 125ms/step - loss: 0.6066 - accuracy: 0.7564 - val_loss: 0.7586 - val_accuracy: 0.6854\n",
      "Epoch 36/50\n",
      "347/347 [==============================] - 43s 125ms/step - loss: 0.6040 - accuracy: 0.7591 - val_loss: 0.7575 - val_accuracy: 0.6766\n",
      "Epoch 37/50\n",
      "347/347 [==============================] - 43s 124ms/step - loss: 0.6009 - accuracy: 0.7600 - val_loss: 0.7332 - val_accuracy: 0.7006\n",
      "Epoch 38/50\n",
      "347/347 [==============================] - 43s 124ms/step - loss: 0.5974 - accuracy: 0.7611 - val_loss: 0.7904 - val_accuracy: 0.6548\n",
      "Epoch 39/50\n",
      "347/347 [==============================] - 43s 124ms/step - loss: 0.5978 - accuracy: 0.7615 - val_loss: 0.7378 - val_accuracy: 0.6821\n",
      "Epoch 40/50\n",
      "347/347 [==============================] - 44s 128ms/step - loss: 0.5949 - accuracy: 0.7607 - val_loss: 0.7319 - val_accuracy: 0.6846\n",
      "Epoch 41/50\n",
      "347/347 [==============================] - 48s 139ms/step - loss: 0.5892 - accuracy: 0.7636 - val_loss: 0.7331 - val_accuracy: 0.6867\n",
      "Epoch 42/50\n",
      "347/347 [==============================] - 44s 128ms/step - loss: 0.5907 - accuracy: 0.7642 - val_loss: 0.7579 - val_accuracy: 0.6737\n",
      "Epoch 43/50\n",
      "347/347 [==============================] - 43s 125ms/step - loss: 0.5927 - accuracy: 0.7647 - val_loss: 0.7387 - val_accuracy: 0.6812\n",
      "Epoch 44/50\n",
      "347/347 [==============================] - 43s 125ms/step - loss: 0.5876 - accuracy: 0.7660 - val_loss: 0.7311 - val_accuracy: 0.6871\n",
      "Epoch 45/50\n",
      "347/347 [==============================] - 44s 127ms/step - loss: 0.5870 - accuracy: 0.7643 - val_loss: 0.7315 - val_accuracy: 0.6955\n",
      "Epoch 46/50\n",
      "347/347 [==============================] - 44s 126ms/step - loss: 0.5827 - accuracy: 0.7696 - val_loss: 0.7361 - val_accuracy: 0.6838\n",
      "Epoch 47/50\n",
      "347/347 [==============================] - 44s 127ms/step - loss: 0.5783 - accuracy: 0.7692 - val_loss: 0.7416 - val_accuracy: 0.6800\n",
      "Epoch 48/50\n",
      "347/347 [==============================] - 43s 125ms/step - loss: 0.5795 - accuracy: 0.7697 - val_loss: 0.7537 - val_accuracy: 0.6686\n",
      "Epoch 49/50\n",
      "347/347 [==============================] - 45s 128ms/step - loss: 0.5765 - accuracy: 0.7700 - val_loss: 0.7242 - val_accuracy: 0.6876\n",
      "Epoch 50/50\n",
      "347/347 [==============================] - 46s 132ms/step - loss: 0.5720 - accuracy: 0.7715 - val_loss: 0.7388 - val_accuracy: 0.6775\n"
     ]
    },
    {
     "data": {
      "text/plain": [
       "<keras.callbacks.History at 0x7f9918515540>"
      ]
     },
     "execution_count": 5,
     "metadata": {},
     "output_type": "execute_result"
    }
   ],
   "source": [
    "# Set up the checkpoint callback\n",
    "model_checkpoint_callback = tf.keras.callbacks.ModelCheckpoint(\n",
    "    filepath=checkpoint_filepath,\n",
    "    save_weights_only=True,\n",
    "    monitor='val_loss',\n",
    "    mode='auto',\n",
    "    save_best_only=True\n",
    ")\n",
    "\n",
    "early_stopping = EarlyStopping(monitor='val_loss', patience=6, restore_best_weights=True)\n",
    "\n",
    "# Train the model\n",
    "deeplob.fit(trainX_CNN, trainY_CNN, validation_data=(valX_CNN, valY_CNN), \n",
    "            epochs=50, batch_size=64, verbose=1, callbacks=[model_checkpoint_callback,early_stopping])\n"
   ]
  },
  {
   "cell_type": "markdown",
   "metadata": {},
   "source": [
    "# Model Testing"
   ]
  },
  {
   "cell_type": "code",
   "execution_count": 6,
   "metadata": {},
   "outputs": [
    {
     "name": "stdout",
     "output_type": "stream",
     "text": [
      "884/884 [==============================] - 23s 26ms/step\n"
     ]
    }
   ],
   "source": [
    "deeplob.load_weights(checkpoint_filepath)\n",
    "pred = deeplob.predict(testX_CNN)"
   ]
  },
  {
   "cell_type": "code",
   "execution_count": null,
   "metadata": {},
   "outputs": [
    {
     "name": "stdout",
     "output_type": "stream",
     "text": [
      "accuracy_score: 0.6941272142276279\n",
      "              precision    recall  f1-score   support\n",
      "\n",
      "           0     0.7253    0.7496    0.7373     10180\n",
      "           1     0.5722    0.6614    0.6136      7924\n",
      "           2     0.7858    0.6641    0.7198     10179\n",
      "\n",
      "    accuracy                         0.6941     28283\n",
      "   macro avg     0.6944    0.6917    0.6902     28283\n",
      "weighted avg     0.7042    0.6941    0.6963     28283\n",
      "\n"
     ]
    }
   ],
   "source": [
    "print('accuracy_score:', accuracy_score(np.argmax(testY_CNN, axis=1), np.argmax(pred, axis=1)))\n",
    "print(classification_report(np.argmax(testY_CNN, axis=1), np.argmax(pred, axis=1), digits=4))"
   ]
  },
  {
   "cell_type": "code",
   "execution_count": null,
   "metadata": {},
   "outputs": [
    {
     "data": {
      "image/png": "[encoded data removed]",
      "text/plain": [
       "<Figure size 1000x700 with 2 Axes>"
      ]
     },
     "metadata": {},
     "output_type": "display_data"
    }
   ],
   "source": [
    "# Convert one-hot encoded vectors to class labels\n",
    "true_labels = np.argmax(testY_CNN, axis=1)\n",
    "predicted_labels = np.argmax(pred, axis=1)\n",
    "\n",
    "# Compute the confusion matrix\n",
    "conf_matrix = confusion_matrix(true_labels, predicted_labels)\n",
    "\n",
    "\n",
    "# Plotting using seaborn\n",
    "plt.figure(figsize=(10, 7))\n",
    "sns.heatmap(conf_matrix, annot=True, fmt=\"d\", cmap=\"Blues\", xticklabels=[0, 1, 2], yticklabels=[0, 1, 2])\n",
    "plt.title('Confusion Matrix')\n",
    "plt.ylabel('True Label')\n",
    "plt.xlabel('Predicted Label')\n",
    "plt.show()"
   ]
  }
 ],
 "metadata": {
  "kernelspec": {
   "display_name": "ML",
   "language": "python",
   "name": "python3"
  },
  "language_info": {
   "codemirror_mode": {
    "name": "ipython",
    "version": 3
   },
   "file_extension": ".py",
   "mimetype": "text/x-python",
   "name": "python",
   "nbconvert_exporter": "python",
   "pygments_lexer": "ipython3",
   "version": "3.10.6"
  }
 },
 "nbformat": 4,
 "nbformat_minor": 2
}
