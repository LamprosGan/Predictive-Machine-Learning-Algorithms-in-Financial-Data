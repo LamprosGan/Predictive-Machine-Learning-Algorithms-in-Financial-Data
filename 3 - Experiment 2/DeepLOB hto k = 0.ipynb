{
 "cells": [
  {
   "cell_type": "markdown",
   "metadata": {},
   "source": [
    "# Applying DeepLOB model to predict the results of horizon 10 for stock HTO of Athex Exchange."
   ]
  },
  {
   "cell_type": "code",
   "execution_count": null,
   "metadata": {},
   "outputs": [
    {
     "name": "stdout",
     "output_type": "stream",
     "text": [
      "2.9.1\n",
      "[PhysicalDevice(name='/physical_device:CPU:0', device_type='CPU')]\n"
     ]
    }
   ],
   "source": [
    "# Importing the libraries.\n",
    "import numpy as np\n",
    "import pandas as pd\n",
    "import tensorflow as tf\n",
    "from tensorflow.keras.utils import to_categorical\n",
    "from tensorflow.keras.callbacks import EarlyStopping, ModelCheckpoint\n",
    "from keras.layers import Flatten, Dense, Dropout, Activation, Input, LSTM, Reshape, Conv2D, MaxPooling2D, CuDNNLSTM\n",
    "from keras.models import Model\n",
    "import tensorflow as tf\n",
    "import keras\n",
    "\n",
    "from sklearn.metrics import classification_report, accuracy_score, confusion_matrix\n",
    "import matplotlib.pyplot as plt\n",
    "import seaborn as sns\n",
    "\n",
    "print(tf.__version__)\n",
    "print(tf.config.list_physical_devices())"
   ]
  },
  {
   "cell_type": "markdown",
   "metadata": {},
   "source": [
    "# Data preparation"
   ]
  },
  {
   "cell_type": "code",
   "execution_count": null,
   "metadata": {},
   "outputs": [],
   "source": [
    "# Functions to prepare the data for the model.\n",
    "def prepare_x(data):\n",
    "    df1 = data[:40, :].T\n",
    "    return np.array(df1)\n",
    "\n",
    "def get_label(data):\n",
    "    lob = data[-5:, :].T\n",
    "    return lob\n",
    "\n",
    "def data_classification(X, Y, T):\n",
    "    [N, D] = X.shape\n",
    "    df = np.array(X)\n",
    "    dY = np.array(Y)\n",
    "    dataY = dY[T - 1:N]\n",
    "    dataX = np.zeros((N - T + 1, T, D))\n",
    "    for i in range(T, N + 1):\n",
    "        dataX[i - T] = df[i - T:i, :]\n",
    "    return dataX.reshape(dataX.shape + (1,)), dataY\n",
    "\n",
    "def prepare_x_y(data, k, T):\n",
    "    x = prepare_x(data)\n",
    "    y = get_label(data)\n",
    "    x, y = data_classification(x, y, T=T)\n",
    "    y = y[:, k] - 1\n",
    "    y = to_categorical(y, 3)\n",
    "    return x, y\n"
   ]
  },
  {
   "cell_type": "code",
   "execution_count": null,
   "metadata": {},
   "outputs": [
    {
     "name": "stdout",
     "output_type": "stream",
     "text": [
      "(21498, 100, 40, 1) (21498, 3)\n",
      "(2301, 100, 40, 1) (2301, 3)\n",
      "(10946, 100, 40, 1) (10946, 3)\n"
     ]
    }
   ],
   "source": [
    "# Load data\n",
    "dec_data = np.loadtxt('train_HTO_case1.txt')\n",
    "dec_train = dec_data[:, :int(np.floor(dec_data.shape[1] * 0.9))]\n",
    "dec_val = dec_data[:, int(np.floor(dec_data.shape[1] * 0.9)):]\n",
    "dec_test = np.loadtxt('test_HTO_case1.txt')\n",
    "\n",
    "k = 0 # Which horizon to use for prediction\n",
    "T = 100 # The input dimension (time steps)\n",
    "n_hiddens = 64\n",
    "checkpoint_filepath = './HTO_deeplob_k0/weights' # Where to save the model weights.\n",
    "\n",
    "trainX_CNN, trainY_CNN = prepare_x_y(dec_train, k, T)\n",
    "valX_CNN, valY_CNN = prepare_x_y(dec_val, k, T)\n",
    "testX_CNN, testY_CNN = prepare_x_y(dec_test, k, T)\n",
    "\n",
    "print(trainX_CNN.shape, trainY_CNN.shape)\n",
    "print(valX_CNN.shape, valY_CNN.shape)\n",
    "print(testX_CNN.shape, testY_CNN.shape)"
   ]
  },
  {
   "cell_type": "markdown",
   "metadata": {},
   "source": [
    "# Model Architecture\n"
   ]
  },
  {
   "cell_type": "code",
   "execution_count": null,
   "metadata": {},
   "outputs": [
    {
     "name": "stderr",
     "output_type": "stream",
     "text": [
      "2024-08-11 16:16:25.393516: I tensorflow/core/platform/cpu_feature_guard.cc:193] This TensorFlow binary is optimized with oneAPI Deep Neural Network Library (oneDNN) to use the following CPU instructions in performance-critical operations:  SSE4.1 SSE4.2\n",
      "To enable them in other operations, rebuild TensorFlow with the appropriate compiler flags.\n"
     ]
    },
    {
     "name": "stdout",
     "output_type": "stream",
     "text": [
      "Model: \"model\"\n",
      "__________________________________________________________________________________________________\n",
      " Layer (type)                   Output Shape         Param #     Connected to                     \n",
      "==================================================================================================\n",
      " input_1 (InputLayer)           [(None, 100, 40, 1)  0           []                               \n",
      "                                ]                                                                 \n",
      "                                                                                                  \n",
      " conv2d (Conv2D)                (None, 100, 20, 16)  48          ['input_1[0][0]']                \n",
      "                                                                                                  \n",
      " leaky_re_lu (LeakyReLU)        (None, 100, 20, 16)  0           ['conv2d[0][0]']                 \n",
      "                                                                                                  \n",
      " conv2d_1 (Conv2D)              (None, 100, 20, 16)  1040        ['leaky_re_lu[0][0]']            \n",
      "                                                                                                  \n",
      " leaky_re_lu_1 (LeakyReLU)      (None, 100, 20, 16)  0           ['conv2d_1[0][0]']               \n",
      "                                                                                                  \n",
      " conv2d_2 (Conv2D)              (None, 100, 20, 16)  1040        ['leaky_re_lu_1[0][0]']          \n",
      "                                                                                                  \n",
      " leaky_re_lu_2 (LeakyReLU)      (None, 100, 20, 16)  0           ['conv2d_2[0][0]']               \n",
      "                                                                                                  \n",
      " conv2d_3 (Conv2D)              (None, 100, 10, 16)  528         ['leaky_re_lu_2[0][0]']          \n",
      "                                                                                                  \n",
      " leaky_re_lu_3 (LeakyReLU)      (None, 100, 10, 16)  0           ['conv2d_3[0][0]']               \n",
      "                                                                                                  \n",
      " conv2d_4 (Conv2D)              (None, 100, 10, 16)  1040        ['leaky_re_lu_3[0][0]']          \n",
      "                                                                                                  \n",
      " leaky_re_lu_4 (LeakyReLU)      (None, 100, 10, 16)  0           ['conv2d_4[0][0]']               \n",
      "                                                                                                  \n",
      " conv2d_5 (Conv2D)              (None, 100, 10, 16)  1040        ['leaky_re_lu_4[0][0]']          \n",
      "                                                                                                  \n",
      " leaky_re_lu_5 (LeakyReLU)      (None, 100, 10, 16)  0           ['conv2d_5[0][0]']               \n",
      "                                                                                                  \n",
      " conv2d_6 (Conv2D)              (None, 100, 1, 16)   2576        ['leaky_re_lu_5[0][0]']          \n",
      "                                                                                                  \n",
      " leaky_re_lu_6 (LeakyReLU)      (None, 100, 1, 16)   0           ['conv2d_6[0][0]']               \n",
      "                                                                                                  \n",
      " conv2d_7 (Conv2D)              (None, 100, 1, 16)   1040        ['leaky_re_lu_6[0][0]']          \n",
      "                                                                                                  \n",
      " leaky_re_lu_7 (LeakyReLU)      (None, 100, 1, 16)   0           ['conv2d_7[0][0]']               \n",
      "                                                                                                  \n",
      " conv2d_8 (Conv2D)              (None, 100, 1, 16)   1040        ['leaky_re_lu_7[0][0]']          \n",
      "                                                                                                  \n",
      " leaky_re_lu_8 (LeakyReLU)      (None, 100, 1, 16)   0           ['conv2d_8[0][0]']               \n",
      "                                                                                                  \n",
      " conv2d_9 (Conv2D)              (None, 100, 1, 32)   544         ['leaky_re_lu_8[0][0]']          \n",
      "                                                                                                  \n",
      " conv2d_11 (Conv2D)             (None, 100, 1, 32)   544         ['leaky_re_lu_8[0][0]']          \n",
      "                                                                                                  \n",
      " leaky_re_lu_9 (LeakyReLU)      (None, 100, 1, 32)   0           ['conv2d_9[0][0]']               \n",
      "                                                                                                  \n",
      " leaky_re_lu_11 (LeakyReLU)     (None, 100, 1, 32)   0           ['conv2d_11[0][0]']              \n",
      "                                                                                                  \n",
      " max_pooling2d (MaxPooling2D)   (None, 100, 1, 16)   0           ['leaky_re_lu_8[0][0]']          \n",
      "                                                                                                  \n",
      " conv2d_10 (Conv2D)             (None, 100, 1, 32)   3104        ['leaky_re_lu_9[0][0]']          \n",
      "                                                                                                  \n",
      " conv2d_12 (Conv2D)             (None, 100, 1, 32)   5152        ['leaky_re_lu_11[0][0]']         \n",
      "                                                                                                  \n",
      " conv2d_13 (Conv2D)             (None, 100, 1, 32)   544         ['max_pooling2d[0][0]']          \n",
      "                                                                                                  \n",
      " leaky_re_lu_10 (LeakyReLU)     (None, 100, 1, 32)   0           ['conv2d_10[0][0]']              \n",
      "                                                                                                  \n",
      " leaky_re_lu_12 (LeakyReLU)     (None, 100, 1, 32)   0           ['conv2d_12[0][0]']              \n",
      "                                                                                                  \n",
      " leaky_re_lu_13 (LeakyReLU)     (None, 100, 1, 32)   0           ['conv2d_13[0][0]']              \n",
      "                                                                                                  \n",
      " concatenate (Concatenate)      (None, 100, 1, 96)   0           ['leaky_re_lu_10[0][0]',         \n",
      "                                                                  'leaky_re_lu_12[0][0]',         \n",
      "                                                                  'leaky_re_lu_13[0][0]']         \n",
      "                                                                                                  \n",
      " reshape (Reshape)              (None, 100, 96)      0           ['concatenate[0][0]']            \n",
      "                                                                                                  \n",
      " dropout (Dropout)              (None, 100, 96)      0           ['reshape[0][0]']                \n",
      "                                                                                                  \n",
      " lstm (LSTM)                    (None, 64)           41216       ['dropout[0][0]']                \n",
      "                                                                                                  \n",
      " dense (Dense)                  (None, 3)            195         ['lstm[0][0]']                   \n",
      "                                                                                                  \n",
      "==================================================================================================\n",
      "Total params: 60,691\n",
      "Trainable params: 60,691\n",
      "Non-trainable params: 0\n",
      "__________________________________________________________________________________________________\n"
     ]
    },
    {
     "name": "stderr",
     "output_type": "stream",
     "text": [
      "/Users/lamprosganias/opt/anaconda3/envs/ML/lib/python3.10/site-packages/keras/optimizers/optimizer_v2/adam.py:110: UserWarning: The `lr` argument is deprecated, use `learning_rate` instead.\n",
      "  super(Adam, self).__init__(name, **kwargs)\n"
     ]
    }
   ],
   "source": [
    "def create_deeplob(T, NF, number_of_lstm):\n",
    "    input_lmd = Input(shape=(T, NF, 1))\n",
    "    \n",
    "    # build the convolutional block\n",
    "    conv_first1 = Conv2D(16, (1, 2), strides=(1, 2))(input_lmd)\n",
    "    conv_first1 = keras.layers.LeakyReLU(alpha=0.01)(conv_first1)\n",
    "    conv_first1 = Conv2D(16, (4, 1), padding='same')(conv_first1)\n",
    "    conv_first1 = keras.layers.LeakyReLU(alpha=0.01)(conv_first1)\n",
    "    conv_first1 = Conv2D(16, (4, 1), padding='same')(conv_first1)\n",
    "    conv_first1 = keras.layers.LeakyReLU(alpha=0.01)(conv_first1)\n",
    "\n",
    "    conv_first1 = Conv2D(16, (1, 2), strides=(1, 2))(conv_first1)\n",
    "    conv_first1 = keras.layers.LeakyReLU(alpha=0.01)(conv_first1)\n",
    "    conv_first1 = Conv2D(16, (4, 1), padding='same')(conv_first1)\n",
    "    conv_first1 = keras.layers.LeakyReLU(alpha=0.01)(conv_first1)\n",
    "    conv_first1 = Conv2D(16, (4, 1), padding='same')(conv_first1)\n",
    "    conv_first1 = keras.layers.LeakyReLU(alpha=0.01)(conv_first1)\n",
    "\n",
    "    conv_first1 = Conv2D(16, (1, 10))(conv_first1)\n",
    "    conv_first1 = keras.layers.LeakyReLU(alpha=0.01)(conv_first1)\n",
    "    conv_first1 = Conv2D(16, (4, 1), padding='same')(conv_first1)\n",
    "    conv_first1 = keras.layers.LeakyReLU(alpha=0.01)(conv_first1)\n",
    "    conv_first1 = Conv2D(16, (4, 1), padding='same')(conv_first1)\n",
    "    conv_first1 = keras.layers.LeakyReLU(alpha=0.01)(conv_first1)\n",
    "    \n",
    "    # build the inception module\n",
    "    convsecond_1 = Conv2D(32, (1, 1), padding='same')(conv_first1)\n",
    "    convsecond_1 = keras.layers.LeakyReLU(alpha=0.01)(convsecond_1)\n",
    "    convsecond_1 = Conv2D(32, (3, 1), padding='same')(convsecond_1)\n",
    "    convsecond_1 = keras.layers.LeakyReLU(alpha=0.01)(convsecond_1)\n",
    "\n",
    "    convsecond_2 = Conv2D(32, (1, 1), padding='same')(conv_first1)\n",
    "    convsecond_2 = keras.layers.LeakyReLU(alpha=0.01)(convsecond_2)\n",
    "    convsecond_2 = Conv2D(32, (5, 1), padding='same')(convsecond_2)\n",
    "    convsecond_2 = keras.layers.LeakyReLU(alpha=0.01)(convsecond_2)\n",
    "\n",
    "    convsecond_3 = MaxPooling2D((3, 1), strides=(1, 1), padding='same')(conv_first1)\n",
    "    convsecond_3 = Conv2D(32, (1, 1), padding='same')(convsecond_3)\n",
    "    convsecond_3 = keras.layers.LeakyReLU(alpha=0.01)(convsecond_3)\n",
    "    \n",
    "    convsecond_output = keras.layers.concatenate([convsecond_1, convsecond_2, convsecond_3], axis=3)\n",
    "    conv_reshape = Reshape((int(convsecond_output.shape[1]), int(convsecond_output.shape[3])))(convsecond_output)\n",
    "    conv_reshape = keras.layers.Dropout(0.1, noise_shape=(None, 1, int(conv_reshape.shape[2])))(conv_reshape, training=True)\n",
    "    \n",
    "    # build the last LSTM layer\n",
    "    conv_lstm = LSTM(number_of_lstm)(conv_reshape)  # Change CuDNNLSTM to LSTM\n",
    "\n",
    "    # build the output layer\n",
    "    out = Dense(3, activation='softmax')(conv_lstm)\n",
    "    model = Model(inputs=input_lmd, outputs=out)\n",
    "    adam = keras.optimizers.Adam(lr=0.0001)\n",
    "    model.compile(optimizer=adam, loss='categorical_crossentropy', metrics=['accuracy'])\n",
    "\n",
    "    return model\n",
    "\n",
    "# Create the model\n",
    "deeplob = create_deeplob(trainX_CNN.shape[1], trainX_CNN.shape[2], n_hiddens)\n",
    "deeplob.summary()"
   ]
  },
  {
   "cell_type": "markdown",
   "metadata": {},
   "source": [
    "# Model Training"
   ]
  },
  {
   "cell_type": "code",
   "execution_count": 5,
   "metadata": {},
   "outputs": [
    {
     "name": "stdout",
     "output_type": "stream",
     "text": [
      "Epoch 1/50\n",
      "336/336 [==============================] - 39s 111ms/step - loss: 1.0376 - accuracy: 0.4369 - val_loss: 1.0250 - val_accuracy: 0.4611\n",
      "Epoch 2/50\n",
      "336/336 [==============================] - 41s 121ms/step - loss: 0.9967 - accuracy: 0.4756 - val_loss: 1.0374 - val_accuracy: 0.4542\n",
      "Epoch 3/50\n",
      "336/336 [==============================] - 43s 129ms/step - loss: 0.9739 - accuracy: 0.4969 - val_loss: 1.0630 - val_accuracy: 0.4607\n",
      "Epoch 4/50\n",
      "336/336 [==============================] - 43s 128ms/step - loss: 0.9618 - accuracy: 0.5063 - val_loss: 1.0131 - val_accuracy: 0.4663\n",
      "Epoch 5/50\n",
      "336/336 [==============================] - 44s 132ms/step - loss: 0.9520 - accuracy: 0.5143 - val_loss: 0.9997 - val_accuracy: 0.4763\n",
      "Epoch 6/50\n",
      "336/336 [==============================] - 49s 146ms/step - loss: 0.9422 - accuracy: 0.5224 - val_loss: 1.0525 - val_accuracy: 0.4650\n",
      "Epoch 7/50\n",
      "336/336 [==============================] - 42s 126ms/step - loss: 0.9359 - accuracy: 0.5277 - val_loss: 1.0405 - val_accuracy: 0.4633\n",
      "Epoch 8/50\n",
      "336/336 [==============================] - 43s 127ms/step - loss: 0.9289 - accuracy: 0.5367 - val_loss: 1.0008 - val_accuracy: 0.4802\n",
      "Epoch 9/50\n",
      "336/336 [==============================] - 42s 125ms/step - loss: 0.9206 - accuracy: 0.5417 - val_loss: 0.9828 - val_accuracy: 0.4828\n",
      "Epoch 10/50\n",
      "336/336 [==============================] - 42s 126ms/step - loss: 0.9122 - accuracy: 0.5538 - val_loss: 1.0255 - val_accuracy: 0.4728\n",
      "Epoch 11/50\n",
      "336/336 [==============================] - 43s 127ms/step - loss: 0.9007 - accuracy: 0.5691 - val_loss: 1.0121 - val_accuracy: 0.4911\n",
      "Epoch 12/50\n",
      "336/336 [==============================] - 43s 129ms/step - loss: 0.8901 - accuracy: 0.5801 - val_loss: 1.0104 - val_accuracy: 0.4985\n",
      "Epoch 13/50\n",
      "336/336 [==============================] - 43s 129ms/step - loss: 0.8725 - accuracy: 0.5960 - val_loss: 0.9889 - val_accuracy: 0.5076\n",
      "Epoch 14/50\n",
      "336/336 [==============================] - 43s 128ms/step - loss: 0.8524 - accuracy: 0.6113 - val_loss: 0.9351 - val_accuracy: 0.5498\n",
      "Epoch 15/50\n",
      "336/336 [==============================] - 42s 124ms/step - loss: 0.8375 - accuracy: 0.6261 - val_loss: 0.9103 - val_accuracy: 0.5771\n",
      "Epoch 16/50\n",
      "336/336 [==============================] - 42s 125ms/step - loss: 0.8153 - accuracy: 0.6418 - val_loss: 0.9096 - val_accuracy: 0.5741\n",
      "Epoch 17/50\n",
      "336/336 [==============================] - 43s 129ms/step - loss: 0.7936 - accuracy: 0.6561 - val_loss: 0.8873 - val_accuracy: 0.5841\n",
      "Epoch 18/50\n",
      "336/336 [==============================] - 42s 125ms/step - loss: 0.7823 - accuracy: 0.6620 - val_loss: 0.8923 - val_accuracy: 0.5841\n",
      "Epoch 19/50\n",
      "336/336 [==============================] - 42s 126ms/step - loss: 0.7632 - accuracy: 0.6731 - val_loss: 0.8379 - val_accuracy: 0.6093\n",
      "Epoch 20/50\n",
      "336/336 [==============================] - 42s 125ms/step - loss: 0.7524 - accuracy: 0.6789 - val_loss: 0.8279 - val_accuracy: 0.6180\n",
      "Epoch 21/50\n",
      "336/336 [==============================] - 42s 125ms/step - loss: 0.7424 - accuracy: 0.6845 - val_loss: 0.8368 - val_accuracy: 0.6150\n",
      "Epoch 22/50\n",
      "336/336 [==============================] - 42s 125ms/step - loss: 0.7333 - accuracy: 0.6889 - val_loss: 0.8326 - val_accuracy: 0.6128\n",
      "Epoch 23/50\n",
      "336/336 [==============================] - 42s 124ms/step - loss: 0.7291 - accuracy: 0.6912 - val_loss: 0.8048 - val_accuracy: 0.6471\n",
      "Epoch 24/50\n",
      "336/336 [==============================] - 42s 125ms/step - loss: 0.7157 - accuracy: 0.6997 - val_loss: 0.8260 - val_accuracy: 0.6210\n",
      "Epoch 25/50\n",
      "336/336 [==============================] - 42s 125ms/step - loss: 0.7104 - accuracy: 0.7018 - val_loss: 0.7991 - val_accuracy: 0.6302\n",
      "Epoch 26/50\n",
      "336/336 [==============================] - 42s 125ms/step - loss: 0.7068 - accuracy: 0.7021 - val_loss: 0.8016 - val_accuracy: 0.6467\n",
      "Epoch 27/50\n",
      "336/336 [==============================] - 42s 126ms/step - loss: 0.6984 - accuracy: 0.7078 - val_loss: 0.8071 - val_accuracy: 0.6323\n",
      "Epoch 28/50\n",
      "336/336 [==============================] - 43s 127ms/step - loss: 0.6969 - accuracy: 0.7104 - val_loss: 0.8492 - val_accuracy: 0.6293\n",
      "Epoch 29/50\n",
      "336/336 [==============================] - 42s 126ms/step - loss: 0.6882 - accuracy: 0.7151 - val_loss: 0.8103 - val_accuracy: 0.6375\n",
      "Epoch 30/50\n",
      "336/336 [==============================] - 42s 126ms/step - loss: 0.6888 - accuracy: 0.7167 - val_loss: 0.8682 - val_accuracy: 0.6106\n",
      "Epoch 31/50\n",
      "336/336 [==============================] - 43s 128ms/step - loss: 0.6817 - accuracy: 0.7179 - val_loss: 0.7772 - val_accuracy: 0.6458\n",
      "Epoch 32/50\n",
      "336/336 [==============================] - 43s 127ms/step - loss: 0.6759 - accuracy: 0.7209 - val_loss: 0.7983 - val_accuracy: 0.6375\n",
      "Epoch 33/50\n",
      "336/336 [==============================] - 43s 129ms/step - loss: 0.6735 - accuracy: 0.7207 - val_loss: 0.8123 - val_accuracy: 0.6375\n",
      "Epoch 34/50\n",
      "336/336 [==============================] - 42s 126ms/step - loss: 0.6718 - accuracy: 0.7232 - val_loss: 0.7694 - val_accuracy: 0.6510\n",
      "Epoch 35/50\n",
      "336/336 [==============================] - 42s 125ms/step - loss: 0.6688 - accuracy: 0.7220 - val_loss: 0.7667 - val_accuracy: 0.6645\n",
      "Epoch 36/50\n",
      "336/336 [==============================] - 42s 125ms/step - loss: 0.6649 - accuracy: 0.7262 - val_loss: 0.7677 - val_accuracy: 0.6519\n",
      "Epoch 37/50\n",
      "336/336 [==============================] - 42s 124ms/step - loss: 0.6567 - accuracy: 0.7262 - val_loss: 0.7600 - val_accuracy: 0.6549\n",
      "Epoch 38/50\n",
      "336/336 [==============================] - 42s 125ms/step - loss: 0.6523 - accuracy: 0.7309 - val_loss: 0.7613 - val_accuracy: 0.6575\n",
      "Epoch 39/50\n",
      "336/336 [==============================] - 42s 126ms/step - loss: 0.6511 - accuracy: 0.7318 - val_loss: 0.7617 - val_accuracy: 0.6601\n",
      "Epoch 40/50\n",
      "336/336 [==============================] - 42s 126ms/step - loss: 0.6448 - accuracy: 0.7343 - val_loss: 0.7607 - val_accuracy: 0.6549\n",
      "Epoch 41/50\n",
      "336/336 [==============================] - 42s 125ms/step - loss: 0.6446 - accuracy: 0.7347 - val_loss: 0.7581 - val_accuracy: 0.6615\n",
      "Epoch 42/50\n",
      "336/336 [==============================] - 42s 125ms/step - loss: 0.6452 - accuracy: 0.7364 - val_loss: 0.7490 - val_accuracy: 0.6728\n",
      "Epoch 43/50\n",
      "336/336 [==============================] - 42s 125ms/step - loss: 0.6373 - accuracy: 0.7397 - val_loss: 0.7630 - val_accuracy: 0.6601\n",
      "Epoch 44/50\n",
      "336/336 [==============================] - 42s 125ms/step - loss: 0.6324 - accuracy: 0.7415 - val_loss: 0.7553 - val_accuracy: 0.6667\n",
      "Epoch 45/50\n",
      "336/336 [==============================] - 42s 125ms/step - loss: 0.6327 - accuracy: 0.7410 - val_loss: 0.7628 - val_accuracy: 0.6628\n",
      "Epoch 46/50\n",
      "336/336 [==============================] - 42s 125ms/step - loss: 0.6308 - accuracy: 0.7406 - val_loss: 0.7500 - val_accuracy: 0.6701\n",
      "Epoch 47/50\n",
      "336/336 [==============================] - 42s 125ms/step - loss: 0.6251 - accuracy: 0.7449 - val_loss: 0.7740 - val_accuracy: 0.6528\n",
      "Epoch 48/50\n",
      "336/336 [==============================] - 42s 125ms/step - loss: 0.6218 - accuracy: 0.7446 - val_loss: 0.7580 - val_accuracy: 0.6645\n"
     ]
    },
    {
     "data": {
      "text/plain": [
       "<keras.callbacks.History at 0x7ff40c3ea080>"
      ]
     },
     "execution_count": 5,
     "metadata": {},
     "output_type": "execute_result"
    }
   ],
   "source": [
    "# Set up the checkpoint callback\n",
    "model_checkpoint_callback = tf.keras.callbacks.ModelCheckpoint(\n",
    "    filepath=checkpoint_filepath,\n",
    "    save_weights_only=True,\n",
    "    monitor='val_loss',\n",
    "    mode='auto',\n",
    "    save_best_only=True\n",
    ")\n",
    "\n",
    "early_stopping = EarlyStopping(monitor='val_loss', patience=6, restore_best_weights=True)\n",
    "\n",
    "# Train the model\n",
    "deeplob.fit(trainX_CNN, trainY_CNN, validation_data=(valX_CNN, valY_CNN), \n",
    "            epochs=50, batch_size=64, verbose=1, callbacks=[model_checkpoint_callback,early_stopping])\n"
   ]
  },
  {
   "cell_type": "code",
   "execution_count": 9,
   "metadata": {},
   "outputs": [
    {
     "name": "stdout",
     "output_type": "stream",
     "text": [
      "Epoch 1/20\n",
      "336/336 [==============================] - 38s 112ms/step - loss: 0.6390 - accuracy: 0.7403 - val_loss: 0.7775 - val_accuracy: 0.6532\n",
      "Epoch 2/20\n",
      "336/336 [==============================] - 40s 119ms/step - loss: 0.6329 - accuracy: 0.7423 - val_loss: 0.7612 - val_accuracy: 0.6545\n",
      "Epoch 3/20\n",
      "336/336 [==============================] - 40s 120ms/step - loss: 0.6341 - accuracy: 0.7410 - val_loss: 0.7813 - val_accuracy: 0.6441\n",
      "Epoch 4/20\n",
      "336/336 [==============================] - 43s 129ms/step - loss: 0.6290 - accuracy: 0.7416 - val_loss: 0.7545 - val_accuracy: 0.6662\n",
      "Epoch 5/20\n",
      "336/336 [==============================] - 41s 123ms/step - loss: 0.6283 - accuracy: 0.7452 - val_loss: 0.8350 - val_accuracy: 0.6397\n",
      "Epoch 6/20\n",
      "336/336 [==============================] - 41s 123ms/step - loss: 0.6210 - accuracy: 0.7475 - val_loss: 0.7630 - val_accuracy: 0.6615\n",
      "Epoch 7/20\n",
      "336/336 [==============================] - 42s 125ms/step - loss: 0.6231 - accuracy: 0.7460 - val_loss: 0.7461 - val_accuracy: 0.6706\n",
      "Epoch 8/20\n",
      "336/336 [==============================] - 44s 131ms/step - loss: 0.6203 - accuracy: 0.7460 - val_loss: 0.8013 - val_accuracy: 0.6458\n",
      "Epoch 9/20\n",
      "336/336 [==============================] - 42s 124ms/step - loss: 0.6143 - accuracy: 0.7486 - val_loss: 0.7589 - val_accuracy: 0.6628\n",
      "Epoch 10/20\n",
      "336/336 [==============================] - 42s 124ms/step - loss: 0.6141 - accuracy: 0.7520 - val_loss: 0.7412 - val_accuracy: 0.6758\n",
      "Epoch 11/20\n",
      "336/336 [==============================] - 42s 124ms/step - loss: 0.6095 - accuracy: 0.7515 - val_loss: 0.7717 - val_accuracy: 0.6667\n",
      "Epoch 12/20\n",
      "336/336 [==============================] - 42s 125ms/step - loss: 0.6092 - accuracy: 0.7514 - val_loss: 0.7415 - val_accuracy: 0.6728\n",
      "Epoch 13/20\n",
      "336/336 [==============================] - 42s 126ms/step - loss: 0.6047 - accuracy: 0.7544 - val_loss: 0.7401 - val_accuracy: 0.6767\n",
      "Epoch 14/20\n",
      "336/336 [==============================] - 42s 125ms/step - loss: 0.6048 - accuracy: 0.7572 - val_loss: 0.7417 - val_accuracy: 0.6736\n",
      "Epoch 15/20\n",
      "336/336 [==============================] - 43s 127ms/step - loss: 0.6001 - accuracy: 0.7565 - val_loss: 0.7506 - val_accuracy: 0.6684\n",
      "Epoch 16/20\n",
      "336/336 [==============================] - 42s 126ms/step - loss: 0.5995 - accuracy: 0.7574 - val_loss: 0.7601 - val_accuracy: 0.6558\n",
      "Epoch 17/20\n",
      "336/336 [==============================] - 42s 125ms/step - loss: 0.5956 - accuracy: 0.7604 - val_loss: 0.7682 - val_accuracy: 0.6684\n",
      "Epoch 18/20\n",
      "336/336 [==============================] - 42s 124ms/step - loss: 0.5940 - accuracy: 0.7605 - val_loss: 0.7641 - val_accuracy: 0.6588\n",
      "Epoch 19/20\n",
      "336/336 [==============================] - 42s 126ms/step - loss: 0.5894 - accuracy: 0.7609 - val_loss: 0.7326 - val_accuracy: 0.6784\n",
      "Epoch 20/20\n",
      "336/336 [==============================] - 42s 125ms/step - loss: 0.5914 - accuracy: 0.7652 - val_loss: 0.7571 - val_accuracy: 0.6610\n"
     ]
    },
    {
     "data": {
      "text/plain": [
       "<keras.callbacks.History at 0x7ff3e14f03a0>"
      ]
     },
     "execution_count": 9,
     "metadata": {},
     "output_type": "execute_result"
    }
   ],
   "source": [
    "# Train the model\n",
    "deeplob.fit(trainX_CNN, trainY_CNN, validation_data=(valX_CNN, valY_CNN), \n",
    "            epochs=20, batch_size=64, verbose=1, callbacks=[model_checkpoint_callback,early_stopping])"
   ]
  },
  {
   "cell_type": "markdown",
   "metadata": {},
   "source": [
    "# Model Testing"
   ]
  },
  {
   "cell_type": "code",
   "execution_count": null,
   "metadata": {},
   "outputs": [
    {
     "name": "stdout",
     "output_type": "stream",
     "text": [
      "343/343 [==============================] - 9s 26ms/step\n",
      "accuracy_score: 0.6490955600219258\n",
      "              precision    recall  f1-score   support\n",
      "\n",
      "           0     0.7006    0.6597    0.6795      3891\n",
      "           1     0.5575    0.6519    0.6010      3212\n",
      "           2     0.6931    0.6360    0.6633      3843\n",
      "\n",
      "    accuracy                         0.6491     10946\n",
      "   macro avg     0.6504    0.6492    0.6480     10946\n",
      "weighted avg     0.6560    0.6491    0.6508     10946\n",
      "\n"
     ]
    }
   ],
   "source": [
    "deeplob.load_weights(checkpoint_filepath)\n",
    "pred = deeplob.predict(testX_CNN)\n",
    "\n",
    "\n",
    "print('accuracy_score:', accuracy_score(np.argmax(testY_CNN, axis=1), np.argmax(pred, axis=1)))\n",
    "print(classification_report(np.argmax(testY_CNN, axis=1), np.argmax(pred, axis=1), digits=4))"
   ]
  },
  {
   "cell_type": "code",
   "execution_count": null,
   "metadata": {},
   "outputs": [
    {
     "data": {
      "image/png": "[encoded data removed]",
      "text/plain": [
       "<Figure size 1000x700 with 2 Axes>"
      ]
     },
     "metadata": {},
     "output_type": "display_data"
    }
   ],
   "source": [
    "# Convert one-hot encoded vectors to class labels\n",
    "true_labels = np.argmax(testY_CNN, axis=1)\n",
    "predicted_labels = np.argmax(pred, axis=1)\n",
    "\n",
    "# Compute the confusion matrix\n",
    "conf_matrix = confusion_matrix(true_labels, predicted_labels)\n",
    "\n",
    "\n",
    "# Plotting using seaborn\n",
    "plt.figure(figsize=(10, 7))\n",
    "sns.heatmap(conf_matrix, annot=True, fmt=\"d\", cmap=\"Blues\", xticklabels=[0, 1, 2], yticklabels=[0, 1, 2])\n",
    "plt.title('Confusion Matrix')\n",
    "plt.ylabel('True Label')\n",
    "plt.xlabel('Predicted Label')\n",
    "plt.show()"
   ]
  }
 ],
 "metadata": {
  "kernelspec": {
   "display_name": "ML",
   "language": "python",
   "name": "python3"
  },
  "language_info": {
   "codemirror_mode": {
    "name": "ipython",
    "version": 3
   },
   "file_extension": ".py",
   "mimetype": "text/x-python",
   "name": "python",
   "nbconvert_exporter": "python",
   "pygments_lexer": "ipython3",
   "version": "3.10.6"
  }
 },
 "nbformat": 4,
 "nbformat_minor": 2
}
